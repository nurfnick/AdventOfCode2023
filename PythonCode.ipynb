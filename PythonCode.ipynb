{
  "nbformat": 4,
  "nbformat_minor": 0,
  "metadata": {
    "colab": {
      "provenance": [],
      "authorship_tag": "ABX9TyN8S4cnmVs2sVSvsYQPrMC7",
      "include_colab_link": true
    },
    "kernelspec": {
      "name": "python3",
      "display_name": "Python 3"
    },
    "language_info": {
      "name": "python"
    }
  },
  "cells": [
    {
      "cell_type": "markdown",
      "metadata": {
        "id": "view-in-github",
        "colab_type": "text"
      },
      "source": [
        "<a href=\"https://colab.research.google.com/github/nurfnick/AdventOfCode2023/blob/main/PythonCode.ipynb\" target=\"_parent\"><img src=\"https://colab.research.google.com/assets/colab-badge.svg\" alt=\"Open In Colab\"/></a>"
      ]
    },
    {
      "cell_type": "markdown",
      "source": [
        "# Advent of Code"
      ],
      "metadata": {
        "id": "DbCSKA7w_fU4"
      }
    },
    {
      "cell_type": "code",
      "source": [
        "import numpy as np\n",
        "import pandas as pa"
      ],
      "metadata": {
        "id": "QwZjymhT_qD0"
      },
      "execution_count": 1,
      "outputs": []
    },
    {
      "cell_type": "markdown",
      "source": [
        "## Day 1:  Find the Numbers in a String"
      ],
      "metadata": {
        "id": "MvVEpd6N_iwX"
      }
    },
    {
      "cell_type": "code",
      "execution_count": 22,
      "metadata": {
        "id": "ILEPiLRo_eE9"
      },
      "outputs": [],
      "source": [
        "data = pa.read_csv('https://raw.githubusercontent.com/nurfnick/AdventOfCode2023/main/input1',header = None)"
      ]
    },
    {
      "cell_type": "code",
      "source": [
        "data.iloc(0)[1,0]"
      ],
      "metadata": {
        "colab": {
          "base_uri": "https://localhost:8080/",
          "height": 35
        },
        "id": "2ABY5I4P_7Wa",
        "outputId": "c5a69d75-d2f2-45a6-841e-e28de6112c36"
      },
      "execution_count": 46,
      "outputs": [
        {
          "output_type": "execute_result",
          "data": {
            "text/plain": [
              "'9nnqljsixkzphvtmtr'"
            ],
            "application/vnd.google.colaboratory.intrinsic+json": {
              "type": "string"
            }
          },
          "metadata": {},
          "execution_count": 46
        }
      ]
    },
    {
      "cell_type": "code",
      "source": [
        "not data.iloc(0)[0,0][0].isdigit()\n",
        "k = 1"
      ],
      "metadata": {
        "id": "7chZJ7uZAWJ0"
      },
      "execution_count": 47,
      "outputs": []
    },
    {
      "cell_type": "code",
      "source": [
        "i = 0\n",
        "characterFromFrontString = data.iloc(0)[k,0][i]\n",
        "while not characterFromFrontString.isdigit():\n",
        "  i+=1\n",
        "  characterFromFrontString = data.iloc(0)[k,0][i]\n",
        "\n",
        "characterFromFrontString"
      ],
      "metadata": {
        "colab": {
          "base_uri": "https://localhost:8080/",
          "height": 35
        },
        "id": "lEaHdwnhCurq",
        "outputId": "ea04c043-4a54-4b07-9a6b-28bb0c910bfb"
      },
      "execution_count": 52,
      "outputs": [
        {
          "output_type": "execute_result",
          "data": {
            "text/plain": [
              "'9'"
            ],
            "application/vnd.google.colaboratory.intrinsic+json": {
              "type": "string"
            }
          },
          "metadata": {},
          "execution_count": 52
        }
      ]
    },
    {
      "cell_type": "code",
      "source": [
        "i = -1\n",
        "characterFromBackString = data.iloc(0)[k,0][i]\n",
        "while not characterFromBackString.isdigit():\n",
        "  i-=1\n",
        "  characterFromBackString = data.iloc(0)[k,0][i]\n",
        "\n",
        "characterFromBackString"
      ],
      "metadata": {
        "colab": {
          "base_uri": "https://localhost:8080/",
          "height": 35
        },
        "id": "mgEmcVdaDrvv",
        "outputId": "b6378f92-b6d7-4aa6-bd7d-5362cd7f8055"
      },
      "execution_count": 53,
      "outputs": [
        {
          "output_type": "execute_result",
          "data": {
            "text/plain": [
              "'9'"
            ],
            "application/vnd.google.colaboratory.intrinsic+json": {
              "type": "string"
            }
          },
          "metadata": {},
          "execution_count": 53
        }
      ]
    },
    {
      "cell_type": "code",
      "source": [
        "int(characterFromFrontString + characterFromBackString)"
      ],
      "metadata": {
        "colab": {
          "base_uri": "https://localhost:8080/"
        },
        "id": "HyzrkNGJDxcm",
        "outputId": "893027c0-06ed-4ec4-d228-bc3c2768458e"
      },
      "execution_count": 51,
      "outputs": [
        {
          "output_type": "execute_result",
          "data": {
            "text/plain": [
              "99"
            ]
          },
          "metadata": {},
          "execution_count": 51
        }
      ]
    },
    {
      "cell_type": "code",
      "source": [
        "sum = 0\n",
        "\n",
        "for k in range(1000):\n",
        "  i = 0\n",
        "  characterFromFrontString = data.iloc(0)[k,0][i]\n",
        "  while not characterFromFrontString.isdigit():\n",
        "    i+=1\n",
        "    characterFromFrontString = data.iloc(0)[k,0][i]\n",
        "  i = -1\n",
        "  characterFromBackString = data.iloc(0)[k,0][i]\n",
        "  while not characterFromBackString.isdigit():\n",
        "    i-=1\n",
        "    characterFromBackString = data.iloc(0)[k,0][i]\n",
        "  sum += int(characterFromFrontString + characterFromBackString)\n",
        "\n",
        "\n"
      ],
      "metadata": {
        "id": "vBjI9vBJEYXo"
      },
      "execution_count": 60,
      "outputs": []
    },
    {
      "cell_type": "code",
      "source": [
        "sum"
      ],
      "metadata": {
        "colab": {
          "base_uri": "https://localhost:8080/"
        },
        "id": "jNtnoTaHEwZH",
        "outputId": "8069d7ee-cc5e-40f2-f560-698dee7f04d2"
      },
      "execution_count": 61,
      "outputs": [
        {
          "output_type": "execute_result",
          "data": {
            "text/plain": [
              "55834"
            ]
          },
          "metadata": {},
          "execution_count": 61
        }
      ]
    },
    {
      "cell_type": "markdown",
      "source": [
        "Got that one correct.  Now need to check if the digit is spelled out..."
      ],
      "metadata": {
        "id": "UjNbZRz5FmR4"
      }
    },
    {
      "cell_type": "code",
      "source": [
        "digits = ['one','two','three','four','five','six','seven','eight','nine']"
      ],
      "metadata": {
        "id": "KGQi9pHREw17"
      },
      "execution_count": 56,
      "outputs": []
    },
    {
      "cell_type": "code",
      "source": [
        "'oone' in digits"
      ],
      "metadata": {
        "colab": {
          "base_uri": "https://localhost:8080/"
        },
        "id": "Nwk_zDOjF1Oi",
        "outputId": "e7f372c4-8f8c-4766-b8b8-546db9626600"
      },
      "execution_count": 59,
      "outputs": [
        {
          "output_type": "execute_result",
          "data": {
            "text/plain": [
              "False"
            ]
          },
          "metadata": {},
          "execution_count": 59
        }
      ]
    },
    {
      "cell_type": "code",
      "source": [
        "fullString = data.iloc(0)[0,0]\n",
        "i = -8\n",
        "fullString[i-3:i] not in digits or fullString[i-4:i] not in digits or fullString[i-5:i] not in digits"
      ],
      "metadata": {
        "colab": {
          "base_uri": "https://localhost:8080/"
        },
        "id": "xDTWfyw6G6ZB",
        "outputId": "8f168b0d-ab02-4768-d102-1feba24695f8"
      },
      "execution_count": 106,
      "outputs": [
        {
          "output_type": "execute_result",
          "data": {
            "text/plain": [
              "True"
            ]
          },
          "metadata": {},
          "execution_count": 106
        }
      ]
    },
    {
      "cell_type": "code",
      "source": [
        "fullString[i:i+3]"
      ],
      "metadata": {
        "colab": {
          "base_uri": "https://localhost:8080/",
          "height": 35
        },
        "id": "xRiDDW92IB2-",
        "outputId": "18c0f53e-2c97-467c-fc6f-b5abfbbb99eb"
      },
      "execution_count": 78,
      "outputs": [
        {
          "output_type": "execute_result",
          "data": {
            "text/plain": [
              "'8lf'"
            ],
            "application/vnd.google.colaboratory.intrinsic+json": {
              "type": "string"
            }
          },
          "metadata": {},
          "execution_count": 78
        }
      ]
    },
    {
      "cell_type": "code",
      "source": [
        "fullString[-4:]"
      ],
      "metadata": {
        "colab": {
          "base_uri": "https://localhost:8080/",
          "height": 35
        },
        "id": "5U6vDnAUHv1Z",
        "outputId": "c1dbf9bd-975a-4220-83b5-89f3b7cc9d2f"
      },
      "execution_count": 114,
      "outputs": [
        {
          "output_type": "execute_result",
          "data": {
            "text/plain": [
              "'even'"
            ],
            "application/vnd.google.colaboratory.intrinsic+json": {
              "type": "string"
            }
          },
          "metadata": {},
          "execution_count": 114
        }
      ]
    },
    {
      "cell_type": "code",
      "source": [
        "digitsDict = {'one':'1','two':'2','three':'3','four':'4','five':'5','six':'6','seven':'7','eight':'8','nine':'9'}"
      ],
      "metadata": {
        "id": "22gouWnyI3F4"
      },
      "execution_count": 79,
      "outputs": []
    },
    {
      "cell_type": "code",
      "source": [
        "#digitsDict['one']"
      ],
      "metadata": {
        "colab": {
          "base_uri": "https://localhost:8080/",
          "height": 35
        },
        "id": "RfYgJzbLJKEl",
        "outputId": "e07fe221-a119-4228-c33f-045fae345c8b"
      },
      "execution_count": 115,
      "outputs": [
        {
          "output_type": "execute_result",
          "data": {
            "text/plain": [
              "'1'"
            ],
            "application/vnd.google.colaboratory.intrinsic+json": {
              "type": "string"
            }
          },
          "metadata": {},
          "execution_count": 115
        }
      ]
    },
    {
      "cell_type": "code",
      "source": [
        "def findWhichDigit(fullString,pos,Front):\n",
        "  if Front:\n",
        "    if fullString[pos].isdigit():\n",
        "      return fullString[pos]\n",
        "    elif fullString[pos-2:pos+1] in digits:\n",
        "      return digitsDict[fullString[pos-2:pos+1]]\n",
        "    elif fullString[pos-3:pos+1] in digits:\n",
        "      return digitsDict[fullString[pos-3:pos+1]]\n",
        "    elif fullString[pos-4:pos+1] in digits:\n",
        "      return digitsDict[fullString[pos-4:pos+1]]\n",
        "  elif not Front:\n",
        "    if fullString[pos].isdigit():\n",
        "      return fullString[pos]\n",
        "    elif fullString[pos:pos+3] in digits:\n",
        "      return digitsDict[fullString[pos:pos+3]]\n",
        "    elif fullString[pos:pos+4] in digits:\n",
        "      return digitsDict[fullString[pos:pos+4]]\n",
        "    elif fullString[pos:pos+5] in digits:\n",
        "      return digitsDict[fullString[pos:pos+5]]"
      ],
      "metadata": {
        "id": "0W_B6yNrJPfH"
      },
      "execution_count": 93,
      "outputs": []
    },
    {
      "cell_type": "code",
      "source": [
        "findWhichDigit(fullString,-8,False)"
      ],
      "metadata": {
        "colab": {
          "base_uri": "https://localhost:8080/",
          "height": 35
        },
        "id": "N5RcRURSKZsU",
        "outputId": "d9d98a47-a234-496c-d564-1abb77b05df2"
      },
      "execution_count": 95,
      "outputs": [
        {
          "output_type": "execute_result",
          "data": {
            "text/plain": [
              "'8'"
            ],
            "application/vnd.google.colaboratory.intrinsic+json": {
              "type": "string"
            }
          },
          "metadata": {},
          "execution_count": 95
        }
      ]
    },
    {
      "cell_type": "code",
      "source": [
        "sum = 0\n",
        "\n",
        "for k in range(1000):\n",
        "  fullString = data.iloc(0)[k,0]\n",
        "  i = 0\n",
        "  characterFromFrontString = data.iloc(0)[k,0][i]\n",
        "  while not characterFromFrontString.isdigit() and fullString[i-2:i+1] not in digits and fullString[i-3:i+1] not in digits and fullString[i-4:i+1] not in digits:\n",
        "    i+=1\n",
        "    characterFromFrontString = data.iloc(0)[k,0][i]\n",
        "  characterFromFrontString = findWhichDigit(fullString,i,True)\n",
        "  i = -1\n",
        "  characterFromBackString = data.iloc(0)[k,0][i]\n",
        "  while not characterFromBackString.isdigit() and fullString[i:i+3] not in digits and fullString[i:i+4] not in digits and fullString[i:i+5] not in digits:\n",
        "    i-=1\n",
        "    characterFromBackString = data.iloc(0)[k,0][i]\n",
        "  characterFromBackString = findWhichDigit(fullString,i,False)\n",
        "  print(int(characterFromFrontString + characterFromBackString))\n",
        "  sum += int(characterFromFrontString + characterFromBackString)"
      ],
      "metadata": {
        "colab": {
          "base_uri": "https://localhost:8080/"
        },
        "id": "7tW5ZI8iGV4b",
        "outputId": "4af6bc67-b000-4b3a-fc64-b1467ea36c82"
      },
      "execution_count": 103,
      "outputs": [
        {
          "output_type": "stream",
          "name": "stdout",
          "text": [
            "29\n",
            "96\n",
            "52\n",
            "57\n",
            "39\n",
            "49\n",
            "43\n",
            "16\n",
            "62\n",
            "79\n",
            "24\n",
            "36\n",
            "13\n",
            "55\n",
            "89\n",
            "24\n",
            "13\n",
            "86\n",
            "19\n",
            "53\n",
            "83\n",
            "63\n",
            "32\n",
            "19\n",
            "85\n",
            "36\n",
            "13\n",
            "85\n",
            "31\n",
            "38\n",
            "82\n",
            "34\n",
            "38\n",
            "35\n",
            "47\n",
            "91\n",
            "95\n",
            "93\n",
            "64\n",
            "66\n",
            "14\n",
            "78\n",
            "11\n",
            "35\n",
            "22\n",
            "47\n",
            "39\n",
            "19\n",
            "66\n",
            "78\n",
            "91\n",
            "94\n",
            "25\n",
            "84\n",
            "91\n",
            "47\n",
            "98\n",
            "65\n",
            "94\n",
            "12\n",
            "61\n",
            "71\n",
            "68\n",
            "76\n",
            "82\n",
            "29\n",
            "37\n",
            "17\n",
            "74\n",
            "37\n",
            "22\n",
            "45\n",
            "59\n",
            "25\n",
            "77\n",
            "28\n",
            "32\n",
            "22\n",
            "18\n",
            "86\n",
            "64\n",
            "32\n",
            "98\n",
            "52\n",
            "62\n",
            "86\n",
            "33\n",
            "78\n",
            "59\n",
            "51\n",
            "22\n",
            "95\n",
            "11\n",
            "82\n",
            "37\n",
            "65\n",
            "77\n",
            "12\n",
            "63\n",
            "21\n",
            "64\n",
            "51\n",
            "42\n",
            "21\n",
            "27\n",
            "51\n",
            "51\n",
            "26\n",
            "27\n",
            "15\n",
            "28\n",
            "77\n",
            "62\n",
            "82\n",
            "55\n",
            "86\n",
            "99\n",
            "47\n",
            "52\n",
            "57\n",
            "18\n",
            "36\n",
            "55\n",
            "44\n",
            "52\n",
            "83\n",
            "86\n",
            "81\n",
            "78\n",
            "88\n",
            "27\n",
            "37\n",
            "89\n",
            "54\n",
            "17\n",
            "93\n",
            "93\n",
            "97\n",
            "11\n",
            "91\n",
            "26\n",
            "95\n",
            "21\n",
            "99\n",
            "66\n",
            "62\n",
            "42\n",
            "84\n",
            "99\n",
            "56\n",
            "73\n",
            "16\n",
            "63\n",
            "48\n",
            "11\n",
            "31\n",
            "99\n",
            "89\n",
            "16\n",
            "92\n",
            "96\n",
            "97\n",
            "43\n",
            "74\n",
            "84\n",
            "52\n",
            "77\n",
            "14\n",
            "79\n",
            "22\n",
            "88\n",
            "76\n",
            "33\n",
            "19\n",
            "32\n",
            "44\n",
            "65\n",
            "66\n",
            "87\n",
            "39\n",
            "55\n",
            "63\n",
            "12\n",
            "47\n",
            "66\n",
            "51\n",
            "88\n",
            "39\n",
            "34\n",
            "85\n",
            "81\n",
            "76\n",
            "19\n",
            "12\n",
            "96\n",
            "52\n",
            "79\n",
            "93\n",
            "89\n",
            "15\n",
            "44\n",
            "69\n",
            "52\n",
            "53\n",
            "38\n",
            "54\n",
            "23\n",
            "77\n",
            "13\n",
            "93\n",
            "95\n",
            "78\n",
            "74\n",
            "62\n",
            "49\n",
            "87\n",
            "65\n",
            "88\n",
            "99\n",
            "19\n",
            "96\n",
            "99\n",
            "35\n",
            "88\n",
            "41\n",
            "62\n",
            "77\n",
            "49\n",
            "24\n",
            "28\n",
            "89\n",
            "73\n",
            "14\n",
            "38\n",
            "77\n",
            "21\n",
            "25\n",
            "69\n",
            "94\n",
            "55\n",
            "83\n",
            "57\n",
            "86\n",
            "42\n",
            "42\n",
            "15\n",
            "56\n",
            "22\n",
            "54\n",
            "45\n",
            "59\n",
            "29\n",
            "78\n",
            "43\n",
            "62\n",
            "16\n",
            "86\n",
            "14\n",
            "76\n",
            "41\n",
            "48\n",
            "13\n",
            "75\n",
            "84\n",
            "24\n",
            "43\n",
            "34\n",
            "44\n",
            "64\n",
            "88\n",
            "53\n",
            "65\n",
            "55\n",
            "11\n",
            "71\n",
            "61\n",
            "21\n",
            "55\n",
            "44\n",
            "69\n",
            "64\n",
            "41\n",
            "47\n",
            "79\n",
            "25\n",
            "45\n",
            "65\n",
            "72\n",
            "53\n",
            "14\n",
            "14\n",
            "57\n",
            "91\n",
            "11\n",
            "98\n",
            "39\n",
            "55\n",
            "19\n",
            "71\n",
            "24\n",
            "17\n",
            "63\n",
            "75\n",
            "74\n",
            "92\n",
            "58\n",
            "94\n",
            "53\n",
            "72\n",
            "59\n",
            "76\n",
            "51\n",
            "88\n",
            "82\n",
            "63\n",
            "46\n",
            "95\n",
            "95\n",
            "68\n",
            "41\n",
            "89\n",
            "32\n",
            "42\n",
            "47\n",
            "73\n",
            "73\n",
            "88\n",
            "15\n",
            "84\n",
            "62\n",
            "21\n",
            "33\n",
            "76\n",
            "44\n",
            "57\n",
            "58\n",
            "54\n",
            "64\n",
            "32\n",
            "35\n",
            "83\n",
            "25\n",
            "68\n",
            "41\n",
            "31\n",
            "76\n",
            "91\n",
            "12\n",
            "22\n",
            "44\n",
            "44\n",
            "46\n",
            "44\n",
            "85\n",
            "22\n",
            "71\n",
            "89\n",
            "53\n",
            "28\n",
            "89\n",
            "85\n",
            "37\n",
            "65\n",
            "88\n",
            "44\n",
            "84\n",
            "66\n",
            "16\n",
            "45\n",
            "21\n",
            "88\n",
            "87\n",
            "44\n",
            "13\n",
            "62\n",
            "16\n",
            "28\n",
            "52\n",
            "56\n",
            "91\n",
            "74\n",
            "71\n",
            "15\n",
            "65\n",
            "21\n",
            "11\n",
            "54\n",
            "59\n",
            "18\n",
            "23\n",
            "11\n",
            "11\n",
            "14\n",
            "27\n",
            "49\n",
            "31\n",
            "17\n",
            "91\n",
            "33\n",
            "84\n",
            "81\n",
            "21\n",
            "78\n",
            "92\n",
            "45\n",
            "26\n",
            "96\n",
            "75\n",
            "19\n",
            "99\n",
            "52\n",
            "96\n",
            "22\n",
            "65\n",
            "44\n",
            "22\n",
            "17\n",
            "92\n",
            "22\n",
            "19\n",
            "48\n",
            "92\n",
            "91\n",
            "31\n",
            "77\n",
            "14\n",
            "46\n",
            "22\n",
            "47\n",
            "33\n",
            "11\n",
            "55\n",
            "22\n",
            "48\n",
            "52\n",
            "27\n",
            "63\n",
            "16\n",
            "87\n",
            "87\n",
            "99\n",
            "57\n",
            "13\n",
            "39\n",
            "44\n",
            "58\n",
            "81\n",
            "29\n",
            "68\n",
            "23\n",
            "41\n",
            "88\n",
            "61\n",
            "22\n",
            "47\n",
            "43\n",
            "45\n",
            "56\n",
            "36\n",
            "49\n",
            "53\n",
            "56\n",
            "26\n",
            "77\n",
            "12\n",
            "55\n",
            "99\n",
            "64\n",
            "57\n",
            "11\n",
            "61\n",
            "32\n",
            "89\n",
            "29\n",
            "34\n",
            "46\n",
            "11\n",
            "73\n",
            "84\n",
            "64\n",
            "92\n",
            "95\n",
            "44\n",
            "29\n",
            "47\n",
            "77\n",
            "77\n",
            "22\n",
            "67\n",
            "68\n",
            "42\n",
            "39\n",
            "18\n",
            "83\n",
            "16\n",
            "25\n",
            "12\n",
            "45\n",
            "19\n",
            "93\n",
            "73\n",
            "98\n",
            "97\n",
            "24\n",
            "87\n",
            "22\n",
            "75\n",
            "91\n",
            "18\n",
            "39\n",
            "93\n",
            "43\n",
            "61\n",
            "64\n",
            "22\n",
            "77\n",
            "16\n",
            "43\n",
            "38\n",
            "79\n",
            "49\n",
            "94\n",
            "97\n",
            "12\n",
            "77\n",
            "48\n",
            "14\n",
            "51\n",
            "44\n",
            "53\n",
            "66\n",
            "97\n",
            "17\n",
            "41\n",
            "31\n",
            "14\n",
            "64\n",
            "44\n",
            "11\n",
            "92\n",
            "47\n",
            "63\n",
            "62\n",
            "59\n",
            "72\n",
            "73\n",
            "83\n",
            "62\n",
            "88\n",
            "71\n",
            "17\n",
            "58\n",
            "66\n",
            "24\n",
            "23\n",
            "89\n",
            "67\n",
            "85\n",
            "66\n",
            "58\n",
            "69\n",
            "66\n",
            "33\n",
            "23\n",
            "24\n",
            "76\n",
            "97\n",
            "55\n",
            "44\n",
            "98\n",
            "57\n",
            "44\n",
            "25\n",
            "14\n",
            "26\n",
            "44\n",
            "72\n",
            "37\n",
            "34\n",
            "54\n",
            "99\n",
            "34\n",
            "28\n",
            "52\n",
            "83\n",
            "99\n",
            "39\n",
            "51\n",
            "47\n",
            "87\n",
            "16\n",
            "97\n",
            "62\n",
            "97\n",
            "63\n",
            "25\n",
            "22\n",
            "12\n",
            "88\n",
            "69\n",
            "56\n",
            "73\n",
            "88\n",
            "65\n",
            "16\n",
            "38\n",
            "64\n",
            "84\n",
            "23\n",
            "15\n",
            "54\n",
            "16\n",
            "91\n",
            "71\n",
            "18\n",
            "31\n",
            "51\n",
            "46\n",
            "77\n",
            "41\n",
            "48\n",
            "33\n",
            "84\n",
            "32\n",
            "73\n",
            "95\n",
            "43\n",
            "67\n",
            "88\n",
            "55\n",
            "46\n",
            "76\n",
            "39\n",
            "49\n",
            "64\n",
            "14\n",
            "99\n",
            "12\n",
            "91\n",
            "23\n",
            "28\n",
            "81\n",
            "13\n",
            "87\n",
            "48\n",
            "44\n",
            "17\n",
            "57\n",
            "98\n",
            "97\n",
            "33\n",
            "24\n",
            "66\n",
            "23\n",
            "81\n",
            "96\n",
            "69\n",
            "93\n",
            "72\n",
            "89\n",
            "79\n",
            "96\n",
            "47\n",
            "32\n",
            "94\n",
            "54\n",
            "83\n",
            "53\n",
            "43\n",
            "63\n",
            "36\n",
            "91\n",
            "71\n",
            "93\n",
            "93\n",
            "33\n",
            "14\n",
            "22\n",
            "85\n",
            "71\n",
            "25\n",
            "29\n",
            "61\n",
            "41\n",
            "23\n",
            "12\n",
            "88\n",
            "77\n",
            "44\n",
            "92\n",
            "34\n",
            "33\n",
            "42\n",
            "37\n",
            "17\n",
            "89\n",
            "14\n",
            "86\n",
            "29\n",
            "77\n",
            "84\n",
            "12\n",
            "84\n",
            "48\n",
            "25\n",
            "29\n",
            "68\n",
            "67\n",
            "44\n",
            "22\n",
            "17\n",
            "24\n",
            "84\n",
            "81\n",
            "29\n",
            "24\n",
            "73\n",
            "59\n",
            "56\n",
            "84\n",
            "49\n",
            "63\n",
            "41\n",
            "22\n",
            "31\n",
            "75\n",
            "66\n",
            "15\n",
            "46\n",
            "98\n",
            "18\n",
            "14\n",
            "28\n",
            "86\n",
            "57\n",
            "29\n",
            "75\n",
            "21\n",
            "17\n",
            "55\n",
            "86\n",
            "89\n",
            "83\n",
            "26\n",
            "91\n",
            "31\n",
            "55\n",
            "23\n",
            "35\n",
            "99\n",
            "33\n",
            "41\n",
            "81\n",
            "58\n",
            "31\n",
            "92\n",
            "37\n",
            "48\n",
            "97\n",
            "62\n",
            "67\n",
            "93\n",
            "22\n",
            "33\n",
            "99\n",
            "28\n",
            "39\n",
            "43\n",
            "43\n",
            "65\n",
            "61\n",
            "44\n",
            "22\n",
            "65\n",
            "52\n",
            "26\n",
            "28\n",
            "52\n",
            "63\n",
            "16\n",
            "64\n",
            "19\n",
            "16\n",
            "21\n",
            "22\n",
            "77\n",
            "21\n",
            "36\n",
            "74\n",
            "53\n",
            "49\n",
            "93\n",
            "82\n",
            "57\n",
            "45\n",
            "71\n",
            "67\n",
            "61\n",
            "57\n",
            "96\n",
            "47\n",
            "22\n",
            "37\n",
            "68\n",
            "94\n",
            "23\n",
            "48\n",
            "25\n",
            "33\n",
            "97\n",
            "16\n",
            "62\n",
            "46\n",
            "56\n",
            "98\n",
            "38\n",
            "49\n",
            "33\n",
            "25\n",
            "27\n",
            "89\n",
            "67\n",
            "98\n",
            "77\n",
            "32\n",
            "72\n",
            "16\n",
            "97\n",
            "27\n",
            "65\n",
            "69\n",
            "44\n",
            "44\n",
            "97\n",
            "99\n",
            "89\n",
            "18\n",
            "88\n",
            "75\n",
            "77\n",
            "18\n",
            "36\n",
            "42\n",
            "64\n",
            "47\n",
            "53\n",
            "12\n",
            "19\n",
            "75\n",
            "61\n",
            "56\n",
            "12\n",
            "66\n",
            "57\n",
            "11\n",
            "47\n",
            "24\n",
            "39\n",
            "97\n",
            "28\n",
            "99\n",
            "32\n",
            "91\n",
            "68\n",
            "33\n",
            "13\n",
            "28\n",
            "43\n",
            "52\n",
            "24\n",
            "51\n",
            "51\n",
            "17\n",
            "81\n",
            "41\n",
            "81\n",
            "99\n",
            "83\n",
            "79\n",
            "56\n",
            "87\n",
            "62\n",
            "52\n",
            "16\n",
            "57\n",
            "35\n",
            "22\n",
            "12\n",
            "28\n",
            "34\n",
            "74\n",
            "78\n",
            "73\n",
            "11\n",
            "52\n",
            "22\n",
            "66\n",
            "42\n",
            "82\n",
            "52\n",
            "38\n",
            "92\n",
            "89\n",
            "81\n",
            "42\n",
            "44\n",
            "35\n",
            "39\n",
            "46\n",
            "77\n",
            "81\n",
            "39\n",
            "16\n",
            "16\n",
            "12\n",
            "89\n",
            "82\n",
            "36\n",
            "24\n",
            "15\n",
            "73\n",
            "69\n",
            "53\n",
            "67\n",
            "85\n",
            "45\n",
            "47\n",
            "22\n",
            "85\n",
            "15\n",
            "77\n",
            "28\n",
            "45\n",
            "22\n",
            "67\n",
            "39\n",
            "15\n",
            "37\n",
            "24\n",
            "11\n",
            "35\n",
            "44\n",
            "24\n",
            "22\n",
            "58\n",
            "25\n",
            "47\n",
            "44\n",
            "15\n",
            "99\n",
            "48\n",
            "19\n",
            "97\n",
            "34\n",
            "96\n",
            "79\n",
            "55\n",
            "58\n",
            "55\n",
            "27\n",
            "29\n",
            "49\n",
            "65\n",
            "83\n",
            "18\n",
            "86\n",
            "88\n",
            "34\n",
            "79\n",
            "68\n",
            "24\n",
            "67\n",
            "35\n",
            "18\n",
            "17\n",
            "61\n",
            "55\n",
            "45\n",
            "34\n",
            "53\n",
            "22\n",
            "71\n",
            "31\n",
            "38\n",
            "12\n",
            "73\n",
            "59\n",
            "55\n",
            "14\n",
            "14\n",
            "57\n",
            "87\n",
            "38\n",
            "42\n",
            "15\n",
            "71\n",
            "45\n",
            "37\n",
            "78\n",
            "38\n"
          ]
        }
      ]
    },
    {
      "cell_type": "code",
      "source": [
        "sum"
      ],
      "metadata": {
        "colab": {
          "base_uri": "https://localhost:8080/"
        },
        "id": "474dGRxVMnq7",
        "outputId": "8fd7dfe9-ab9a-4a86-85d4-c7dfa2b01874"
      },
      "execution_count": 102,
      "outputs": [
        {
          "output_type": "execute_result",
          "data": {
            "text/plain": [
              "53212"
            ]
          },
          "metadata": {},
          "execution_count": 102
        }
      ]
    },
    {
      "cell_type": "code",
      "source": [
        "k"
      ],
      "metadata": {
        "colab": {
          "base_uri": "https://localhost:8080/"
        },
        "id": "XLexFmU8MoIA",
        "outputId": "340076fa-f523-4fc6-85fb-03a99184d0f7"
      },
      "execution_count": 98,
      "outputs": [
        {
          "output_type": "execute_result",
          "data": {
            "text/plain": [
              "0"
            ]
          },
          "metadata": {},
          "execution_count": 98
        }
      ]
    },
    {
      "cell_type": "code",
      "source": [
        "fullString[-4:][:3]"
      ],
      "metadata": {
        "colab": {
          "base_uri": "https://localhost:8080/",
          "height": 35
        },
        "id": "DQHEo0ZQMosH",
        "outputId": "be654f30-50b5-4644-b1a4-b391c1510ff9"
      },
      "execution_count": 118,
      "outputs": [
        {
          "output_type": "execute_result",
          "data": {
            "text/plain": [
              "'eve'"
            ],
            "application/vnd.google.colaboratory.intrinsic+json": {
              "type": "string"
            }
          },
          "metadata": {},
          "execution_count": 118
        }
      ]
    },
    {
      "cell_type": "code",
      "source": [],
      "metadata": {
        "id": "lAGVbD5rMufe"
      },
      "execution_count": null,
      "outputs": []
    }
  ]
}