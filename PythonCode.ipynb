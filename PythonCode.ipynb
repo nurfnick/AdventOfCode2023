{
  "nbformat": 4,
  "nbformat_minor": 0,
  "metadata": {
    "colab": {
      "provenance": [],
      "authorship_tag": "ABX9TyPvFuX0usaixgwidWcV13lh",
      "include_colab_link": true
    },
    "kernelspec": {
      "name": "python3",
      "display_name": "Python 3"
    },
    "language_info": {
      "name": "python"
    }
  },
  "cells": [
    {
      "cell_type": "markdown",
      "metadata": {
        "id": "view-in-github",
        "colab_type": "text"
      },
      "source": [
        "<a href=\"https://colab.research.google.com/github/nurfnick/AdventOfCode2023/blob/main/PythonCode.ipynb\" target=\"_parent\"><img src=\"https://colab.research.google.com/assets/colab-badge.svg\" alt=\"Open In Colab\"/></a>"
      ]
    },
    {
      "cell_type": "markdown",
      "source": [
        "# Advent of Code"
      ],
      "metadata": {
        "id": "DbCSKA7w_fU4"
      }
    },
    {
      "cell_type": "code",
      "source": [
        "import numpy as np\n",
        "import pandas as pa"
      ],
      "metadata": {
        "id": "QwZjymhT_qD0"
      },
      "execution_count": 151,
      "outputs": []
    },
    {
      "cell_type": "markdown",
      "source": [
        "## Day 1:  Find the Numbers in a String"
      ],
      "metadata": {
        "id": "MvVEpd6N_iwX"
      }
    },
    {
      "cell_type": "code",
      "execution_count": null,
      "metadata": {
        "id": "ILEPiLRo_eE9"
      },
      "outputs": [],
      "source": [
        "data = pa.read_csv('https://raw.githubusercontent.com/nurfnick/AdventOfCode2023/main/input1',header = None)"
      ]
    },
    {
      "cell_type": "code",
      "source": [
        "data.iloc(0)[1,0]"
      ],
      "metadata": {
        "colab": {
          "base_uri": "https://localhost:8080/",
          "height": 35
        },
        "id": "2ABY5I4P_7Wa",
        "outputId": "c5a69d75-d2f2-45a6-841e-e28de6112c36"
      },
      "execution_count": null,
      "outputs": [
        {
          "output_type": "execute_result",
          "data": {
            "text/plain": [
              "'9nnqljsixkzphvtmtr'"
            ],
            "application/vnd.google.colaboratory.intrinsic+json": {
              "type": "string"
            }
          },
          "metadata": {},
          "execution_count": 46
        }
      ]
    },
    {
      "cell_type": "code",
      "source": [
        "not data.iloc(0)[0,0][0].isdigit()\n",
        "k = 1"
      ],
      "metadata": {
        "id": "7chZJ7uZAWJ0"
      },
      "execution_count": null,
      "outputs": []
    },
    {
      "cell_type": "code",
      "source": [
        "i = 0\n",
        "characterFromFrontString = data.iloc(0)[k,0][i]\n",
        "while not characterFromFrontString.isdigit():\n",
        "  i+=1\n",
        "  characterFromFrontString = data.iloc(0)[k,0][i]\n",
        "\n",
        "characterFromFrontString"
      ],
      "metadata": {
        "colab": {
          "base_uri": "https://localhost:8080/",
          "height": 35
        },
        "id": "lEaHdwnhCurq",
        "outputId": "ea04c043-4a54-4b07-9a6b-28bb0c910bfb"
      },
      "execution_count": null,
      "outputs": [
        {
          "output_type": "execute_result",
          "data": {
            "text/plain": [
              "'9'"
            ],
            "application/vnd.google.colaboratory.intrinsic+json": {
              "type": "string"
            }
          },
          "metadata": {},
          "execution_count": 52
        }
      ]
    },
    {
      "cell_type": "code",
      "source": [
        "i = -1\n",
        "characterFromBackString = data.iloc(0)[k,0][i]\n",
        "while not characterFromBackString.isdigit():\n",
        "  i-=1\n",
        "  characterFromBackString = data.iloc(0)[k,0][i]\n",
        "\n",
        "characterFromBackString"
      ],
      "metadata": {
        "colab": {
          "base_uri": "https://localhost:8080/",
          "height": 35
        },
        "id": "mgEmcVdaDrvv",
        "outputId": "b6378f92-b6d7-4aa6-bd7d-5362cd7f8055"
      },
      "execution_count": null,
      "outputs": [
        {
          "output_type": "execute_result",
          "data": {
            "text/plain": [
              "'9'"
            ],
            "application/vnd.google.colaboratory.intrinsic+json": {
              "type": "string"
            }
          },
          "metadata": {},
          "execution_count": 53
        }
      ]
    },
    {
      "cell_type": "code",
      "source": [
        "int(characterFromFrontString + characterFromBackString)"
      ],
      "metadata": {
        "colab": {
          "base_uri": "https://localhost:8080/"
        },
        "id": "HyzrkNGJDxcm",
        "outputId": "893027c0-06ed-4ec4-d228-bc3c2768458e"
      },
      "execution_count": null,
      "outputs": [
        {
          "output_type": "execute_result",
          "data": {
            "text/plain": [
              "99"
            ]
          },
          "metadata": {},
          "execution_count": 51
        }
      ]
    },
    {
      "cell_type": "code",
      "source": [
        "sum = 0\n",
        "\n",
        "for k in range(1000):\n",
        "  i = 0\n",
        "  characterFromFrontString = data.iloc(0)[k,0][i]\n",
        "  while not characterFromFrontString.isdigit():\n",
        "    i+=1\n",
        "    characterFromFrontString = data.iloc(0)[k,0][i]\n",
        "  i = -1\n",
        "  characterFromBackString = data.iloc(0)[k,0][i]\n",
        "  while not characterFromBackString.isdigit():\n",
        "    i-=1\n",
        "    characterFromBackString = data.iloc(0)[k,0][i]\n",
        "  sum += int(characterFromFrontString + characterFromBackString)\n",
        "\n",
        "\n"
      ],
      "metadata": {
        "id": "vBjI9vBJEYXo"
      },
      "execution_count": null,
      "outputs": []
    },
    {
      "cell_type": "code",
      "source": [
        "sum"
      ],
      "metadata": {
        "colab": {
          "base_uri": "https://localhost:8080/"
        },
        "id": "jNtnoTaHEwZH",
        "outputId": "8069d7ee-cc5e-40f2-f560-698dee7f04d2"
      },
      "execution_count": null,
      "outputs": [
        {
          "output_type": "execute_result",
          "data": {
            "text/plain": [
              "55834"
            ]
          },
          "metadata": {},
          "execution_count": 61
        }
      ]
    },
    {
      "cell_type": "markdown",
      "source": [
        "Got that one correct.  Now need to check if the digit is spelled out..."
      ],
      "metadata": {
        "id": "UjNbZRz5FmR4"
      }
    },
    {
      "cell_type": "code",
      "source": [
        "digits = ['one','two','three','four','five','six','seven','eight','nine']"
      ],
      "metadata": {
        "id": "KGQi9pHREw17"
      },
      "execution_count": null,
      "outputs": []
    },
    {
      "cell_type": "code",
      "source": [
        "'oone' in digits"
      ],
      "metadata": {
        "colab": {
          "base_uri": "https://localhost:8080/"
        },
        "id": "Nwk_zDOjF1Oi",
        "outputId": "5cfb0467-f83d-4c84-974e-d8f30c738ebe"
      },
      "execution_count": null,
      "outputs": [
        {
          "output_type": "execute_result",
          "data": {
            "text/plain": [
              "False"
            ]
          },
          "metadata": {},
          "execution_count": 6
        }
      ]
    },
    {
      "cell_type": "code",
      "source": [
        "fullString = data.iloc(0)[0,0]\n",
        "i = -8\n",
        "fullString[i-3:i] not in digits or fullString[i-4:i] not in digits or fullString[i-5:i] not in digits"
      ],
      "metadata": {
        "colab": {
          "base_uri": "https://localhost:8080/"
        },
        "id": "xDTWfyw6G6ZB",
        "outputId": "61c21306-e7ef-4a6b-9f4d-f1fbe1795c56"
      },
      "execution_count": null,
      "outputs": [
        {
          "output_type": "execute_result",
          "data": {
            "text/plain": [
              "True"
            ]
          },
          "metadata": {},
          "execution_count": 7
        }
      ]
    },
    {
      "cell_type": "code",
      "source": [
        "fullString[i:i+3]"
      ],
      "metadata": {
        "colab": {
          "base_uri": "https://localhost:8080/",
          "height": 35
        },
        "id": "xRiDDW92IB2-",
        "outputId": "5ebd3079-814a-4c48-ed1a-c43441a5934d"
      },
      "execution_count": null,
      "outputs": [
        {
          "output_type": "execute_result",
          "data": {
            "text/plain": [
              "'zrx'"
            ],
            "application/vnd.google.colaboratory.intrinsic+json": {
              "type": "string"
            }
          },
          "metadata": {},
          "execution_count": 8
        }
      ]
    },
    {
      "cell_type": "code",
      "source": [
        "fullString[-4:]"
      ],
      "metadata": {
        "colab": {
          "base_uri": "https://localhost:8080/",
          "height": 35
        },
        "id": "5U6vDnAUHv1Z",
        "outputId": "9938e0c3-eb0a-4057-ff0b-37043bb5050a"
      },
      "execution_count": null,
      "outputs": [
        {
          "output_type": "execute_result",
          "data": {
            "text/plain": [
              "'even'"
            ],
            "application/vnd.google.colaboratory.intrinsic+json": {
              "type": "string"
            }
          },
          "metadata": {},
          "execution_count": 9
        }
      ]
    },
    {
      "cell_type": "code",
      "source": [
        "digitsDict = {'one':'1','two':'2','three':'3','four':'4','five':'5','six':'6','seven':'7','eight':'8','nine':'9'}"
      ],
      "metadata": {
        "id": "22gouWnyI3F4"
      },
      "execution_count": null,
      "outputs": []
    },
    {
      "cell_type": "code",
      "source": [
        "#digitsDict['one']"
      ],
      "metadata": {
        "colab": {
          "base_uri": "https://localhost:8080/",
          "height": 35
        },
        "id": "RfYgJzbLJKEl",
        "outputId": "e07fe221-a119-4228-c33f-045fae345c8b"
      },
      "execution_count": null,
      "outputs": [
        {
          "output_type": "execute_result",
          "data": {
            "text/plain": [
              "'1'"
            ],
            "application/vnd.google.colaboratory.intrinsic+json": {
              "type": "string"
            }
          },
          "metadata": {},
          "execution_count": 115
        }
      ]
    },
    {
      "cell_type": "code",
      "source": [
        "def findWhichDigit(fullString,pos,Front):\n",
        "  if Front:\n",
        "    if fullString[pos].isdigit():\n",
        "      return fullString[pos]\n",
        "    elif fullString[pos-2:pos+1] in digits:\n",
        "      return digitsDict[fullString[pos-2:pos+1]]\n",
        "    elif fullString[pos-3:pos+1] in digits:\n",
        "      return digitsDict[fullString[pos-3:pos+1]]\n",
        "    elif fullString[pos-4:pos+1] in digits:\n",
        "      return digitsDict[fullString[pos-4:pos+1]]\n",
        "  elif not Front:\n",
        "    if fullString[pos].isdigit():\n",
        "      return fullString[pos]\n",
        "    elif fullString[pos:][:3] in digits:\n",
        "      return digitsDict[fullString[pos:][:3]]\n",
        "    elif fullString[pos:][:4] in digits:\n",
        "      return digitsDict[fullString[pos:][:4]]\n",
        "    elif fullString[pos:][:5] in digits:\n",
        "      return digitsDict[fullString[pos:][:5]]"
      ],
      "metadata": {
        "id": "0W_B6yNrJPfH"
      },
      "execution_count": null,
      "outputs": []
    },
    {
      "cell_type": "code",
      "source": [
        "findWhichDigit(fullString,-5,False)"
      ],
      "metadata": {
        "colab": {
          "base_uri": "https://localhost:8080/",
          "height": 35
        },
        "id": "N5RcRURSKZsU",
        "outputId": "e6c69747-cabb-4fca-e7e5-e8b4a5e02c7b"
      },
      "execution_count": null,
      "outputs": [
        {
          "output_type": "execute_result",
          "data": {
            "text/plain": [
              "'7'"
            ],
            "application/vnd.google.colaboratory.intrinsic+json": {
              "type": "string"
            }
          },
          "metadata": {},
          "execution_count": 22
        }
      ]
    },
    {
      "cell_type": "code",
      "source": [
        "sum = 0\n",
        "\n",
        "for k in range(1000):\n",
        "  fullString = data.iloc(0)[k,0]\n",
        "  i = 0\n",
        "  characterFromFrontString = data.iloc(0)[k,0][i]\n",
        "  while not characterFromFrontString.isdigit() and fullString[i-2:i+1] not in digits and fullString[i-3:i+1] not in digits and fullString[i-4:i+1] not in digits:\n",
        "    i+=1\n",
        "    characterFromFrontString = data.iloc(0)[k,0][i]\n",
        "  characterFromFrontString = findWhichDigit(fullString,i,True)\n",
        "  i = -1\n",
        "  characterFromBackString = data.iloc(0)[k,0][i]\n",
        "  while not characterFromBackString.isdigit() and fullString[i:][:3] not in digits and fullString[i:][:4] not in digits and fullString[i:][:5] not in digits:\n",
        "    i-=1\n",
        "    characterFromBackString = data.iloc(0)[k,0][i]\n",
        "  characterFromBackString = findWhichDigit(fullString,i,False)\n",
        "  print(int(characterFromFrontString + characterFromBackString))\n",
        "  sum += int(characterFromFrontString + characterFromBackString)"
      ],
      "metadata": {
        "colab": {
          "base_uri": "https://localhost:8080/"
        },
        "id": "7tW5ZI8iGV4b",
        "outputId": "eae2c145-0981-46d8-d863-27c2c9085c41"
      },
      "execution_count": null,
      "outputs": [
        {
          "output_type": "stream",
          "name": "stdout",
          "text": [
            "27\n",
            "96\n",
            "52\n",
            "57\n",
            "35\n",
            "49\n",
            "43\n",
            "16\n",
            "61\n",
            "79\n",
            "22\n",
            "36\n",
            "13\n",
            "54\n",
            "89\n",
            "28\n",
            "13\n",
            "86\n",
            "18\n",
            "53\n",
            "83\n",
            "63\n",
            "38\n",
            "18\n",
            "83\n",
            "36\n",
            "13\n",
            "82\n",
            "38\n",
            "38\n",
            "82\n",
            "34\n",
            "38\n",
            "35\n",
            "45\n",
            "91\n",
            "95\n",
            "93\n",
            "62\n",
            "66\n",
            "14\n",
            "78\n",
            "19\n",
            "35\n",
            "22\n",
            "47\n",
            "38\n",
            "19\n",
            "66\n",
            "78\n",
            "91\n",
            "94\n",
            "21\n",
            "84\n",
            "91\n",
            "47\n",
            "98\n",
            "62\n",
            "94\n",
            "15\n",
            "63\n",
            "71\n",
            "68\n",
            "76\n",
            "82\n",
            "29\n",
            "37\n",
            "13\n",
            "79\n",
            "31\n",
            "22\n",
            "48\n",
            "59\n",
            "21\n",
            "77\n",
            "28\n",
            "36\n",
            "22\n",
            "18\n",
            "87\n",
            "64\n",
            "32\n",
            "98\n",
            "52\n",
            "62\n",
            "86\n",
            "33\n",
            "78\n",
            "59\n",
            "51\n",
            "22\n",
            "95\n",
            "11\n",
            "82\n",
            "37\n",
            "65\n",
            "77\n",
            "12\n",
            "63\n",
            "21\n",
            "64\n",
            "57\n",
            "42\n",
            "24\n",
            "27\n",
            "51\n",
            "51\n",
            "26\n",
            "27\n",
            "15\n",
            "28\n",
            "72\n",
            "62\n",
            "82\n",
            "55\n",
            "81\n",
            "99\n",
            "44\n",
            "52\n",
            "57\n",
            "18\n",
            "36\n",
            "56\n",
            "43\n",
            "52\n",
            "83\n",
            "86\n",
            "81\n",
            "78\n",
            "88\n",
            "27\n",
            "33\n",
            "89\n",
            "54\n",
            "17\n",
            "92\n",
            "99\n",
            "97\n",
            "11\n",
            "91\n",
            "26\n",
            "95\n",
            "21\n",
            "99\n",
            "66\n",
            "69\n",
            "42\n",
            "84\n",
            "99\n",
            "56\n",
            "78\n",
            "16\n",
            "63\n",
            "48\n",
            "11\n",
            "31\n",
            "95\n",
            "89\n",
            "16\n",
            "92\n",
            "94\n",
            "97\n",
            "47\n",
            "73\n",
            "89\n",
            "52\n",
            "77\n",
            "14\n",
            "79\n",
            "22\n",
            "88\n",
            "71\n",
            "36\n",
            "15\n",
            "32\n",
            "41\n",
            "61\n",
            "66\n",
            "87\n",
            "35\n",
            "55\n",
            "63\n",
            "12\n",
            "47\n",
            "66\n",
            "54\n",
            "88\n",
            "39\n",
            "34\n",
            "85\n",
            "82\n",
            "76\n",
            "19\n",
            "19\n",
            "96\n",
            "52\n",
            "79\n",
            "93\n",
            "89\n",
            "15\n",
            "44\n",
            "69\n",
            "53\n",
            "53\n",
            "37\n",
            "54\n",
            "23\n",
            "74\n",
            "13\n",
            "93\n",
            "97\n",
            "78\n",
            "74\n",
            "62\n",
            "49\n",
            "87\n",
            "63\n",
            "83\n",
            "91\n",
            "19\n",
            "95\n",
            "99\n",
            "35\n",
            "88\n",
            "44\n",
            "62\n",
            "71\n",
            "49\n",
            "24\n",
            "28\n",
            "85\n",
            "78\n",
            "14\n",
            "38\n",
            "74\n",
            "21\n",
            "25\n",
            "69\n",
            "94\n",
            "58\n",
            "81\n",
            "57\n",
            "85\n",
            "42\n",
            "46\n",
            "15\n",
            "56\n",
            "22\n",
            "55\n",
            "45\n",
            "59\n",
            "29\n",
            "78\n",
            "43\n",
            "62\n",
            "16\n",
            "85\n",
            "18\n",
            "78\n",
            "45\n",
            "48\n",
            "15\n",
            "76\n",
            "84\n",
            "24\n",
            "43\n",
            "34\n",
            "44\n",
            "64\n",
            "88\n",
            "53\n",
            "65\n",
            "59\n",
            "11\n",
            "71\n",
            "61\n",
            "21\n",
            "55\n",
            "44\n",
            "69\n",
            "64\n",
            "41\n",
            "47\n",
            "79\n",
            "25\n",
            "45\n",
            "65\n",
            "72\n",
            "53\n",
            "18\n",
            "14\n",
            "54\n",
            "91\n",
            "11\n",
            "98\n",
            "39\n",
            "59\n",
            "18\n",
            "77\n",
            "24\n",
            "17\n",
            "63\n",
            "75\n",
            "79\n",
            "92\n",
            "58\n",
            "94\n",
            "58\n",
            "72\n",
            "53\n",
            "76\n",
            "56\n",
            "88\n",
            "84\n",
            "63\n",
            "46\n",
            "95\n",
            "95\n",
            "69\n",
            "41\n",
            "89\n",
            "39\n",
            "42\n",
            "47\n",
            "73\n",
            "73\n",
            "88\n",
            "15\n",
            "84\n",
            "69\n",
            "21\n",
            "34\n",
            "74\n",
            "44\n",
            "51\n",
            "58\n",
            "56\n",
            "64\n",
            "32\n",
            "35\n",
            "83\n",
            "25\n",
            "68\n",
            "41\n",
            "31\n",
            "76\n",
            "91\n",
            "12\n",
            "26\n",
            "44\n",
            "44\n",
            "46\n",
            "44\n",
            "84\n",
            "22\n",
            "71\n",
            "84\n",
            "53\n",
            "28\n",
            "89\n",
            "85\n",
            "37\n",
            "65\n",
            "88\n",
            "44\n",
            "83\n",
            "66\n",
            "16\n",
            "45\n",
            "21\n",
            "88\n",
            "87\n",
            "47\n",
            "13\n",
            "62\n",
            "16\n",
            "28\n",
            "52\n",
            "56\n",
            "91\n",
            "74\n",
            "71\n",
            "15\n",
            "65\n",
            "23\n",
            "15\n",
            "54\n",
            "59\n",
            "18\n",
            "28\n",
            "11\n",
            "18\n",
            "14\n",
            "27\n",
            "45\n",
            "31\n",
            "14\n",
            "91\n",
            "36\n",
            "84\n",
            "81\n",
            "28\n",
            "71\n",
            "98\n",
            "45\n",
            "26\n",
            "96\n",
            "75\n",
            "16\n",
            "99\n",
            "55\n",
            "96\n",
            "22\n",
            "65\n",
            "44\n",
            "22\n",
            "17\n",
            "92\n",
            "21\n",
            "19\n",
            "48\n",
            "92\n",
            "97\n",
            "31\n",
            "77\n",
            "14\n",
            "46\n",
            "22\n",
            "41\n",
            "33\n",
            "16\n",
            "52\n",
            "21\n",
            "48\n",
            "52\n",
            "27\n",
            "66\n",
            "18\n",
            "87\n",
            "87\n",
            "99\n",
            "52\n",
            "13\n",
            "38\n",
            "44\n",
            "59\n",
            "86\n",
            "29\n",
            "61\n",
            "23\n",
            "41\n",
            "88\n",
            "69\n",
            "22\n",
            "47\n",
            "49\n",
            "47\n",
            "56\n",
            "38\n",
            "49\n",
            "53\n",
            "56\n",
            "26\n",
            "74\n",
            "12\n",
            "57\n",
            "92\n",
            "64\n",
            "57\n",
            "16\n",
            "61\n",
            "39\n",
            "89\n",
            "22\n",
            "34\n",
            "46\n",
            "12\n",
            "78\n",
            "84\n",
            "64\n",
            "95\n",
            "95\n",
            "44\n",
            "29\n",
            "47\n",
            "77\n",
            "77\n",
            "21\n",
            "67\n",
            "68\n",
            "49\n",
            "39\n",
            "18\n",
            "83\n",
            "15\n",
            "25\n",
            "12\n",
            "44\n",
            "14\n",
            "93\n",
            "73\n",
            "98\n",
            "97\n",
            "24\n",
            "87\n",
            "22\n",
            "75\n",
            "91\n",
            "18\n",
            "39\n",
            "93\n",
            "43\n",
            "61\n",
            "64\n",
            "23\n",
            "77\n",
            "16\n",
            "43\n",
            "38\n",
            "79\n",
            "49\n",
            "96\n",
            "98\n",
            "12\n",
            "77\n",
            "48\n",
            "14\n",
            "51\n",
            "44\n",
            "53\n",
            "66\n",
            "97\n",
            "17\n",
            "41\n",
            "31\n",
            "14\n",
            "64\n",
            "46\n",
            "11\n",
            "92\n",
            "47\n",
            "63\n",
            "62\n",
            "54\n",
            "72\n",
            "73\n",
            "81\n",
            "62\n",
            "88\n",
            "71\n",
            "12\n",
            "55\n",
            "66\n",
            "24\n",
            "23\n",
            "89\n",
            "67\n",
            "84\n",
            "67\n",
            "58\n",
            "69\n",
            "66\n",
            "33\n",
            "22\n",
            "24\n",
            "76\n",
            "97\n",
            "55\n",
            "47\n",
            "98\n",
            "53\n",
            "44\n",
            "25\n",
            "14\n",
            "26\n",
            "43\n",
            "72\n",
            "37\n",
            "34\n",
            "54\n",
            "99\n",
            "37\n",
            "26\n",
            "52\n",
            "83\n",
            "99\n",
            "39\n",
            "51\n",
            "47\n",
            "87\n",
            "16\n",
            "93\n",
            "62\n",
            "97\n",
            "63\n",
            "29\n",
            "21\n",
            "12\n",
            "88\n",
            "63\n",
            "56\n",
            "73\n",
            "83\n",
            "65\n",
            "16\n",
            "31\n",
            "64\n",
            "84\n",
            "25\n",
            "13\n",
            "54\n",
            "12\n",
            "91\n",
            "71\n",
            "17\n",
            "31\n",
            "51\n",
            "46\n",
            "77\n",
            "41\n",
            "48\n",
            "33\n",
            "84\n",
            "32\n",
            "73\n",
            "94\n",
            "42\n",
            "67\n",
            "88\n",
            "55\n",
            "46\n",
            "76\n",
            "36\n",
            "49\n",
            "64\n",
            "14\n",
            "92\n",
            "12\n",
            "96\n",
            "23\n",
            "24\n",
            "82\n",
            "13\n",
            "85\n",
            "48\n",
            "44\n",
            "16\n",
            "57\n",
            "98\n",
            "97\n",
            "33\n",
            "27\n",
            "67\n",
            "23\n",
            "81\n",
            "92\n",
            "65\n",
            "93\n",
            "75\n",
            "89\n",
            "79\n",
            "94\n",
            "47\n",
            "36\n",
            "94\n",
            "54\n",
            "83\n",
            "51\n",
            "43\n",
            "63\n",
            "36\n",
            "91\n",
            "71\n",
            "93\n",
            "93\n",
            "33\n",
            "14\n",
            "22\n",
            "83\n",
            "71\n",
            "27\n",
            "29\n",
            "63\n",
            "41\n",
            "26\n",
            "12\n",
            "88\n",
            "77\n",
            "44\n",
            "92\n",
            "34\n",
            "33\n",
            "42\n",
            "37\n",
            "17\n",
            "85\n",
            "14\n",
            "86\n",
            "29\n",
            "77\n",
            "84\n",
            "19\n",
            "84\n",
            "48\n",
            "25\n",
            "29\n",
            "65\n",
            "67\n",
            "43\n",
            "22\n",
            "17\n",
            "24\n",
            "84\n",
            "81\n",
            "29\n",
            "21\n",
            "73\n",
            "59\n",
            "56\n",
            "89\n",
            "49\n",
            "63\n",
            "48\n",
            "22\n",
            "31\n",
            "75\n",
            "66\n",
            "15\n",
            "46\n",
            "94\n",
            "18\n",
            "15\n",
            "28\n",
            "86\n",
            "57\n",
            "29\n",
            "75\n",
            "21\n",
            "17\n",
            "55\n",
            "86\n",
            "82\n",
            "81\n",
            "29\n",
            "92\n",
            "31\n",
            "55\n",
            "21\n",
            "39\n",
            "99\n",
            "33\n",
            "49\n",
            "81\n",
            "58\n",
            "33\n",
            "97\n",
            "37\n",
            "48\n",
            "96\n",
            "62\n",
            "67\n",
            "93\n",
            "22\n",
            "33\n",
            "99\n",
            "28\n",
            "37\n",
            "43\n",
            "43\n",
            "65\n",
            "61\n",
            "44\n",
            "22\n",
            "65\n",
            "52\n",
            "26\n",
            "21\n",
            "52\n",
            "63\n",
            "14\n",
            "64\n",
            "19\n",
            "16\n",
            "21\n",
            "22\n",
            "77\n",
            "21\n",
            "36\n",
            "72\n",
            "53\n",
            "49\n",
            "93\n",
            "82\n",
            "58\n",
            "45\n",
            "71\n",
            "61\n",
            "65\n",
            "57\n",
            "96\n",
            "47\n",
            "22\n",
            "37\n",
            "68\n",
            "96\n",
            "26\n",
            "48\n",
            "25\n",
            "33\n",
            "92\n",
            "16\n",
            "61\n",
            "46\n",
            "56\n",
            "98\n",
            "38\n",
            "49\n",
            "33\n",
            "25\n",
            "27\n",
            "83\n",
            "67\n",
            "99\n",
            "77\n",
            "32\n",
            "77\n",
            "16\n",
            "91\n",
            "29\n",
            "65\n",
            "69\n",
            "44\n",
            "47\n",
            "97\n",
            "99\n",
            "81\n",
            "12\n",
            "88\n",
            "75\n",
            "77\n",
            "18\n",
            "38\n",
            "42\n",
            "64\n",
            "47\n",
            "53\n",
            "12\n",
            "19\n",
            "75\n",
            "61\n",
            "56\n",
            "13\n",
            "66\n",
            "57\n",
            "11\n",
            "47\n",
            "29\n",
            "39\n",
            "91\n",
            "28\n",
            "99\n",
            "32\n",
            "91\n",
            "68\n",
            "33\n",
            "19\n",
            "23\n",
            "43\n",
            "52\n",
            "22\n",
            "51\n",
            "51\n",
            "17\n",
            "81\n",
            "41\n",
            "86\n",
            "99\n",
            "83\n",
            "77\n",
            "56\n",
            "82\n",
            "62\n",
            "52\n",
            "16\n",
            "57\n",
            "32\n",
            "22\n",
            "12\n",
            "28\n",
            "33\n",
            "74\n",
            "78\n",
            "73\n",
            "11\n",
            "52\n",
            "22\n",
            "66\n",
            "42\n",
            "82\n",
            "52\n",
            "38\n",
            "92\n",
            "89\n",
            "85\n",
            "42\n",
            "44\n",
            "35\n",
            "39\n",
            "46\n",
            "77\n",
            "81\n",
            "39\n",
            "16\n",
            "16\n",
            "12\n",
            "89\n",
            "82\n",
            "36\n",
            "24\n",
            "12\n",
            "73\n",
            "67\n",
            "53\n",
            "67\n",
            "85\n",
            "45\n",
            "42\n",
            "22\n",
            "85\n",
            "12\n",
            "73\n",
            "28\n",
            "45\n",
            "22\n",
            "67\n",
            "34\n",
            "17\n",
            "37\n",
            "27\n",
            "16\n",
            "35\n",
            "49\n",
            "24\n",
            "22\n",
            "58\n",
            "29\n",
            "42\n",
            "44\n",
            "17\n",
            "91\n",
            "48\n",
            "16\n",
            "97\n",
            "34\n",
            "96\n",
            "79\n",
            "55\n",
            "58\n",
            "55\n",
            "25\n",
            "29\n",
            "49\n",
            "65\n",
            "83\n",
            "16\n",
            "81\n",
            "88\n",
            "34\n",
            "79\n",
            "69\n",
            "24\n",
            "67\n",
            "35\n",
            "18\n",
            "19\n",
            "61\n",
            "55\n",
            "45\n",
            "38\n",
            "59\n",
            "26\n",
            "71\n",
            "31\n",
            "38\n",
            "12\n",
            "74\n",
            "59\n",
            "55\n",
            "17\n",
            "14\n",
            "57\n",
            "82\n",
            "38\n",
            "42\n",
            "17\n",
            "71\n",
            "45\n",
            "37\n",
            "78\n",
            "38\n"
          ]
        }
      ]
    },
    {
      "cell_type": "code",
      "source": [
        "sum"
      ],
      "metadata": {
        "colab": {
          "base_uri": "https://localhost:8080/"
        },
        "id": "474dGRxVMnq7",
        "outputId": "9c9f539a-d277-42dc-e0d0-8c0b8c6cdfbb"
      },
      "execution_count": null,
      "outputs": [
        {
          "output_type": "execute_result",
          "data": {
            "text/plain": [
              "53221"
            ]
          },
          "metadata": {},
          "execution_count": 24
        }
      ]
    },
    {
      "cell_type": "code",
      "source": [
        "k"
      ],
      "metadata": {
        "colab": {
          "base_uri": "https://localhost:8080/"
        },
        "id": "XLexFmU8MoIA",
        "outputId": "340076fa-f523-4fc6-85fb-03a99184d0f7"
      },
      "execution_count": null,
      "outputs": [
        {
          "output_type": "execute_result",
          "data": {
            "text/plain": [
              "0"
            ]
          },
          "metadata": {},
          "execution_count": 98
        }
      ]
    },
    {
      "cell_type": "code",
      "source": [
        "fullString"
      ],
      "metadata": {
        "colab": {
          "base_uri": "https://localhost:8080/",
          "height": 35
        },
        "id": "DQHEo0ZQMosH",
        "outputId": "798fbcda-44b6-4756-b23e-91202f6a6da8"
      },
      "execution_count": null,
      "outputs": [
        {
          "output_type": "execute_result",
          "data": {
            "text/plain": [
              "'29lzrxseven'"
            ],
            "application/vnd.google.colaboratory.intrinsic+json": {
              "type": "string"
            }
          },
          "metadata": {},
          "execution_count": 19
        }
      ]
    },
    {
      "cell_type": "code",
      "source": [],
      "metadata": {
        "id": "lAGVbD5rMufe"
      },
      "execution_count": null,
      "outputs": []
    },
    {
      "cell_type": "markdown",
      "source": [
        "## Day 2 Finding The Impossible"
      ],
      "metadata": {
        "id": "6O_gxoJv46LV"
      }
    },
    {
      "cell_type": "code",
      "source": [
        "data = pa.read_csv('https://raw.githubusercontent.com/nurfnick/AdventOfCode2023/main/input2', names=['1', '2', '3','4','5','6','7'],\n",
        "                     sep=':|;', engine='python')"
      ],
      "metadata": {
        "id": "nKHVGPSA49t_"
      },
      "execution_count": null,
      "outputs": []
    },
    {
      "cell_type": "code",
      "source": [
        "data"
      ],
      "metadata": {
        "colab": {
          "base_uri": "https://localhost:8080/",
          "height": 424
        },
        "id": "vIwqpU965iWI",
        "outputId": "da42bb08-f419-4448-b850-ede966479215"
      },
      "execution_count": null,
      "outputs": [
        {
          "output_type": "execute_result",
          "data": {
            "text/plain": [
              "           1                         2                          3  \\\n",
              "0     Game 1                    4 blue             1 green, 2 red   \n",
              "1     Game 2    7 red, 1 green, 4 blue            13 red, 11 blue   \n",
              "2     Game 3          1 blue, 10 green            4 green, 8 blue   \n",
              "3     Game 4           1 green, 2 blue            1 blue, 4 green   \n",
              "4     Game 5    3 red, 7 blue, 4 green   12 blue, 16 red, 4 green   \n",
              "..       ...                       ...                        ...   \n",
              "95   Game 96            13 red, 3 blue             3 red, 13 blue   \n",
              "96   Game 97    4 blue, 9 green, 2 red    2 red, 5 green, 13 blue   \n",
              "97   Game 98                     3 red            1 green, 10 red   \n",
              "98   Game 99           6 red, 14 green            8 green, 15 red   \n",
              "99  Game 100   9 blue, 18 green, 4 red   5 green, 10 blue, 11 red   \n",
              "\n",
              "                           4                         5  \\\n",
              "0     4 blue, 1 green, 6 red                      None   \n",
              "1              6 red, 2 blue             9 blue, 9 red   \n",
              "2    3 blue, 14 green, 1 red                      None   \n",
              "3     8 red, 3 blue, 3 green    8 red, 2 green, 1 blue   \n",
              "4             9 red, 2 green    1 blue, 1 green, 1 red   \n",
              "..                       ...                       ...   \n",
              "95    5 blue, 1 red, 2 green             7 red, 7 blue   \n",
              "96   9 blue, 2 red, 16 green                      None   \n",
              "97             2 blue, 8 red   1 green, 11 red, 2 blue   \n",
              "98            1 red, 4 green   2 blue, 7 green, 13 red   \n",
              "99            1 green, 1 red   16 green, 5 red, 1 blue   \n",
              "\n",
              "                           6                         7  \n",
              "0                       None                      None  \n",
              "1             4 blue, 11 red   15 red, 1 green, 3 blue  \n",
              "2                       None                      None  \n",
              "3     7 green, 3 blue, 2 red    1 red, 1 green, 3 blue  \n",
              "4                       None                      None  \n",
              "..                       ...                       ...  \n",
              "95   12 red, 9 blue, 3 green   8 red, 15 blue, 2 green  \n",
              "96                      None                      None  \n",
              "97                      None                      None  \n",
              "98   14 green, 5 red, 1 blue    1 blue, 5 red, 8 green  \n",
              "99                      None                      None  \n",
              "\n",
              "[100 rows x 7 columns]"
            ],
            "text/html": [
              "\n",
              "  <div id=\"df-b0060803-a125-4b48-8d92-68a398739f40\" class=\"colab-df-container\">\n",
              "    <div>\n",
              "<style scoped>\n",
              "    .dataframe tbody tr th:only-of-type {\n",
              "        vertical-align: middle;\n",
              "    }\n",
              "\n",
              "    .dataframe tbody tr th {\n",
              "        vertical-align: top;\n",
              "    }\n",
              "\n",
              "    .dataframe thead th {\n",
              "        text-align: right;\n",
              "    }\n",
              "</style>\n",
              "<table border=\"1\" class=\"dataframe\">\n",
              "  <thead>\n",
              "    <tr style=\"text-align: right;\">\n",
              "      <th></th>\n",
              "      <th>1</th>\n",
              "      <th>2</th>\n",
              "      <th>3</th>\n",
              "      <th>4</th>\n",
              "      <th>5</th>\n",
              "      <th>6</th>\n",
              "      <th>7</th>\n",
              "    </tr>\n",
              "  </thead>\n",
              "  <tbody>\n",
              "    <tr>\n",
              "      <th>0</th>\n",
              "      <td>Game 1</td>\n",
              "      <td>4 blue</td>\n",
              "      <td>1 green, 2 red</td>\n",
              "      <td>4 blue, 1 green, 6 red</td>\n",
              "      <td>None</td>\n",
              "      <td>None</td>\n",
              "      <td>None</td>\n",
              "    </tr>\n",
              "    <tr>\n",
              "      <th>1</th>\n",
              "      <td>Game 2</td>\n",
              "      <td>7 red, 1 green, 4 blue</td>\n",
              "      <td>13 red, 11 blue</td>\n",
              "      <td>6 red, 2 blue</td>\n",
              "      <td>9 blue, 9 red</td>\n",
              "      <td>4 blue, 11 red</td>\n",
              "      <td>15 red, 1 green, 3 blue</td>\n",
              "    </tr>\n",
              "    <tr>\n",
              "      <th>2</th>\n",
              "      <td>Game 3</td>\n",
              "      <td>1 blue, 10 green</td>\n",
              "      <td>4 green, 8 blue</td>\n",
              "      <td>3 blue, 14 green, 1 red</td>\n",
              "      <td>None</td>\n",
              "      <td>None</td>\n",
              "      <td>None</td>\n",
              "    </tr>\n",
              "    <tr>\n",
              "      <th>3</th>\n",
              "      <td>Game 4</td>\n",
              "      <td>1 green, 2 blue</td>\n",
              "      <td>1 blue, 4 green</td>\n",
              "      <td>8 red, 3 blue, 3 green</td>\n",
              "      <td>8 red, 2 green, 1 blue</td>\n",
              "      <td>7 green, 3 blue, 2 red</td>\n",
              "      <td>1 red, 1 green, 3 blue</td>\n",
              "    </tr>\n",
              "    <tr>\n",
              "      <th>4</th>\n",
              "      <td>Game 5</td>\n",
              "      <td>3 red, 7 blue, 4 green</td>\n",
              "      <td>12 blue, 16 red, 4 green</td>\n",
              "      <td>9 red, 2 green</td>\n",
              "      <td>1 blue, 1 green, 1 red</td>\n",
              "      <td>None</td>\n",
              "      <td>None</td>\n",
              "    </tr>\n",
              "    <tr>\n",
              "      <th>...</th>\n",
              "      <td>...</td>\n",
              "      <td>...</td>\n",
              "      <td>...</td>\n",
              "      <td>...</td>\n",
              "      <td>...</td>\n",
              "      <td>...</td>\n",
              "      <td>...</td>\n",
              "    </tr>\n",
              "    <tr>\n",
              "      <th>95</th>\n",
              "      <td>Game 96</td>\n",
              "      <td>13 red, 3 blue</td>\n",
              "      <td>3 red, 13 blue</td>\n",
              "      <td>5 blue, 1 red, 2 green</td>\n",
              "      <td>7 red, 7 blue</td>\n",
              "      <td>12 red, 9 blue, 3 green</td>\n",
              "      <td>8 red, 15 blue, 2 green</td>\n",
              "    </tr>\n",
              "    <tr>\n",
              "      <th>96</th>\n",
              "      <td>Game 97</td>\n",
              "      <td>4 blue, 9 green, 2 red</td>\n",
              "      <td>2 red, 5 green, 13 blue</td>\n",
              "      <td>9 blue, 2 red, 16 green</td>\n",
              "      <td>None</td>\n",
              "      <td>None</td>\n",
              "      <td>None</td>\n",
              "    </tr>\n",
              "    <tr>\n",
              "      <th>97</th>\n",
              "      <td>Game 98</td>\n",
              "      <td>3 red</td>\n",
              "      <td>1 green, 10 red</td>\n",
              "      <td>2 blue, 8 red</td>\n",
              "      <td>1 green, 11 red, 2 blue</td>\n",
              "      <td>None</td>\n",
              "      <td>None</td>\n",
              "    </tr>\n",
              "    <tr>\n",
              "      <th>98</th>\n",
              "      <td>Game 99</td>\n",
              "      <td>6 red, 14 green</td>\n",
              "      <td>8 green, 15 red</td>\n",
              "      <td>1 red, 4 green</td>\n",
              "      <td>2 blue, 7 green, 13 red</td>\n",
              "      <td>14 green, 5 red, 1 blue</td>\n",
              "      <td>1 blue, 5 red, 8 green</td>\n",
              "    </tr>\n",
              "    <tr>\n",
              "      <th>99</th>\n",
              "      <td>Game 100</td>\n",
              "      <td>9 blue, 18 green, 4 red</td>\n",
              "      <td>5 green, 10 blue, 11 red</td>\n",
              "      <td>1 green, 1 red</td>\n",
              "      <td>16 green, 5 red, 1 blue</td>\n",
              "      <td>None</td>\n",
              "      <td>None</td>\n",
              "    </tr>\n",
              "  </tbody>\n",
              "</table>\n",
              "<p>100 rows × 7 columns</p>\n",
              "</div>\n",
              "    <div class=\"colab-df-buttons\">\n",
              "\n",
              "  <div class=\"colab-df-container\">\n",
              "    <button class=\"colab-df-convert\" onclick=\"convertToInteractive('df-b0060803-a125-4b48-8d92-68a398739f40')\"\n",
              "            title=\"Convert this dataframe to an interactive table.\"\n",
              "            style=\"display:none;\">\n",
              "\n",
              "  <svg xmlns=\"http://www.w3.org/2000/svg\" height=\"24px\" viewBox=\"0 -960 960 960\">\n",
              "    <path d=\"M120-120v-720h720v720H120Zm60-500h600v-160H180v160Zm220 220h160v-160H400v160Zm0 220h160v-160H400v160ZM180-400h160v-160H180v160Zm440 0h160v-160H620v160ZM180-180h160v-160H180v160Zm440 0h160v-160H620v160Z\"/>\n",
              "  </svg>\n",
              "    </button>\n",
              "\n",
              "  <style>\n",
              "    .colab-df-container {\n",
              "      display:flex;\n",
              "      gap: 12px;\n",
              "    }\n",
              "\n",
              "    .colab-df-convert {\n",
              "      background-color: #E8F0FE;\n",
              "      border: none;\n",
              "      border-radius: 50%;\n",
              "      cursor: pointer;\n",
              "      display: none;\n",
              "      fill: #1967D2;\n",
              "      height: 32px;\n",
              "      padding: 0 0 0 0;\n",
              "      width: 32px;\n",
              "    }\n",
              "\n",
              "    .colab-df-convert:hover {\n",
              "      background-color: #E2EBFA;\n",
              "      box-shadow: 0px 1px 2px rgba(60, 64, 67, 0.3), 0px 1px 3px 1px rgba(60, 64, 67, 0.15);\n",
              "      fill: #174EA6;\n",
              "    }\n",
              "\n",
              "    .colab-df-buttons div {\n",
              "      margin-bottom: 4px;\n",
              "    }\n",
              "\n",
              "    [theme=dark] .colab-df-convert {\n",
              "      background-color: #3B4455;\n",
              "      fill: #D2E3FC;\n",
              "    }\n",
              "\n",
              "    [theme=dark] .colab-df-convert:hover {\n",
              "      background-color: #434B5C;\n",
              "      box-shadow: 0px 1px 3px 1px rgba(0, 0, 0, 0.15);\n",
              "      filter: drop-shadow(0px 1px 2px rgba(0, 0, 0, 0.3));\n",
              "      fill: #FFFFFF;\n",
              "    }\n",
              "  </style>\n",
              "\n",
              "    <script>\n",
              "      const buttonEl =\n",
              "        document.querySelector('#df-b0060803-a125-4b48-8d92-68a398739f40 button.colab-df-convert');\n",
              "      buttonEl.style.display =\n",
              "        google.colab.kernel.accessAllowed ? 'block' : 'none';\n",
              "\n",
              "      async function convertToInteractive(key) {\n",
              "        const element = document.querySelector('#df-b0060803-a125-4b48-8d92-68a398739f40');\n",
              "        const dataTable =\n",
              "          await google.colab.kernel.invokeFunction('convertToInteractive',\n",
              "                                                    [key], {});\n",
              "        if (!dataTable) return;\n",
              "\n",
              "        const docLinkHtml = 'Like what you see? Visit the ' +\n",
              "          '<a target=\"_blank\" href=https://colab.research.google.com/notebooks/data_table.ipynb>data table notebook</a>'\n",
              "          + ' to learn more about interactive tables.';\n",
              "        element.innerHTML = '';\n",
              "        dataTable['output_type'] = 'display_data';\n",
              "        await google.colab.output.renderOutput(dataTable, element);\n",
              "        const docLink = document.createElement('div');\n",
              "        docLink.innerHTML = docLinkHtml;\n",
              "        element.appendChild(docLink);\n",
              "      }\n",
              "    </script>\n",
              "  </div>\n",
              "\n",
              "\n",
              "<div id=\"df-406fbb23-8127-4a3b-bcdd-77bd49e3c6d2\">\n",
              "  <button class=\"colab-df-quickchart\" onclick=\"quickchart('df-406fbb23-8127-4a3b-bcdd-77bd49e3c6d2')\"\n",
              "            title=\"Suggest charts\"\n",
              "            style=\"display:none;\">\n",
              "\n",
              "<svg xmlns=\"http://www.w3.org/2000/svg\" height=\"24px\"viewBox=\"0 0 24 24\"\n",
              "     width=\"24px\">\n",
              "    <g>\n",
              "        <path d=\"M19 3H5c-1.1 0-2 .9-2 2v14c0 1.1.9 2 2 2h14c1.1 0 2-.9 2-2V5c0-1.1-.9-2-2-2zM9 17H7v-7h2v7zm4 0h-2V7h2v10zm4 0h-2v-4h2v4z\"/>\n",
              "    </g>\n",
              "</svg>\n",
              "  </button>\n",
              "\n",
              "<style>\n",
              "  .colab-df-quickchart {\n",
              "      --bg-color: #E8F0FE;\n",
              "      --fill-color: #1967D2;\n",
              "      --hover-bg-color: #E2EBFA;\n",
              "      --hover-fill-color: #174EA6;\n",
              "      --disabled-fill-color: #AAA;\n",
              "      --disabled-bg-color: #DDD;\n",
              "  }\n",
              "\n",
              "  [theme=dark] .colab-df-quickchart {\n",
              "      --bg-color: #3B4455;\n",
              "      --fill-color: #D2E3FC;\n",
              "      --hover-bg-color: #434B5C;\n",
              "      --hover-fill-color: #FFFFFF;\n",
              "      --disabled-bg-color: #3B4455;\n",
              "      --disabled-fill-color: #666;\n",
              "  }\n",
              "\n",
              "  .colab-df-quickchart {\n",
              "    background-color: var(--bg-color);\n",
              "    border: none;\n",
              "    border-radius: 50%;\n",
              "    cursor: pointer;\n",
              "    display: none;\n",
              "    fill: var(--fill-color);\n",
              "    height: 32px;\n",
              "    padding: 0;\n",
              "    width: 32px;\n",
              "  }\n",
              "\n",
              "  .colab-df-quickchart:hover {\n",
              "    background-color: var(--hover-bg-color);\n",
              "    box-shadow: 0 1px 2px rgba(60, 64, 67, 0.3), 0 1px 3px 1px rgba(60, 64, 67, 0.15);\n",
              "    fill: var(--button-hover-fill-color);\n",
              "  }\n",
              "\n",
              "  .colab-df-quickchart-complete:disabled,\n",
              "  .colab-df-quickchart-complete:disabled:hover {\n",
              "    background-color: var(--disabled-bg-color);\n",
              "    fill: var(--disabled-fill-color);\n",
              "    box-shadow: none;\n",
              "  }\n",
              "\n",
              "  .colab-df-spinner {\n",
              "    border: 2px solid var(--fill-color);\n",
              "    border-color: transparent;\n",
              "    border-bottom-color: var(--fill-color);\n",
              "    animation:\n",
              "      spin 1s steps(1) infinite;\n",
              "  }\n",
              "\n",
              "  @keyframes spin {\n",
              "    0% {\n",
              "      border-color: transparent;\n",
              "      border-bottom-color: var(--fill-color);\n",
              "      border-left-color: var(--fill-color);\n",
              "    }\n",
              "    20% {\n",
              "      border-color: transparent;\n",
              "      border-left-color: var(--fill-color);\n",
              "      border-top-color: var(--fill-color);\n",
              "    }\n",
              "    30% {\n",
              "      border-color: transparent;\n",
              "      border-left-color: var(--fill-color);\n",
              "      border-top-color: var(--fill-color);\n",
              "      border-right-color: var(--fill-color);\n",
              "    }\n",
              "    40% {\n",
              "      border-color: transparent;\n",
              "      border-right-color: var(--fill-color);\n",
              "      border-top-color: var(--fill-color);\n",
              "    }\n",
              "    60% {\n",
              "      border-color: transparent;\n",
              "      border-right-color: var(--fill-color);\n",
              "    }\n",
              "    80% {\n",
              "      border-color: transparent;\n",
              "      border-right-color: var(--fill-color);\n",
              "      border-bottom-color: var(--fill-color);\n",
              "    }\n",
              "    90% {\n",
              "      border-color: transparent;\n",
              "      border-bottom-color: var(--fill-color);\n",
              "    }\n",
              "  }\n",
              "</style>\n",
              "\n",
              "  <script>\n",
              "    async function quickchart(key) {\n",
              "      const quickchartButtonEl =\n",
              "        document.querySelector('#' + key + ' button');\n",
              "      quickchartButtonEl.disabled = true;  // To prevent multiple clicks.\n",
              "      quickchartButtonEl.classList.add('colab-df-spinner');\n",
              "      try {\n",
              "        const charts = await google.colab.kernel.invokeFunction(\n",
              "            'suggestCharts', [key], {});\n",
              "      } catch (error) {\n",
              "        console.error('Error during call to suggestCharts:', error);\n",
              "      }\n",
              "      quickchartButtonEl.classList.remove('colab-df-spinner');\n",
              "      quickchartButtonEl.classList.add('colab-df-quickchart-complete');\n",
              "    }\n",
              "    (() => {\n",
              "      let quickchartButtonEl =\n",
              "        document.querySelector('#df-406fbb23-8127-4a3b-bcdd-77bd49e3c6d2 button');\n",
              "      quickchartButtonEl.style.display =\n",
              "        google.colab.kernel.accessAllowed ? 'block' : 'none';\n",
              "    })();\n",
              "  </script>\n",
              "</div>\n",
              "    </div>\n",
              "  </div>\n"
            ]
          },
          "metadata": {},
          "execution_count": 38
        }
      ]
    },
    {
      "cell_type": "code",
      "source": [
        "data.iloc[0,1]"
      ],
      "metadata": {
        "colab": {
          "base_uri": "https://localhost:8080/",
          "height": 35
        },
        "id": "bczToWgb53rG",
        "outputId": "39f0d8f9-f63d-43c7-b00d-4f794934b4bb"
      },
      "execution_count": null,
      "outputs": [
        {
          "output_type": "execute_result",
          "data": {
            "text/plain": [
              "' 4 blue'"
            ],
            "application/vnd.google.colaboratory.intrinsic+json": {
              "type": "string"
            }
          },
          "metadata": {},
          "execution_count": 41
        }
      ]
    },
    {
      "cell_type": "code",
      "source": [
        "maxs ={'red':12,'green':13,'blue':14}"
      ],
      "metadata": {
        "id": "VBTYPP8r7r_E"
      },
      "execution_count": null,
      "outputs": []
    },
    {
      "cell_type": "code",
      "source": [
        "data.iloc[0,2].strip().find(',')"
      ],
      "metadata": {
        "colab": {
          "base_uri": "https://localhost:8080/"
        },
        "id": "LhBIMCbo7uzz",
        "outputId": "b0bd9030-711f-47b8-def9-8d941f38c199"
      },
      "execution_count": null,
      "outputs": [
        {
          "output_type": "execute_result",
          "data": {
            "text/plain": [
              "7"
            ]
          },
          "metadata": {},
          "execution_count": 44
        }
      ]
    },
    {
      "cell_type": "code",
      "source": [
        "data.iloc[0,2].strip()[:data.iloc[0,2].strip().find(',')]"
      ],
      "metadata": {
        "colab": {
          "base_uri": "https://localhost:8080/",
          "height": 35
        },
        "id": "yr_0qSXP9i7R",
        "outputId": "a2e3b35b-4814-432e-fa75-98e0a252e8b5"
      },
      "execution_count": null,
      "outputs": [
        {
          "output_type": "execute_result",
          "data": {
            "text/plain": [
              "'1 green'"
            ],
            "application/vnd.google.colaboratory.intrinsic+json": {
              "type": "string"
            }
          },
          "metadata": {},
          "execution_count": 54
        }
      ]
    },
    {
      "cell_type": "code",
      "source": [
        "def checkNumber(string):\n",
        "  string = string.strip()\n",
        "  if string[-5:] in maxs:#green\n",
        "    if int(string[:2])>13:\n",
        "      return False\n",
        "    else:\n",
        "      return True\n",
        "  if string[-4:] in maxs:#blue\n",
        "    if int(string[:2])>14:\n",
        "      return False\n",
        "    else:\n",
        "      return True\n",
        "  if string[-3:] in maxs:#red\n",
        "    #print(string[:2])\n",
        "    if int(string[:2])>12:\n",
        "      return False\n",
        "    else:\n",
        "      return True\n"
      ],
      "metadata": {
        "id": "SBcl649h-NsG"
      },
      "execution_count": null,
      "outputs": []
    },
    {
      "cell_type": "code",
      "source": [
        "checkNumber(data.iloc[0,2].strip()[:data.iloc[0,2].strip().find(',')])"
      ],
      "metadata": {
        "colab": {
          "base_uri": "https://localhost:8080/"
        },
        "id": "Lvd-GXJvBDSc",
        "outputId": "0f178050-9834-41cf-9f5d-d35747476f36"
      },
      "execution_count": null,
      "outputs": [
        {
          "output_type": "execute_result",
          "data": {
            "text/plain": [
              "True"
            ]
          },
          "metadata": {},
          "execution_count": 60
        }
      ]
    },
    {
      "cell_type": "code",
      "source": [
        "data.iloc[0,2].strip()[0:data.iloc[0,2].strip().find(',')]"
      ],
      "metadata": {
        "colab": {
          "base_uri": "https://localhost:8080/",
          "height": 35
        },
        "id": "OBBeN0yaBaVA",
        "outputId": "1e7f4026-b557-4859-eaee-0621e9d5a72a"
      },
      "execution_count": null,
      "outputs": [
        {
          "output_type": "execute_result",
          "data": {
            "text/plain": [
              "'1 green'"
            ],
            "application/vnd.google.colaboratory.intrinsic+json": {
              "type": "string"
            }
          },
          "metadata": {},
          "execution_count": 62
        }
      ]
    },
    {
      "cell_type": "code",
      "source": [
        "string = data.iloc[0,3].strip()\n",
        "pos = []\n",
        "#pos.append(0)\n",
        "\n",
        "pos.extend([i for i in range(len(string)) if string.startswith(',', i)])\n",
        "\n",
        "pos.append(len(string))"
      ],
      "metadata": {
        "id": "a4LUDdjwCHeP"
      },
      "execution_count": null,
      "outputs": []
    },
    {
      "cell_type": "code",
      "source": [
        "\n",
        "\n",
        "pos\n"
      ],
      "metadata": {
        "colab": {
          "base_uri": "https://localhost:8080/"
        },
        "id": "CVkRVyp2D3_F",
        "outputId": "ff69dcd5-53ce-4797-fd0d-1f903f77e6da"
      },
      "execution_count": null,
      "outputs": [
        {
          "output_type": "execute_result",
          "data": {
            "text/plain": [
              "[6, 15, 22]"
            ]
          },
          "metadata": {},
          "execution_count": 105
        }
      ]
    },
    {
      "cell_type": "code",
      "source": [
        "\n",
        "\n",
        "for index,num in enumerate(pos):\n",
        "  if index ==0:\n",
        "    checkNumber(string[0:num])\n",
        "  elif num == max(pos):\n",
        "    break\n",
        "  else:\n",
        "    checkNumber(string[num+1:pos[index+1]])\n"
      ],
      "metadata": {
        "id": "cVG1Hk--EIKG"
      },
      "execution_count": null,
      "outputs": []
    },
    {
      "cell_type": "code",
      "source": [
        "num"
      ],
      "metadata": {
        "colab": {
          "base_uri": "https://localhost:8080/"
        },
        "id": "E8Q_CN29Er02",
        "outputId": "c3a587cc-cd9c-4e1c-a397-ea87a791d770"
      },
      "execution_count": null,
      "outputs": [
        {
          "output_type": "execute_result",
          "data": {
            "text/plain": [
              "15"
            ]
          },
          "metadata": {},
          "execution_count": 107
        }
      ]
    },
    {
      "cell_type": "code",
      "source": [
        "pos[index+1]"
      ],
      "metadata": {
        "colab": {
          "base_uri": "https://localhost:8080/"
        },
        "id": "Bdt3CbwZIcmd",
        "outputId": "a8d6a7d2-13c3-4861-91b7-289d8f53c59e"
      },
      "execution_count": null,
      "outputs": [
        {
          "output_type": "execute_result",
          "data": {
            "text/plain": [
              "22"
            ]
          },
          "metadata": {},
          "execution_count": 108
        }
      ]
    },
    {
      "cell_type": "code",
      "source": [
        "def TruthOfEntry(string):\n",
        "  pos = []\n",
        "  pos.extend([i for i in range(len(string)) if string.startswith(',', i)])\n",
        "  pos.append(len(string))\n",
        "  #print(pos)\n",
        "  truth = True\n",
        "  for index,num in enumerate(pos):\n",
        "    if index ==0:\n",
        "      truth = truth and checkNumber(string[0:num])\n",
        "      #print(string[0:num])\n",
        "    else:\n",
        "      #print(string[pos[index-1]+1:num])\n",
        "      truth = truth and checkNumber(string[pos[index-1]+1:num])\n",
        "  return truth\n"
      ],
      "metadata": {
        "id": "clCfD5ccIej2"
      },
      "execution_count": null,
      "outputs": []
    },
    {
      "cell_type": "code",
      "source": [
        "TruthOfEntry(string)"
      ],
      "metadata": {
        "colab": {
          "base_uri": "https://localhost:8080/"
        },
        "id": "fL4NMZplJlkf",
        "outputId": "45fa5d3d-23d7-44ae-f256-998043602ffa"
      },
      "execution_count": null,
      "outputs": [
        {
          "output_type": "stream",
          "name": "stdout",
          "text": [
            "[6, 15, 22]\n",
            "4 blue\n",
            " 1 green\n",
            " 6 red\n"
          ]
        },
        {
          "output_type": "execute_result",
          "data": {
            "text/plain": [
              "True"
            ]
          },
          "metadata": {},
          "execution_count": 137
        }
      ]
    },
    {
      "cell_type": "code",
      "source": [
        "TruthOfEntry(data.iloc[1,6])"
      ],
      "metadata": {
        "colab": {
          "base_uri": "https://localhost:8080/"
        },
        "id": "dcietymwJoDO",
        "outputId": "86f91f90-bce8-4cf4-ffb4-1cdda563ffb3"
      },
      "execution_count": null,
      "outputs": [
        {
          "output_type": "execute_result",
          "data": {
            "text/plain": [
              "False"
            ]
          },
          "metadata": {},
          "execution_count": 148
        }
      ]
    },
    {
      "cell_type": "code",
      "source": [
        "data.iloc[1,6]"
      ],
      "metadata": {
        "colab": {
          "base_uri": "https://localhost:8080/",
          "height": 35
        },
        "id": "KU9Nay45JwRY",
        "outputId": "564fcb22-e581-4843-e092-7e4039eb54a2"
      },
      "execution_count": null,
      "outputs": [
        {
          "output_type": "execute_result",
          "data": {
            "text/plain": [
              "' 15 red, 1 green, 3 blue'"
            ],
            "application/vnd.google.colaboratory.intrinsic+json": {
              "type": "string"
            }
          },
          "metadata": {},
          "execution_count": 116
        }
      ]
    },
    {
      "cell_type": "code",
      "source": [
        "pos"
      ],
      "metadata": {
        "colab": {
          "base_uri": "https://localhost:8080/"
        },
        "id": "3BeibTmyJ9ti",
        "outputId": "5f0917b3-ca0b-4ddc-a5a7-5f3b63cff36c"
      },
      "execution_count": null,
      "outputs": [
        {
          "output_type": "execute_result",
          "data": {
            "text/plain": [
              "[6, 15, 22]"
            ]
          },
          "metadata": {},
          "execution_count": 117
        }
      ]
    },
    {
      "cell_type": "code",
      "source": [
        "checkNumber(' 15 red')"
      ],
      "metadata": {
        "colab": {
          "base_uri": "https://localhost:8080/"
        },
        "id": "PBx3R6fSKAXa",
        "outputId": "12f629e4-b9db-424b-831c-1a018087ea44"
      },
      "execution_count": null,
      "outputs": [
        {
          "output_type": "stream",
          "name": "stdout",
          "text": [
            "15\n"
          ]
        },
        {
          "output_type": "execute_result",
          "data": {
            "text/plain": [
              "False"
            ]
          },
          "metadata": {},
          "execution_count": 144
        }
      ]
    },
    {
      "cell_type": "code",
      "source": [
        "' 15 red'[:2]"
      ],
      "metadata": {
        "colab": {
          "base_uri": "https://localhost:8080/",
          "height": 35
        },
        "id": "0MDOpA7cUruR",
        "outputId": "ea9b9c26-2eec-41bf-f9cc-6308b8a8375d"
      },
      "execution_count": null,
      "outputs": [
        {
          "output_type": "execute_result",
          "data": {
            "text/plain": [
              "' 1'"
            ],
            "application/vnd.google.colaboratory.intrinsic+json": {
              "type": "string"
            }
          },
          "metadata": {},
          "execution_count": 142
        }
      ]
    },
    {
      "cell_type": "code",
      "source": [
        "sum = 0\n",
        "\n",
        "for i in range(100):\n",
        "  goodentry = True\n",
        "  for j in range(1,7):\n",
        "    if not pa.isna(data.iloc[i,j]):\n",
        "      goodentry = goodentry and TruthOfEntry(data.iloc[i,j])\n",
        "  if goodentry:\n",
        "    sum +=i+1\n"
      ],
      "metadata": {
        "id": "UfEsvNB6Uw_S"
      },
      "execution_count": null,
      "outputs": []
    },
    {
      "cell_type": "code",
      "source": [
        "sum"
      ],
      "metadata": {
        "colab": {
          "base_uri": "https://localhost:8080/"
        },
        "id": "NY8hrU85WEAQ",
        "outputId": "cf02203d-e59f-4e9e-f792-703d5a0925f6"
      },
      "execution_count": null,
      "outputs": [
        {
          "output_type": "execute_result",
          "data": {
            "text/plain": [
              "2268"
            ]
          },
          "metadata": {},
          "execution_count": 159
        }
      ]
    },
    {
      "cell_type": "markdown",
      "source": [
        "Yeah!  Got part 1.  Part two wants the maximum number of each color.  Let's see if we can modify our outputs."
      ],
      "metadata": {
        "id": "Jx8bjPJAXZxY"
      }
    },
    {
      "cell_type": "code",
      "source": [
        "def updateMax(string, greens, blues, reds):\n",
        "  string = string.strip()\n",
        "  if string[-5:] in maxs:#green\n",
        "    greens.append(int(string[:2]))\n",
        "  if string[-4:] in maxs:#blue\n",
        "    blues.append(int(string[:2]))\n",
        "  if string[-3:] in maxs:#red\n",
        "    reds.append(int(string[:2]))\n",
        "  return greens, blues, reds"
      ],
      "metadata": {
        "id": "0Qfua_RKWG6O"
      },
      "execution_count": null,
      "outputs": []
    },
    {
      "cell_type": "code",
      "source": [
        "updateMax(string[:6],[],[],[])"
      ],
      "metadata": {
        "colab": {
          "base_uri": "https://localhost:8080/"
        },
        "id": "jmd6DAK6ZLI9",
        "outputId": "7954c8f2-a2bc-4f86-b552-8bbfe29b0a54"
      },
      "execution_count": null,
      "outputs": [
        {
          "output_type": "execute_result",
          "data": {
            "text/plain": [
              "([], [4], [])"
            ]
          },
          "metadata": {},
          "execution_count": 165
        }
      ]
    },
    {
      "cell_type": "code",
      "source": [
        "def updateAll(string,greens,blues,reds):\n",
        "  pos = []\n",
        "  pos.extend([i for i in range(len(string)) if string.startswith(',', i)])\n",
        "  pos.append(len(string))\n",
        "  for index,num in enumerate(pos):\n",
        "    if index ==0:\n",
        "      greens, blues, reds = updateMax(string[0:num],greens, blues,reds)\n",
        "    else:\n",
        "     greens, blues, reds = updateMax(string[pos[index-1]+1:num],greens, blues, reds)\n",
        "  return greens, blues, reds"
      ],
      "metadata": {
        "id": "0RfVN9TSZL4K"
      },
      "execution_count": null,
      "outputs": []
    },
    {
      "cell_type": "code",
      "source": [
        "updateAll(string,[],[],[])"
      ],
      "metadata": {
        "colab": {
          "base_uri": "https://localhost:8080/"
        },
        "id": "bjkoZFvMaSJE",
        "outputId": "f658f31c-de07-45ec-d1f9-c7cca9cec706"
      },
      "execution_count": null,
      "outputs": [
        {
          "output_type": "execute_result",
          "data": {
            "text/plain": [
              "([1], [4], [6])"
            ]
          },
          "metadata": {},
          "execution_count": 167
        }
      ]
    },
    {
      "cell_type": "code",
      "source": [
        "string"
      ],
      "metadata": {
        "colab": {
          "base_uri": "https://localhost:8080/",
          "height": 35
        },
        "id": "3DjMEUFCaVfM",
        "outputId": "8e8068ba-8958-426b-99ee-69a6c394bf20"
      },
      "execution_count": null,
      "outputs": [
        {
          "output_type": "execute_result",
          "data": {
            "text/plain": [
              "'4 blue, 1 green, 6 red'"
            ],
            "application/vnd.google.colaboratory.intrinsic+json": {
              "type": "string"
            }
          },
          "metadata": {},
          "execution_count": 168
        }
      ]
    },
    {
      "cell_type": "code",
      "source": [
        "sum = 0\n",
        "\n",
        "for i in range(100):\n",
        "  greens = []\n",
        "  blues = []\n",
        "  reds = []\n",
        "  for j in range(1,7):\n",
        "    if not pa.isna(data.iloc[i,j]):\n",
        "      greens, blues, reds = updateAll(data.iloc[i,j], greens, blues, reds)\n",
        "  sum += max(greens)*max(reds)*max(blues)"
      ],
      "metadata": {
        "id": "0Ht5Q_FBaXa_"
      },
      "execution_count": null,
      "outputs": []
    },
    {
      "cell_type": "code",
      "source": [
        "sum"
      ],
      "metadata": {
        "colab": {
          "base_uri": "https://localhost:8080/"
        },
        "id": "z8dYmU3BbFGC",
        "outputId": "111b03f5-cf9c-4585-fa09-3c5f29018250"
      },
      "execution_count": null,
      "outputs": [
        {
          "output_type": "execute_result",
          "data": {
            "text/plain": [
              "63542"
            ]
          },
          "metadata": {},
          "execution_count": 172
        }
      ]
    },
    {
      "cell_type": "code",
      "source": [],
      "metadata": {
        "id": "y8dAFEx-bFli"
      },
      "execution_count": null,
      "outputs": []
    },
    {
      "cell_type": "markdown",
      "source": [
        "## Day 3:  Gear Ratios"
      ],
      "metadata": {
        "id": "S4zk2lE2yNVv"
      }
    },
    {
      "cell_type": "code",
      "source": [
        "data = pa.read_csv('https://raw.githubusercontent.com/nurfnick/AdventOfCode2023/main/input3', header = None)"
      ],
      "metadata": {
        "id": "eSIF-GYIyOoN"
      },
      "execution_count": null,
      "outputs": []
    },
    {
      "cell_type": "code",
      "source": [
        "data"
      ],
      "metadata": {
        "colab": {
          "base_uri": "https://localhost:8080/",
          "height": 424
        },
        "id": "HqW_ETJByZWo",
        "outputId": "2f4fd5c1-3296-482f-e311-6bcada0ccc42"
      },
      "execution_count": null,
      "outputs": [
        {
          "output_type": "execute_result",
          "data": {
            "text/plain": [
              "                                                     0\n",
              "0    .....180.........230.............................\n",
              "1    ........*.602.........571-.......................\n",
              "2    ..509.923.=....................+......835*.......\n",
              "3    ...*............273..........307..........393....\n",
              "4    .906..............*.350..........................\n",
              "..                                                 ...\n",
              "135  ..............*..........*......782..............\n",
              "136  ........315.850......850.3..........322..439.....\n",
              "137  .........*.............+.............*....*......\n",
              "138  ......231......%....................604.725......\n",
              "139  ..............688...869.........15...............\n",
              "\n",
              "[140 rows x 1 columns]"
            ],
            "text/html": [
              "\n",
              "  <div id=\"df-64f34695-6755-4bb5-ac3b-de1b2c3cb46e\" class=\"colab-df-container\">\n",
              "    <div>\n",
              "<style scoped>\n",
              "    .dataframe tbody tr th:only-of-type {\n",
              "        vertical-align: middle;\n",
              "    }\n",
              "\n",
              "    .dataframe tbody tr th {\n",
              "        vertical-align: top;\n",
              "    }\n",
              "\n",
              "    .dataframe thead th {\n",
              "        text-align: right;\n",
              "    }\n",
              "</style>\n",
              "<table border=\"1\" class=\"dataframe\">\n",
              "  <thead>\n",
              "    <tr style=\"text-align: right;\">\n",
              "      <th></th>\n",
              "      <th>0</th>\n",
              "    </tr>\n",
              "  </thead>\n",
              "  <tbody>\n",
              "    <tr>\n",
              "      <th>0</th>\n",
              "      <td>.....180.........230.............................</td>\n",
              "    </tr>\n",
              "    <tr>\n",
              "      <th>1</th>\n",
              "      <td>........*.602.........571-.......................</td>\n",
              "    </tr>\n",
              "    <tr>\n",
              "      <th>2</th>\n",
              "      <td>..509.923.=....................+......835*.......</td>\n",
              "    </tr>\n",
              "    <tr>\n",
              "      <th>3</th>\n",
              "      <td>...*............273..........307..........393....</td>\n",
              "    </tr>\n",
              "    <tr>\n",
              "      <th>4</th>\n",
              "      <td>.906..............*.350..........................</td>\n",
              "    </tr>\n",
              "    <tr>\n",
              "      <th>...</th>\n",
              "      <td>...</td>\n",
              "    </tr>\n",
              "    <tr>\n",
              "      <th>135</th>\n",
              "      <td>..............*..........*......782..............</td>\n",
              "    </tr>\n",
              "    <tr>\n",
              "      <th>136</th>\n",
              "      <td>........315.850......850.3..........322..439.....</td>\n",
              "    </tr>\n",
              "    <tr>\n",
              "      <th>137</th>\n",
              "      <td>.........*.............+.............*....*......</td>\n",
              "    </tr>\n",
              "    <tr>\n",
              "      <th>138</th>\n",
              "      <td>......231......%....................604.725......</td>\n",
              "    </tr>\n",
              "    <tr>\n",
              "      <th>139</th>\n",
              "      <td>..............688...869.........15...............</td>\n",
              "    </tr>\n",
              "  </tbody>\n",
              "</table>\n",
              "<p>140 rows × 1 columns</p>\n",
              "</div>\n",
              "    <div class=\"colab-df-buttons\">\n",
              "\n",
              "  <div class=\"colab-df-container\">\n",
              "    <button class=\"colab-df-convert\" onclick=\"convertToInteractive('df-64f34695-6755-4bb5-ac3b-de1b2c3cb46e')\"\n",
              "            title=\"Convert this dataframe to an interactive table.\"\n",
              "            style=\"display:none;\">\n",
              "\n",
              "  <svg xmlns=\"http://www.w3.org/2000/svg\" height=\"24px\" viewBox=\"0 -960 960 960\">\n",
              "    <path d=\"M120-120v-720h720v720H120Zm60-500h600v-160H180v160Zm220 220h160v-160H400v160Zm0 220h160v-160H400v160ZM180-400h160v-160H180v160Zm440 0h160v-160H620v160ZM180-180h160v-160H180v160Zm440 0h160v-160H620v160Z\"/>\n",
              "  </svg>\n",
              "    </button>\n",
              "\n",
              "  <style>\n",
              "    .colab-df-container {\n",
              "      display:flex;\n",
              "      gap: 12px;\n",
              "    }\n",
              "\n",
              "    .colab-df-convert {\n",
              "      background-color: #E8F0FE;\n",
              "      border: none;\n",
              "      border-radius: 50%;\n",
              "      cursor: pointer;\n",
              "      display: none;\n",
              "      fill: #1967D2;\n",
              "      height: 32px;\n",
              "      padding: 0 0 0 0;\n",
              "      width: 32px;\n",
              "    }\n",
              "\n",
              "    .colab-df-convert:hover {\n",
              "      background-color: #E2EBFA;\n",
              "      box-shadow: 0px 1px 2px rgba(60, 64, 67, 0.3), 0px 1px 3px 1px rgba(60, 64, 67, 0.15);\n",
              "      fill: #174EA6;\n",
              "    }\n",
              "\n",
              "    .colab-df-buttons div {\n",
              "      margin-bottom: 4px;\n",
              "    }\n",
              "\n",
              "    [theme=dark] .colab-df-convert {\n",
              "      background-color: #3B4455;\n",
              "      fill: #D2E3FC;\n",
              "    }\n",
              "\n",
              "    [theme=dark] .colab-df-convert:hover {\n",
              "      background-color: #434B5C;\n",
              "      box-shadow: 0px 1px 3px 1px rgba(0, 0, 0, 0.15);\n",
              "      filter: drop-shadow(0px 1px 2px rgba(0, 0, 0, 0.3));\n",
              "      fill: #FFFFFF;\n",
              "    }\n",
              "  </style>\n",
              "\n",
              "    <script>\n",
              "      const buttonEl =\n",
              "        document.querySelector('#df-64f34695-6755-4bb5-ac3b-de1b2c3cb46e button.colab-df-convert');\n",
              "      buttonEl.style.display =\n",
              "        google.colab.kernel.accessAllowed ? 'block' : 'none';\n",
              "\n",
              "      async function convertToInteractive(key) {\n",
              "        const element = document.querySelector('#df-64f34695-6755-4bb5-ac3b-de1b2c3cb46e');\n",
              "        const dataTable =\n",
              "          await google.colab.kernel.invokeFunction('convertToInteractive',\n",
              "                                                    [key], {});\n",
              "        if (!dataTable) return;\n",
              "\n",
              "        const docLinkHtml = 'Like what you see? Visit the ' +\n",
              "          '<a target=\"_blank\" href=https://colab.research.google.com/notebooks/data_table.ipynb>data table notebook</a>'\n",
              "          + ' to learn more about interactive tables.';\n",
              "        element.innerHTML = '';\n",
              "        dataTable['output_type'] = 'display_data';\n",
              "        await google.colab.output.renderOutput(dataTable, element);\n",
              "        const docLink = document.createElement('div');\n",
              "        docLink.innerHTML = docLinkHtml;\n",
              "        element.appendChild(docLink);\n",
              "      }\n",
              "    </script>\n",
              "  </div>\n",
              "\n",
              "\n",
              "<div id=\"df-e7d3e94c-2b74-4325-bf02-e28c62a0664c\">\n",
              "  <button class=\"colab-df-quickchart\" onclick=\"quickchart('df-e7d3e94c-2b74-4325-bf02-e28c62a0664c')\"\n",
              "            title=\"Suggest charts\"\n",
              "            style=\"display:none;\">\n",
              "\n",
              "<svg xmlns=\"http://www.w3.org/2000/svg\" height=\"24px\"viewBox=\"0 0 24 24\"\n",
              "     width=\"24px\">\n",
              "    <g>\n",
              "        <path d=\"M19 3H5c-1.1 0-2 .9-2 2v14c0 1.1.9 2 2 2h14c1.1 0 2-.9 2-2V5c0-1.1-.9-2-2-2zM9 17H7v-7h2v7zm4 0h-2V7h2v10zm4 0h-2v-4h2v4z\"/>\n",
              "    </g>\n",
              "</svg>\n",
              "  </button>\n",
              "\n",
              "<style>\n",
              "  .colab-df-quickchart {\n",
              "      --bg-color: #E8F0FE;\n",
              "      --fill-color: #1967D2;\n",
              "      --hover-bg-color: #E2EBFA;\n",
              "      --hover-fill-color: #174EA6;\n",
              "      --disabled-fill-color: #AAA;\n",
              "      --disabled-bg-color: #DDD;\n",
              "  }\n",
              "\n",
              "  [theme=dark] .colab-df-quickchart {\n",
              "      --bg-color: #3B4455;\n",
              "      --fill-color: #D2E3FC;\n",
              "      --hover-bg-color: #434B5C;\n",
              "      --hover-fill-color: #FFFFFF;\n",
              "      --disabled-bg-color: #3B4455;\n",
              "      --disabled-fill-color: #666;\n",
              "  }\n",
              "\n",
              "  .colab-df-quickchart {\n",
              "    background-color: var(--bg-color);\n",
              "    border: none;\n",
              "    border-radius: 50%;\n",
              "    cursor: pointer;\n",
              "    display: none;\n",
              "    fill: var(--fill-color);\n",
              "    height: 32px;\n",
              "    padding: 0;\n",
              "    width: 32px;\n",
              "  }\n",
              "\n",
              "  .colab-df-quickchart:hover {\n",
              "    background-color: var(--hover-bg-color);\n",
              "    box-shadow: 0 1px 2px rgba(60, 64, 67, 0.3), 0 1px 3px 1px rgba(60, 64, 67, 0.15);\n",
              "    fill: var(--button-hover-fill-color);\n",
              "  }\n",
              "\n",
              "  .colab-df-quickchart-complete:disabled,\n",
              "  .colab-df-quickchart-complete:disabled:hover {\n",
              "    background-color: var(--disabled-bg-color);\n",
              "    fill: var(--disabled-fill-color);\n",
              "    box-shadow: none;\n",
              "  }\n",
              "\n",
              "  .colab-df-spinner {\n",
              "    border: 2px solid var(--fill-color);\n",
              "    border-color: transparent;\n",
              "    border-bottom-color: var(--fill-color);\n",
              "    animation:\n",
              "      spin 1s steps(1) infinite;\n",
              "  }\n",
              "\n",
              "  @keyframes spin {\n",
              "    0% {\n",
              "      border-color: transparent;\n",
              "      border-bottom-color: var(--fill-color);\n",
              "      border-left-color: var(--fill-color);\n",
              "    }\n",
              "    20% {\n",
              "      border-color: transparent;\n",
              "      border-left-color: var(--fill-color);\n",
              "      border-top-color: var(--fill-color);\n",
              "    }\n",
              "    30% {\n",
              "      border-color: transparent;\n",
              "      border-left-color: var(--fill-color);\n",
              "      border-top-color: var(--fill-color);\n",
              "      border-right-color: var(--fill-color);\n",
              "    }\n",
              "    40% {\n",
              "      border-color: transparent;\n",
              "      border-right-color: var(--fill-color);\n",
              "      border-top-color: var(--fill-color);\n",
              "    }\n",
              "    60% {\n",
              "      border-color: transparent;\n",
              "      border-right-color: var(--fill-color);\n",
              "    }\n",
              "    80% {\n",
              "      border-color: transparent;\n",
              "      border-right-color: var(--fill-color);\n",
              "      border-bottom-color: var(--fill-color);\n",
              "    }\n",
              "    90% {\n",
              "      border-color: transparent;\n",
              "      border-bottom-color: var(--fill-color);\n",
              "    }\n",
              "  }\n",
              "</style>\n",
              "\n",
              "  <script>\n",
              "    async function quickchart(key) {\n",
              "      const quickchartButtonEl =\n",
              "        document.querySelector('#' + key + ' button');\n",
              "      quickchartButtonEl.disabled = true;  // To prevent multiple clicks.\n",
              "      quickchartButtonEl.classList.add('colab-df-spinner');\n",
              "      try {\n",
              "        const charts = await google.colab.kernel.invokeFunction(\n",
              "            'suggestCharts', [key], {});\n",
              "      } catch (error) {\n",
              "        console.error('Error during call to suggestCharts:', error);\n",
              "      }\n",
              "      quickchartButtonEl.classList.remove('colab-df-spinner');\n",
              "      quickchartButtonEl.classList.add('colab-df-quickchart-complete');\n",
              "    }\n",
              "    (() => {\n",
              "      let quickchartButtonEl =\n",
              "        document.querySelector('#df-e7d3e94c-2b74-4325-bf02-e28c62a0664c button');\n",
              "      quickchartButtonEl.style.display =\n",
              "        google.colab.kernel.accessAllowed ? 'block' : 'none';\n",
              "    })();\n",
              "  </script>\n",
              "</div>\n",
              "    </div>\n",
              "  </div>\n"
            ]
          },
          "metadata": {},
          "execution_count": 82
        }
      ]
    },
    {
      "cell_type": "code",
      "source": [
        "data.iloc[0,0][0]"
      ],
      "metadata": {
        "id": "oIkUWH2-yqdV",
        "outputId": "89a93841-4945-414b-a1fb-6f78e5323618",
        "colab": {
          "base_uri": "https://localhost:8080/",
          "height": 35
        }
      },
      "execution_count": null,
      "outputs": [
        {
          "output_type": "execute_result",
          "data": {
            "text/plain": [
              "'.'"
            ],
            "application/vnd.google.colaboratory.intrinsic+json": {
              "type": "string"
            }
          },
          "metadata": {},
          "execution_count": 83
        }
      ]
    },
    {
      "cell_type": "code",
      "source": [
        "digits = ['1','2','3','4','5','6','7','8','9','0']\n",
        "i = 0\n",
        "while data.iloc[0,0][i] not in digits:\n",
        "  i+=1\n",
        "j = i+1\n",
        "num = data.iloc[0,0][i]\n",
        "while data.iloc[0,0][j] in digits and j<140:\n",
        "  num +=data.iloc[0,0][j]\n",
        "  j+=1\n",
        "\n",
        "print(num)\n",
        "\n",
        "\n"
      ],
      "metadata": {
        "id": "WLk-9rO4yxzS",
        "outputId": "57cfaa74-d232-43e4-cdc4-b7dba678c8b0",
        "colab": {
          "base_uri": "https://localhost:8080/"
        }
      },
      "execution_count": null,
      "outputs": [
        {
          "output_type": "stream",
          "name": "stdout",
          "text": [
            "180\n"
          ]
        }
      ]
    },
    {
      "cell_type": "code",
      "source": [
        "def findANumber(string,startingPoint):\n",
        "  i = startingPoint\n",
        "  while string[i] not in digits:\n",
        "    i+=1\n",
        "  j = i+1\n",
        "  num = string[i]\n",
        "  while j<140 and string[j] in digits:\n",
        "    num +=string[j]\n",
        "    j+=1\n",
        "  start = i\n",
        "  end = j-1\n",
        "  return start,end,int(num)"
      ],
      "metadata": {
        "id": "fNDDfrKX0UND"
      },
      "execution_count": null,
      "outputs": []
    },
    {
      "cell_type": "code",
      "source": [
        "findANumber(data.iloc[0,0],0)"
      ],
      "metadata": {
        "id": "o8979-rI1Doz",
        "outputId": "67d9544d-284f-4ef6-fea5-bca45324af3d",
        "colab": {
          "base_uri": "https://localhost:8080/"
        }
      },
      "execution_count": null,
      "outputs": [
        {
          "output_type": "execute_result",
          "data": {
            "text/plain": [
              "(5, 7, 180)"
            ]
          },
          "metadata": {},
          "execution_count": 86
        }
      ]
    },
    {
      "cell_type": "code",
      "source": [
        "digitsAndPeriod = digits+['.']\n",
        "def testANumber(row,start,end):\n",
        "  if row != 0 and row != 139:\n",
        "    if start >0 and end <139:\n",
        "      for i in range(start-1,end+2):\n",
        "        if data.iloc[row-1,0][i] not in digitsAndPeriod:\n",
        "          return True\n",
        "        if data.iloc[row+1,0][i] not in digitsAndPeriod:\n",
        "          return True\n",
        "      if data.iloc[row,0][start-1] not in digitsAndPeriod or data.iloc[row,0][end+1] not in digitsAndPeriod:\n",
        "        return True\n",
        "    if start ==0:\n",
        "      for i in range(start,end+2):\n",
        "        if data.iloc[row-1,0][i] not in digitsAndPeriod:\n",
        "          return True\n",
        "        if data.iloc[row+1,0][i] not in digitsAndPeriod:\n",
        "          return True\n",
        "      if data.iloc[row,0][end+1] not in digitsAndPeriod:\n",
        "        return True\n",
        "    if end == 139:\n",
        "      for i in range(start-1,end+1):\n",
        "        if data.iloc[row-1,0][i] not in digitsAndPeriod:\n",
        "          return True\n",
        "        if data.iloc[row+1,0][i] not in digitsAndPeriod:\n",
        "          return True\n",
        "      if data.iloc[row,0][start-1] not in digitsAndPeriod:\n",
        "        return True\n",
        "  if row == 0:\n",
        "    if start >0 and end <139:\n",
        "      for i in range(start-1,end+2):\n",
        "        if data.iloc[row+1,0][i] not in digitsAndPeriod:\n",
        "          return True\n",
        "      if data.iloc[row,0][start-1] not in digitsAndPeriod or data.iloc[row,0][end+1] not in digitsAndPeriod:\n",
        "        return True\n",
        "    if start ==0:\n",
        "      for i in range(start,end+2):\n",
        "        if data.iloc[row+1,0][i] not in digitsAndPeriod:\n",
        "          return True\n",
        "      if data.iloc[row,0][start] not in digitsAndPeriod or data.iloc[row,0][end+1] not in digitsAndPeriod:\n",
        "        return True\n",
        "    if end == 139:\n",
        "      for i in range(start-1,end+1):\n",
        "        if data.iloc[row+1,0][i] not in digitsAndPeriod:\n",
        "          return True\n",
        "      if data.iloc[row,0][start-1] not in digitsAndPeriod:\n",
        "        return True\n",
        "  if row == 139:\n",
        "    if start >0 and end <139:\n",
        "      for i in range(start-1,end+2):\n",
        "        if data.iloc[row-1,0][i] not in digitsAndPeriod:\n",
        "          return True\n",
        "      if data.iloc[row,0][start-1] not in digitsAndPeriod or data.iloc[row,0][end+1] not in digitsAndPeriod:\n",
        "        return True\n",
        "    if start ==0:\n",
        "      for i in range(start,end+2):\n",
        "        if data.iloc[row-1,0][i] not in digitsAndPeriod:\n",
        "          return True\n",
        "      if data.iloc[row,0][start] not in digitsAndPeriod or data.iloc[row,0][end+1] not in digitsAndPeriod:\n",
        "        return True\n",
        "    if end == 139:\n",
        "      for i in range(start-1,end+1):\n",
        "        if data.iloc[row-1,0][i] not in digitsAndPeriod:\n",
        "          return True\n",
        "      if data.iloc[row,0][start-1] not in digitsAndPeriod:\n",
        "        return True\n",
        "  return False"
      ],
      "metadata": {
        "id": "ISK6-KkK1KAz"
      },
      "execution_count": null,
      "outputs": []
    },
    {
      "cell_type": "code",
      "source": [
        "digits"
      ],
      "metadata": {
        "id": "49FxaD661t7b",
        "outputId": "bf646d61-f86a-48c1-c510-515f8ea97ae1",
        "colab": {
          "base_uri": "https://localhost:8080/"
        }
      },
      "execution_count": null,
      "outputs": [
        {
          "output_type": "execute_result",
          "data": {
            "text/plain": [
              "['1', '2', '3', '4', '5', '6', '7', '8', '9', '0']"
            ]
          },
          "metadata": {},
          "execution_count": 9
        }
      ]
    },
    {
      "cell_type": "code",
      "source": [
        "digitsAndPeriod"
      ],
      "metadata": {
        "id": "kaNyh53c1uu7",
        "outputId": "4692cdf5-fe28-4cf6-975c-1a223aeb50a7",
        "colab": {
          "base_uri": "https://localhost:8080/"
        }
      },
      "execution_count": null,
      "outputs": [
        {
          "output_type": "execute_result",
          "data": {
            "text/plain": [
              "['1', '2', '3', '4', '5', '6', '7', '8', '9', '0', '.']"
            ]
          },
          "metadata": {},
          "execution_count": 12
        }
      ]
    },
    {
      "cell_type": "code",
      "source": [
        "len(data.iloc[0,0])"
      ],
      "metadata": {
        "id": "taD9DjKH120Y",
        "outputId": "f36d0dc5-199b-42d8-a3c0-d6b10d598c03",
        "colab": {
          "base_uri": "https://localhost:8080/"
        }
      },
      "execution_count": null,
      "outputs": [
        {
          "output_type": "execute_result",
          "data": {
            "text/plain": [
              "140"
            ]
          },
          "metadata": {},
          "execution_count": 88
        }
      ]
    },
    {
      "cell_type": "code",
      "source": [
        "data.iloc[0,0][8]"
      ],
      "metadata": {
        "id": "Hl1MnCkC2Okg",
        "outputId": "6d1c8b9f-fa6c-41c4-be9e-8ce50f09bbae",
        "colab": {
          "base_uri": "https://localhost:8080/",
          "height": 35
        }
      },
      "execution_count": null,
      "outputs": [
        {
          "output_type": "execute_result",
          "data": {
            "text/plain": [
              "'.'"
            ],
            "application/vnd.google.colaboratory.intrinsic+json": {
              "type": "string"
            }
          },
          "metadata": {},
          "execution_count": 89
        }
      ]
    },
    {
      "cell_type": "code",
      "source": [
        "testANumber(0,5,8)"
      ],
      "metadata": {
        "id": "GadqsKSW2uaV",
        "outputId": "1ef59320-6b22-4ea1-bb17-439c72f08935",
        "colab": {
          "base_uri": "https://localhost:8080/"
        }
      },
      "execution_count": null,
      "outputs": [
        {
          "output_type": "execute_result",
          "data": {
            "text/plain": [
              "True"
            ]
          },
          "metadata": {},
          "execution_count": 90
        }
      ]
    },
    {
      "cell_type": "code",
      "source": [
        "data.iloc[0:3,0]"
      ],
      "metadata": {
        "id": "dN2SpuNrWB0h",
        "outputId": "d6dfc547-e256-4876-87cc-93dbf496e84a",
        "colab": {
          "base_uri": "https://localhost:8080/"
        }
      },
      "execution_count": null,
      "outputs": [
        {
          "output_type": "execute_result",
          "data": {
            "text/plain": [
              "0    .....180.........230.............................\n",
              "1    ........*.602.........571-.......................\n",
              "2    ..509.923.=....................+......835*.......\n",
              "Name: 0, dtype: object"
            ]
          },
          "metadata": {},
          "execution_count": 91
        }
      ]
    },
    {
      "cell_type": "code",
      "source": [
        "findANumber(data.iloc[0,0],9)"
      ],
      "metadata": {
        "id": "JVEcSJX2WZ2n",
        "outputId": "2f474a7c-8435-4e39-a92b-4e4cdb7da477",
        "colab": {
          "base_uri": "https://localhost:8080/"
        }
      },
      "execution_count": null,
      "outputs": [
        {
          "output_type": "execute_result",
          "data": {
            "text/plain": [
              "(17, 19, 230)"
            ]
          },
          "metadata": {},
          "execution_count": 105
        }
      ]
    },
    {
      "cell_type": "code",
      "source": [
        "testANumber(0,17,19)"
      ],
      "metadata": {
        "id": "uaM4jK1ZXfFx",
        "outputId": "977d8303-b0a0-4724-80aa-06b164c16df5",
        "colab": {
          "base_uri": "https://localhost:8080/"
        }
      },
      "execution_count": null,
      "outputs": [
        {
          "output_type": "execute_result",
          "data": {
            "text/plain": [
              "False"
            ]
          },
          "metadata": {},
          "execution_count": 93
        }
      ]
    },
    {
      "cell_type": "code",
      "source": [
        "findANumber(0,20)"
      ],
      "metadata": {
        "id": "nDiUP67wXq_z",
        "outputId": "0d4bc78d-1661-4682-f31a-34d03b448759",
        "colab": {
          "base_uri": "https://localhost:8080/"
        }
      },
      "execution_count": null,
      "outputs": [
        {
          "output_type": "execute_result",
          "data": {
            "text/plain": [
              "(46, 48, 218)"
            ]
          },
          "metadata": {},
          "execution_count": 94
        }
      ]
    },
    {
      "cell_type": "code",
      "source": [
        "data.iloc[28,0]"
      ],
      "metadata": {
        "id": "Fdi7KGd3X0e9",
        "outputId": "080aad7a-5f28-468f-ae2d-a554591b8fc9",
        "colab": {
          "base_uri": "https://localhost:8080/",
          "height": 35
        }
      },
      "execution_count": null,
      "outputs": [
        {
          "output_type": "execute_result",
          "data": {
            "text/plain": [
              "'..................@..........345.189...849.........181...........879.....339.730...32........734...*..............793.289....*....&....#....'"
            ],
            "application/vnd.google.colaboratory.intrinsic+json": {
              "type": "string"
            }
          },
          "metadata": {},
          "execution_count": 162
        }
      ]
    },
    {
      "cell_type": "code",
      "source": [
        "data.iloc[29,0]"
      ],
      "metadata": {
        "id": "SEoSRvCdaYwv",
        "outputId": "e20f00a3-85ac-4666-8f9b-6d6ae22122ea",
        "colab": {
          "base_uri": "https://localhost:8080/",
          "height": 35
        }
      },
      "execution_count": null,
      "outputs": [
        {
          "output_type": "execute_result",
          "data": {
            "text/plain": [
              "'........%854....*.....*976......*........*.872....*.................%.............*......167.......2......................747......814......'"
            ],
            "application/vnd.google.colaboratory.intrinsic+json": {
              "type": "string"
            }
          },
          "metadata": {},
          "execution_count": 163
        }
      ]
    },
    {
      "cell_type": "code",
      "source": [
        "data.iloc[103,0]"
      ],
      "metadata": {
        "id": "9tT1W8_7cmaU",
        "outputId": "0b9ad30a-c4b4-4cd6-b473-96bc7ac74efa",
        "colab": {
          "base_uri": "https://localhost:8080/",
          "height": 35
        }
      },
      "execution_count": null,
      "outputs": [
        {
          "output_type": "execute_result",
          "data": {
            "text/plain": [
              "'..749.........368.............@....+......*......................660....862.866$...@./634.757..745........*.......209....652............*...'"
            ],
            "application/vnd.google.colaboratory.intrinsic+json": {
              "type": "string"
            }
          },
          "metadata": {},
          "execution_count": 177
        }
      ]
    },
    {
      "cell_type": "code",
      "source": [
        "data.iloc[104,0]"
      ],
      "metadata": {
        "id": "lOCZ9vziduoV",
        "outputId": "a6bf9d53-e571-4e52-92ba-4a3f39b23588",
        "colab": {
          "base_uri": "https://localhost:8080/",
          "height": 35
        }
      },
      "execution_count": null,
      "outputs": [
        {
          "output_type": "execute_result",
          "data": {
            "text/plain": [
              "'.......379..#...............577........835.............312*913.....*......*.......................*......872..747........................168'"
            ],
            "application/vnd.google.colaboratory.intrinsic+json": {
              "type": "string"
            }
          },
          "metadata": {},
          "execution_count": 176
        }
      ]
    },
    {
      "cell_type": "code",
      "source": [
        "data.iloc[105,0]"
      ],
      "metadata": {
        "id": "MWNscTcsoBeQ",
        "outputId": "40a6ef79-f42e-4e2a-89f6-1b89494cd3dc",
        "colab": {
          "base_uri": "https://localhost:8080/",
          "height": 35
        }
      },
      "execution_count": null,
      "outputs": [
        {
          "output_type": "execute_result",
          "data": {
            "text/plain": [
              "'........#....346.329.........................852.=9..............%.....972...-...............604..198.67...........711.............247@.....'"
            ],
            "application/vnd.google.colaboratory.intrinsic+json": {
              "type": "string"
            }
          },
          "metadata": {},
          "execution_count": 178
        }
      ]
    },
    {
      "cell_type": "code",
      "source": [
        "findANumber(data.iloc[104,0],130)"
      ],
      "metadata": {
        "id": "6Fdzhuv8pqXt",
        "outputId": "9b1afa63-b49e-4a1b-cd65-3ac3555bdafc",
        "colab": {
          "base_uri": "https://localhost:8080/"
        }
      },
      "execution_count": null,
      "outputs": [
        {
          "output_type": "execute_result",
          "data": {
            "text/plain": [
              "(137, 139, 168)"
            ]
          },
          "metadata": {},
          "execution_count": 188
        }
      ]
    },
    {
      "cell_type": "code",
      "source": [
        "sum = 0\n",
        "row =104\n",
        "j = 0\n",
        "while j<142:\n",
        "  try:\n",
        "    start, stop, num = findANumber(data.iloc[row,0],j)\n",
        "    j = stop+1\n",
        "    print(num)\n",
        "    if testANumber(row,start,stop):\n",
        "      print(num)\n",
        "      sum +=num\n",
        "  except:\n",
        "    break\n"
      ],
      "metadata": {
        "id": "R-uxzRzzX8pv",
        "outputId": "c5f719bd-ad76-48d1-d25f-a3ed5591c60e",
        "colab": {
          "base_uri": "https://localhost:8080/"
        }
      },
      "execution_count": null,
      "outputs": [
        {
          "output_type": "stream",
          "name": "stdout",
          "text": [
            "379\n",
            "379\n",
            "577\n",
            "577\n",
            "835\n",
            "835\n",
            "312\n",
            "312\n",
            "913\n",
            "913\n",
            "872\n",
            "872\n",
            "747\n",
            "168\n",
            "168\n"
          ]
        }
      ]
    },
    {
      "cell_type": "code",
      "source": [
        "140-36"
      ],
      "metadata": {
        "id": "VuDZfNtacVhv",
        "outputId": "23bbac7b-8ae1-4d9b-d3cd-09afff9773fc",
        "colab": {
          "base_uri": "https://localhost:8080/"
        }
      },
      "execution_count": null,
      "outputs": [
        {
          "output_type": "execute_result",
          "data": {
            "text/plain": [
              "104"
            ]
          },
          "metadata": {},
          "execution_count": 174
        }
      ]
    },
    {
      "cell_type": "code",
      "source": [
        "sum = 0\n",
        "row =1\n",
        "j = 0\n",
        "while j<140:\n",
        "  try:\n",
        "    start, stop, num = findANumber(data.iloc[row,0],j)\n",
        "    j = stop+1\n",
        "    print(num)\n",
        "    if testANumber(row,start,stop):\n",
        "      print(num)\n",
        "      sum +=num\n",
        "  except:\n",
        "    break\n"
      ],
      "metadata": {
        "id": "9LvRcUxfYUyi",
        "outputId": "e59180d6-3436-4c32-b7d4-d29f414d59c8",
        "colab": {
          "base_uri": "https://localhost:8080/"
        }
      },
      "execution_count": null,
      "outputs": [
        {
          "output_type": "stream",
          "name": "stdout",
          "text": [
            "602\n",
            "602\n",
            "571\n",
            "571\n",
            "199\n",
            "199\n",
            "181\n",
            "181\n",
            "980\n",
            "980\n",
            "292\n",
            "292\n"
          ]
        }
      ]
    },
    {
      "cell_type": "code",
      "source": [
        "sum"
      ],
      "metadata": {
        "id": "jwlZPuRzj0bQ",
        "outputId": "4c13150f-04bf-44da-9c61-7b848b2c35be",
        "colab": {
          "base_uri": "https://localhost:8080/"
        }
      },
      "execution_count": null,
      "outputs": [
        {
          "output_type": "execute_result",
          "data": {
            "text/plain": [
              "2825"
            ]
          },
          "metadata": {},
          "execution_count": 146
        }
      ]
    },
    {
      "cell_type": "code",
      "source": [
        "findANumber(data.iloc[row,0],20)"
      ],
      "metadata": {
        "id": "GNusIgBmeKVY",
        "outputId": "064432ad-486d-4aa4-a76c-ec720613f173",
        "colab": {
          "base_uri": "https://localhost:8080/"
        }
      },
      "execution_count": null,
      "outputs": [
        {
          "output_type": "execute_result",
          "data": {
            "text/plain": [
              "(22, 24, 571)"
            ]
          },
          "metadata": {},
          "execution_count": 109
        }
      ]
    },
    {
      "cell_type": "code",
      "source": [
        "testANumber(1,22,24)"
      ],
      "metadata": {
        "id": "qutVfPWabbDv",
        "outputId": "79d42169-6410-4d54-bc80-019fdeb79496",
        "colab": {
          "base_uri": "https://localhost:8080/"
        }
      },
      "execution_count": null,
      "outputs": [
        {
          "output_type": "execute_result",
          "data": {
            "text/plain": [
              "False"
            ]
          },
          "metadata": {},
          "execution_count": 110
        }
      ]
    },
    {
      "cell_type": "code",
      "source": [
        "data.iloc[row,0][24]"
      ],
      "metadata": {
        "id": "WDvCWfbabjP8",
        "outputId": "e999db63-0665-4ff1-dc0b-c740ab38532a",
        "colab": {
          "base_uri": "https://localhost:8080/",
          "height": 35
        }
      },
      "execution_count": null,
      "outputs": [
        {
          "output_type": "execute_result",
          "data": {
            "text/plain": [
              "'1'"
            ],
            "application/vnd.google.colaboratory.intrinsic+json": {
              "type": "string"
            }
          },
          "metadata": {},
          "execution_count": 111
        }
      ]
    },
    {
      "cell_type": "code",
      "source": [
        "sum = 0\n",
        "for row in range(150):\n",
        "  j = 0\n",
        "\n",
        "  while j<141:\n",
        "    try:\n",
        "      start, stop, num = findANumber(data.iloc[row,0],j)\n",
        "      j = stop+1\n",
        "      if testANumber(row,start,stop):\n",
        "        sum +=num\n",
        "    except:\n",
        "      break\n",
        "  print(row,sum)"
      ],
      "metadata": {
        "id": "HfRLs7TJZsus",
        "outputId": "dd677dc3-7e1a-453b-e1be-df4fa9fd1d0c",
        "colab": {
          "base_uri": "https://localhost:8080/"
        }
      },
      "execution_count": null,
      "outputs": [
        {
          "output_type": "stream",
          "name": "stdout",
          "text": [
            "0 1094\n",
            "1 3919\n",
            "2 10868\n",
            "3 12178\n",
            "4 16175\n",
            "5 19012\n",
            "6 22452\n",
            "7 25097\n",
            "8 29264\n",
            "9 32953\n",
            "10 37006\n",
            "11 43836\n",
            "12 44632\n",
            "13 49182\n",
            "14 53690\n",
            "15 56376\n",
            "16 60347\n",
            "17 63269\n",
            "18 68248\n",
            "19 70153\n",
            "20 74584\n",
            "21 80551\n",
            "22 83721\n",
            "23 87150\n",
            "24 91543\n",
            "25 94715\n",
            "26 98930\n",
            "27 103725\n",
            "28 109085\n",
            "29 112478\n",
            "30 114480\n",
            "31 119533\n",
            "32 123966\n",
            "33 129797\n",
            "34 132095\n",
            "35 136369\n",
            "36 138405\n",
            "37 143557\n",
            "38 146849\n",
            "39 150441\n",
            "40 155676\n",
            "41 157970\n",
            "42 160588\n",
            "43 163567\n",
            "44 165907\n",
            "45 168613\n",
            "46 172075\n",
            "47 177249\n",
            "48 183237\n",
            "49 185727\n",
            "50 190713\n",
            "51 194234\n",
            "52 197399\n",
            "53 200030\n",
            "54 200548\n",
            "55 206180\n",
            "56 208342\n",
            "57 213079\n",
            "58 216460\n",
            "59 219687\n",
            "60 224769\n",
            "61 227161\n",
            "62 229137\n",
            "63 233852\n",
            "64 237494\n",
            "65 238119\n",
            "66 242156\n",
            "67 246551\n",
            "68 250847\n",
            "69 255239\n",
            "70 259341\n",
            "71 267528\n",
            "72 270865\n",
            "73 274222\n",
            "74 277942\n",
            "75 283191\n",
            "76 286133\n",
            "77 288731\n",
            "78 292731\n",
            "79 295847\n",
            "80 300629\n",
            "81 302253\n",
            "82 306566\n",
            "83 311387\n",
            "84 316846\n",
            "85 322307\n",
            "86 324663\n",
            "87 328800\n",
            "88 332922\n",
            "89 335492\n",
            "90 340184\n",
            "91 342954\n",
            "92 347491\n",
            "93 350116\n",
            "94 354741\n",
            "95 360310\n",
            "96 363276\n",
            "97 366832\n",
            "98 372324\n",
            "99 374491\n",
            "100 378123\n",
            "101 379968\n",
            "102 384367\n",
            "103 389911\n",
            "104 393967\n",
            "105 397698\n",
            "106 400109\n",
            "107 405286\n",
            "108 410537\n",
            "109 413949\n",
            "110 419671\n",
            "111 423476\n",
            "112 427163\n",
            "113 429742\n",
            "114 436095\n",
            "115 439502\n",
            "116 443449\n",
            "117 449143\n",
            "118 452937\n",
            "119 458258\n",
            "120 461456\n",
            "121 466214\n",
            "122 471085\n",
            "123 474759\n",
            "124 478809\n",
            "125 483651\n",
            "126 488369\n",
            "127 492334\n",
            "128 498027\n",
            "129 500925\n",
            "130 504328\n",
            "131 507676\n",
            "132 511093\n",
            "133 516475\n",
            "134 520242\n",
            "135 524398\n",
            "136 529702\n",
            "137 532688\n",
            "138 535887\n",
            "139 537832\n",
            "140 537832\n",
            "141 537832\n",
            "142 537832\n",
            "143 537832\n",
            "144 537832\n",
            "145 537832\n",
            "146 537832\n",
            "147 537832\n",
            "148 537832\n",
            "149 537832\n"
          ]
        }
      ]
    },
    {
      "cell_type": "markdown",
      "source": [
        "Part 2 I need to look for two numbers next to a '*'....  Not really sure how to use my code above to work that."
      ],
      "metadata": {
        "id": "lLBIhxGosY5i"
      }
    },
    {
      "cell_type": "code",
      "source": [
        "def findAStar(string,startingPoint):\n",
        "  i = startingPoint\n",
        "  while i <140 and string[i] != '*':\n",
        "    i+=1\n",
        "  return i"
      ],
      "metadata": {
        "id": "i9DxrTmRkOoE"
      },
      "execution_count": null,
      "outputs": []
    },
    {
      "cell_type": "code",
      "source": [
        "findAStar(data.iloc[1,0],0)"
      ],
      "metadata": {
        "colab": {
          "base_uri": "https://localhost:8080/"
        },
        "id": "0rFXWhzI1o8c",
        "outputId": "0b108877-1cd8-425b-9229-0641294b8183"
      },
      "execution_count": null,
      "outputs": [
        {
          "output_type": "execute_result",
          "data": {
            "text/plain": [
              "8"
            ]
          },
          "metadata": {},
          "execution_count": 62
        }
      ]
    },
    {
      "cell_type": "code",
      "source": [
        "def findPosDigits(row,col):\n",
        "  pos = []\n",
        "  for i in range(row-1,row+2):\n",
        "    for j in range(col-1,col+2):\n",
        "      if data.iloc[i,0][j] in digits:\n",
        "        pos.append([i,j])\n",
        "  return pos\n"
      ],
      "metadata": {
        "id": "zDIvm7Aq1vk8"
      },
      "execution_count": null,
      "outputs": []
    },
    {
      "cell_type": "code",
      "source": [
        "findPosDigits(1,8)"
      ],
      "metadata": {
        "colab": {
          "base_uri": "https://localhost:8080/"
        },
        "id": "T3moLU_q2_J3",
        "outputId": "f1eba23b-9bca-478f-fe4b-09112b5a89e2"
      },
      "execution_count": null,
      "outputs": [
        {
          "output_type": "execute_result",
          "data": {
            "text/plain": [
              "[[0, 7], [2, 7], [2, 8]]"
            ]
          },
          "metadata": {},
          "execution_count": 50
        }
      ]
    },
    {
      "cell_type": "code",
      "source": [
        "def findNumberWithStartDigit(listPos):\n",
        "  nums = []\n",
        "  for pos in listPos:\n",
        "    row = pos[0]\n",
        "    i = pos[1]\n",
        "    while i>-1 and data.iloc[row,0][i] in digits:\n",
        "      i-=1\n",
        "    start = i+1\n",
        "    i = pos[1]\n",
        "    while i<140 and data.iloc[row,0][i] in digits:\n",
        "      i+=1\n",
        "    end = i\n",
        "    if int(data.iloc[row,0][start:end]) not in nums:\n",
        "      nums.append(int(data.iloc[row,0][start:end]))\n",
        "  return nums"
      ],
      "metadata": {
        "id": "h-9pfB0h3GEl"
      },
      "execution_count": null,
      "outputs": []
    },
    {
      "cell_type": "code",
      "source": [
        "findNumberWithStartDigit(findPosDigits(1,8))"
      ],
      "metadata": {
        "colab": {
          "base_uri": "https://localhost:8080/"
        },
        "id": "lgLrTC6e5OAI",
        "outputId": "733627c1-6421-4a4e-d1e7-5355b89d7690"
      },
      "execution_count": null,
      "outputs": [
        {
          "output_type": "execute_result",
          "data": {
            "text/plain": [
              "[180, 923]"
            ]
          },
          "metadata": {},
          "execution_count": 73
        }
      ]
    },
    {
      "cell_type": "code",
      "source": [
        "findAStar(data.iloc[1,0],9)"
      ],
      "metadata": {
        "colab": {
          "base_uri": "https://localhost:8080/"
        },
        "id": "QVei99xG5U1V",
        "outputId": "43d6ae6f-d488-4906-98f6-c37247282025"
      },
      "execution_count": null,
      "outputs": [
        {
          "output_type": "execute_result",
          "data": {
            "text/plain": [
              "49"
            ]
          },
          "metadata": {},
          "execution_count": 74
        }
      ]
    },
    {
      "cell_type": "code",
      "source": [
        "findNumberWithStartDigit(findPosDigits(1,49))"
      ],
      "metadata": {
        "colab": {
          "base_uri": "https://localhost:8080/"
        },
        "id": "_-el3iZN6TK1",
        "outputId": "1595f64e-f95c-4d32-83c9-d82627e76a5b"
      },
      "execution_count": null,
      "outputs": [
        {
          "output_type": "execute_result",
          "data": {
            "text/plain": [
              "[218, 608]"
            ]
          },
          "metadata": {},
          "execution_count": 75
        }
      ]
    },
    {
      "cell_type": "code",
      "source": [
        "findAStar(data.iloc[1,0],50)"
      ],
      "metadata": {
        "colab": {
          "base_uri": "https://localhost:8080/"
        },
        "id": "mOrGR-EB6c49",
        "outputId": "904a9b4d-0cb3-4d37-9361-6a3b8ee13075"
      },
      "execution_count": null,
      "outputs": [
        {
          "output_type": "execute_result",
          "data": {
            "text/plain": [
              "53"
            ]
          },
          "metadata": {},
          "execution_count": 66
        }
      ]
    },
    {
      "cell_type": "code",
      "source": [
        "arr = findNumberWithStartDigit(findPosDigits(1,53))\n",
        "len(arr)\n",
        "arr[0]*arr[1]"
      ],
      "metadata": {
        "colab": {
          "base_uri": "https://localhost:8080/"
        },
        "id": "J1aZHw6Z6hCU",
        "outputId": "3d2a2dcf-78d3-44e9-cae6-b74708380211"
      },
      "execution_count": null,
      "outputs": [
        {
          "output_type": "execute_result",
          "data": {
            "text/plain": [
              "185976"
            ]
          },
          "metadata": {},
          "execution_count": 69
        }
      ]
    },
    {
      "cell_type": "code",
      "source": [
        "sum = 0\n",
        "\n",
        "for row in range(0,140):\n",
        "  col = 0\n",
        "  while findAStar(data.iloc[row,0],col)<140:\n",
        "    col = findAStar(data.iloc[row,0],col)\n",
        "    arr = findNumberWithStartDigit(findPosDigits(row,col))\n",
        "    if len(arr) == 2:\n",
        "      sum += arr[0]*arr[1]\n",
        "    col +=1"
      ],
      "metadata": {
        "id": "BIPuwkK96k1p"
      },
      "execution_count": null,
      "outputs": []
    },
    {
      "cell_type": "code",
      "source": [
        "sum"
      ],
      "metadata": {
        "colab": {
          "base_uri": "https://localhost:8080/"
        },
        "id": "ZtpVJOkT8qmH",
        "outputId": "7927c413-c73b-4b09-984d-ebcf931584e0"
      },
      "execution_count": null,
      "outputs": [
        {
          "output_type": "execute_result",
          "data": {
            "text/plain": [
              "81939900"
            ]
          },
          "metadata": {},
          "execution_count": 117
        }
      ]
    },
    {
      "cell_type": "code",
      "source": [
        "row"
      ],
      "metadata": {
        "colab": {
          "base_uri": "https://localhost:8080/"
        },
        "id": "QHfAWYAT8rMl",
        "outputId": "d0a06c5d-3a8e-4aa5-b65a-39424da9f8b9"
      },
      "execution_count": null,
      "outputs": [
        {
          "output_type": "execute_result",
          "data": {
            "text/plain": [
              "139"
            ]
          },
          "metadata": {},
          "execution_count": 91
        }
      ]
    },
    {
      "cell_type": "code",
      "source": [
        "col"
      ],
      "metadata": {
        "colab": {
          "base_uri": "https://localhost:8080/"
        },
        "id": "mSTIWwPh-NKy",
        "outputId": "e74ba5ea-0571-4f74-c4de-f028dd732597"
      },
      "execution_count": null,
      "outputs": [
        {
          "output_type": "execute_result",
          "data": {
            "text/plain": [
              "0"
            ]
          },
          "metadata": {},
          "execution_count": 93
        }
      ]
    },
    {
      "cell_type": "code",
      "source": [
        "arr"
      ],
      "metadata": {
        "colab": {
          "base_uri": "https://localhost:8080/"
        },
        "id": "kyClDArs-jeV",
        "outputId": "66cc2085-4f1f-4b5b-d4ea-e99bba9aff44"
      },
      "execution_count": null,
      "outputs": [
        {
          "output_type": "execute_result",
          "data": {
            "text/plain": [
              "[180, 923]"
            ]
          },
          "metadata": {},
          "execution_count": 85
        }
      ]
    },
    {
      "cell_type": "code",
      "source": [
        "findAStar(data.iloc[23,0],0)"
      ],
      "metadata": {
        "colab": {
          "base_uri": "https://localhost:8080/"
        },
        "id": "Wdq4sSUj-l2F",
        "outputId": "eda08107-3b98-4b6a-adce-0764231dbb7f"
      },
      "execution_count": null,
      "outputs": [
        {
          "output_type": "execute_result",
          "data": {
            "text/plain": [
              "78"
            ]
          },
          "metadata": {},
          "execution_count": 111
        }
      ]
    },
    {
      "cell_type": "code",
      "source": [
        "findAStar(data.iloc[22,0],21)"
      ],
      "metadata": {
        "id": "CLzV3FQOBxWY",
        "outputId": "2cdd6ed8-ee43-4fbe-ad8c-02ccd1bb8246",
        "colab": {
          "base_uri": "https://localhost:8080/"
        }
      },
      "execution_count": null,
      "outputs": [
        {
          "output_type": "execute_result",
          "data": {
            "text/plain": [
              "140"
            ]
          },
          "metadata": {},
          "execution_count": 109
        }
      ]
    },
    {
      "cell_type": "code",
      "source": [
        "findNumberWithStartDigit(findPosDigits(23,78))"
      ],
      "metadata": {
        "id": "KyEk46tLB0pA",
        "outputId": "b6711e84-5ca6-4618-cfc6-99dce6900517",
        "colab": {
          "base_uri": "https://localhost:8080/"
        }
      },
      "execution_count": null,
      "outputs": [
        {
          "output_type": "execute_result",
          "data": {
            "text/plain": [
              "[126, 903]"
            ]
          },
          "metadata": {},
          "execution_count": 115
        }
      ]
    },
    {
      "cell_type": "code",
      "source": [
        "data.iloc[21,0]"
      ],
      "metadata": {
        "id": "oBO1K9O1CLw2",
        "outputId": "1eecbb75-ea9c-470f-b6f0-d471a6362204",
        "colab": {
          "base_uri": "https://localhost:8080/",
          "height": 35
        }
      },
      "execution_count": null,
      "outputs": [
        {
          "output_type": "execute_result",
          "data": {
            "text/plain": [
              "'716......439.498...........942....719..................697@...............*.....&688...............*..421........&..847................&....'"
            ],
            "application/vnd.google.colaboratory.intrinsic+json": {
              "type": "string"
            }
          },
          "metadata": {},
          "execution_count": 98
        }
      ]
    },
    {
      "cell_type": "code",
      "source": [
        "data.iloc[22,0]"
      ],
      "metadata": {
        "id": "lv1hKU9CB-Wx",
        "outputId": "d078898e-849f-4d26-8fae-d27779f9512a",
        "colab": {
          "base_uri": "https://localhost:8080/",
          "height": 35
        }
      },
      "execution_count": null,
      "outputs": [
        {
          "output_type": "execute_result",
          "data": {
            "text/plain": [
              "'...*261.....*.......*.................=..........................5.....800................-......471..%......753...............880.../......'"
            ],
            "application/vnd.google.colaboratory.intrinsic+json": {
              "type": "string"
            }
          },
          "metadata": {},
          "execution_count": 97
        }
      ]
    },
    {
      "cell_type": "code",
      "source": [
        "data.iloc[23,0]"
      ],
      "metadata": {
        "id": "KFFHDYJTCJOZ",
        "outputId": "6f6fd42b-6912-4bb8-90fd-e3a90d4ee29b",
        "colab": {
          "base_uri": "https://localhost:8080/",
          "height": 35
        }
      },
      "execution_count": null,
      "outputs": [
        {
          "output_type": "execute_result",
          "data": {
            "text/plain": [
              "'.................289.715............832........120...=............&...........*126.........258..............*.........300.......*...909.....'"
            ],
            "application/vnd.google.colaboratory.intrinsic+json": {
              "type": "string"
            }
          },
          "metadata": {},
          "execution_count": 99
        }
      ]
    },
    {
      "cell_type": "code",
      "source": [
        "data.iloc[24,0]"
      ],
      "metadata": {
        "id": "Od0iI4YmCSrk",
        "outputId": "4ced5e71-01da-4156-9467-bfb7d9a24c76",
        "colab": {
          "base_uri": "https://localhost:8080/",
          "height": 35
        }
      },
      "execution_count": null,
      "outputs": [
        {
          "output_type": "execute_result",
          "data": {
            "text/plain": [
              "'.676.........432................757.................309..............311...903..................422.......335..38......*.....521............'"
            ],
            "application/vnd.google.colaboratory.intrinsic+json": {
              "type": "string"
            }
          },
          "metadata": {},
          "execution_count": 110
        }
      ]
    },
    {
      "cell_type": "code",
      "source": [
        "findPosDigits(23,78)"
      ],
      "metadata": {
        "id": "AfF5B1UUDW6j",
        "outputId": "a4dd7fc5-aaf6-4419-ea24-30db5ab3537f",
        "colab": {
          "base_uri": "https://localhost:8080/"
        }
      },
      "execution_count": null,
      "outputs": [
        {
          "output_type": "execute_result",
          "data": {
            "text/plain": [
              "[[23, 79], [24, 77]]"
            ]
          },
          "metadata": {},
          "execution_count": 114
        }
      ]
    },
    {
      "cell_type": "code",
      "source": [],
      "metadata": {
        "id": "__6CxTmnD7MT"
      },
      "execution_count": null,
      "outputs": []
    },
    {
      "cell_type": "markdown",
      "source": [
        "## Day 4:  Lotto"
      ],
      "metadata": {
        "id": "2hmALrPRV6uQ"
      }
    },
    {
      "cell_type": "code",
      "source": [
        "data = pa.read_csv('https://raw.githubusercontent.com/nurfnick/AdventOfCode2023/main/input4',header = None,sep=':|\\|', engine='python')"
      ],
      "metadata": {
        "id": "DUlThFR8V8-N"
      },
      "execution_count": null,
      "outputs": []
    },
    {
      "cell_type": "code",
      "source": [
        "data"
      ],
      "metadata": {
        "id": "QS7oGQYxV_JM",
        "outputId": "54fe535c-8854-4e48-e440-e538c747d45f",
        "colab": {
          "base_uri": "https://localhost:8080/",
          "height": 424
        }
      },
      "execution_count": null,
      "outputs": [
        {
          "output_type": "execute_result",
          "data": {
            "text/plain": [
              "            0                                1  \\\n",
              "0    Card   1   33 56 23 64 92 86 94  7 59 13    \n",
              "1    Card   2   61 66 75  1 27 38 93 90 34 43    \n",
              "2    Card   3   57  7 33 56 85  6 88 34 80  8    \n",
              "3    Card   4   79 85 94 74 15 62 84 88 76 56    \n",
              "4    Card   5   57 94 99 25 52 67 69 31 26 78    \n",
              "..        ...                              ...   \n",
              "201  Card 202   86 56 57 83 11 19 52 69 36 17    \n",
              "202  Card 203   76 23 26 70 12 48 60 11 72 64    \n",
              "203  Card 204   23 75 70 14 95 84 61  9 66 77    \n",
              "204  Card 205    2 99 53 15 32  6 16 69 21 14    \n",
              "205  Card 206   74 30 29 66 68  2  3 34 79 87    \n",
              "\n",
              "                                                     2  \n",
              "0     86 92 64 43 10 70 16 55 79 33 56  8  7 25 82 ...  \n",
              "1     94 46 62 49 35 88 45 70 15 22 20 86 56 38 64 ...  \n",
              "2     92 42  7 60 61 51 40  6 67 35  3 25 87  2 98 ...  \n",
              "3     56  9 22 57  4 92 62 79 84 64 72 55 34 88 66 ...  \n",
              "4     94 52 31 83 70 45 40 67 89 11 81 24 25 61 26 ...  \n",
              "..                                                 ...  \n",
              "201   65 72 11 95 73 49 25 75 15  5 84 35 18 71 44 ...  \n",
              "202   90 56 99 59 64 62 15 84 71 11 85 93 98 33 46 ...  \n",
              "203   79  8  1 64 50 41 32 93 58 15 33 10 28 72 82 ...  \n",
              "204   96 98 24 66  6 47  4 54 45 46 42 13 75 11 80 ...  \n",
              "205   63 45 88 78 98 27 97 32 38 75  9 11 71 93 55 ...  \n",
              "\n",
              "[206 rows x 3 columns]"
            ],
            "text/html": [
              "\n",
              "  <div id=\"df-3e1aee55-e5ab-4e17-aae1-3f3f9a1f99eb\" class=\"colab-df-container\">\n",
              "    <div>\n",
              "<style scoped>\n",
              "    .dataframe tbody tr th:only-of-type {\n",
              "        vertical-align: middle;\n",
              "    }\n",
              "\n",
              "    .dataframe tbody tr th {\n",
              "        vertical-align: top;\n",
              "    }\n",
              "\n",
              "    .dataframe thead th {\n",
              "        text-align: right;\n",
              "    }\n",
              "</style>\n",
              "<table border=\"1\" class=\"dataframe\">\n",
              "  <thead>\n",
              "    <tr style=\"text-align: right;\">\n",
              "      <th></th>\n",
              "      <th>0</th>\n",
              "      <th>1</th>\n",
              "      <th>2</th>\n",
              "    </tr>\n",
              "  </thead>\n",
              "  <tbody>\n",
              "    <tr>\n",
              "      <th>0</th>\n",
              "      <td>Card   1</td>\n",
              "      <td>33 56 23 64 92 86 94  7 59 13</td>\n",
              "      <td>86 92 64 43 10 70 16 55 79 33 56  8  7 25 82 ...</td>\n",
              "    </tr>\n",
              "    <tr>\n",
              "      <th>1</th>\n",
              "      <td>Card   2</td>\n",
              "      <td>61 66 75  1 27 38 93 90 34 43</td>\n",
              "      <td>94 46 62 49 35 88 45 70 15 22 20 86 56 38 64 ...</td>\n",
              "    </tr>\n",
              "    <tr>\n",
              "      <th>2</th>\n",
              "      <td>Card   3</td>\n",
              "      <td>57  7 33 56 85  6 88 34 80  8</td>\n",
              "      <td>92 42  7 60 61 51 40  6 67 35  3 25 87  2 98 ...</td>\n",
              "    </tr>\n",
              "    <tr>\n",
              "      <th>3</th>\n",
              "      <td>Card   4</td>\n",
              "      <td>79 85 94 74 15 62 84 88 76 56</td>\n",
              "      <td>56  9 22 57  4 92 62 79 84 64 72 55 34 88 66 ...</td>\n",
              "    </tr>\n",
              "    <tr>\n",
              "      <th>4</th>\n",
              "      <td>Card   5</td>\n",
              "      <td>57 94 99 25 52 67 69 31 26 78</td>\n",
              "      <td>94 52 31 83 70 45 40 67 89 11 81 24 25 61 26 ...</td>\n",
              "    </tr>\n",
              "    <tr>\n",
              "      <th>...</th>\n",
              "      <td>...</td>\n",
              "      <td>...</td>\n",
              "      <td>...</td>\n",
              "    </tr>\n",
              "    <tr>\n",
              "      <th>201</th>\n",
              "      <td>Card 202</td>\n",
              "      <td>86 56 57 83 11 19 52 69 36 17</td>\n",
              "      <td>65 72 11 95 73 49 25 75 15  5 84 35 18 71 44 ...</td>\n",
              "    </tr>\n",
              "    <tr>\n",
              "      <th>202</th>\n",
              "      <td>Card 203</td>\n",
              "      <td>76 23 26 70 12 48 60 11 72 64</td>\n",
              "      <td>90 56 99 59 64 62 15 84 71 11 85 93 98 33 46 ...</td>\n",
              "    </tr>\n",
              "    <tr>\n",
              "      <th>203</th>\n",
              "      <td>Card 204</td>\n",
              "      <td>23 75 70 14 95 84 61  9 66 77</td>\n",
              "      <td>79  8  1 64 50 41 32 93 58 15 33 10 28 72 82 ...</td>\n",
              "    </tr>\n",
              "    <tr>\n",
              "      <th>204</th>\n",
              "      <td>Card 205</td>\n",
              "      <td>2 99 53 15 32  6 16 69 21 14</td>\n",
              "      <td>96 98 24 66  6 47  4 54 45 46 42 13 75 11 80 ...</td>\n",
              "    </tr>\n",
              "    <tr>\n",
              "      <th>205</th>\n",
              "      <td>Card 206</td>\n",
              "      <td>74 30 29 66 68  2  3 34 79 87</td>\n",
              "      <td>63 45 88 78 98 27 97 32 38 75  9 11 71 93 55 ...</td>\n",
              "    </tr>\n",
              "  </tbody>\n",
              "</table>\n",
              "<p>206 rows × 3 columns</p>\n",
              "</div>\n",
              "    <div class=\"colab-df-buttons\">\n",
              "\n",
              "  <div class=\"colab-df-container\">\n",
              "    <button class=\"colab-df-convert\" onclick=\"convertToInteractive('df-3e1aee55-e5ab-4e17-aae1-3f3f9a1f99eb')\"\n",
              "            title=\"Convert this dataframe to an interactive table.\"\n",
              "            style=\"display:none;\">\n",
              "\n",
              "  <svg xmlns=\"http://www.w3.org/2000/svg\" height=\"24px\" viewBox=\"0 -960 960 960\">\n",
              "    <path d=\"M120-120v-720h720v720H120Zm60-500h600v-160H180v160Zm220 220h160v-160H400v160Zm0 220h160v-160H400v160ZM180-400h160v-160H180v160Zm440 0h160v-160H620v160ZM180-180h160v-160H180v160Zm440 0h160v-160H620v160Z\"/>\n",
              "  </svg>\n",
              "    </button>\n",
              "\n",
              "  <style>\n",
              "    .colab-df-container {\n",
              "      display:flex;\n",
              "      gap: 12px;\n",
              "    }\n",
              "\n",
              "    .colab-df-convert {\n",
              "      background-color: #E8F0FE;\n",
              "      border: none;\n",
              "      border-radius: 50%;\n",
              "      cursor: pointer;\n",
              "      display: none;\n",
              "      fill: #1967D2;\n",
              "      height: 32px;\n",
              "      padding: 0 0 0 0;\n",
              "      width: 32px;\n",
              "    }\n",
              "\n",
              "    .colab-df-convert:hover {\n",
              "      background-color: #E2EBFA;\n",
              "      box-shadow: 0px 1px 2px rgba(60, 64, 67, 0.3), 0px 1px 3px 1px rgba(60, 64, 67, 0.15);\n",
              "      fill: #174EA6;\n",
              "    }\n",
              "\n",
              "    .colab-df-buttons div {\n",
              "      margin-bottom: 4px;\n",
              "    }\n",
              "\n",
              "    [theme=dark] .colab-df-convert {\n",
              "      background-color: #3B4455;\n",
              "      fill: #D2E3FC;\n",
              "    }\n",
              "\n",
              "    [theme=dark] .colab-df-convert:hover {\n",
              "      background-color: #434B5C;\n",
              "      box-shadow: 0px 1px 3px 1px rgba(0, 0, 0, 0.15);\n",
              "      filter: drop-shadow(0px 1px 2px rgba(0, 0, 0, 0.3));\n",
              "      fill: #FFFFFF;\n",
              "    }\n",
              "  </style>\n",
              "\n",
              "    <script>\n",
              "      const buttonEl =\n",
              "        document.querySelector('#df-3e1aee55-e5ab-4e17-aae1-3f3f9a1f99eb button.colab-df-convert');\n",
              "      buttonEl.style.display =\n",
              "        google.colab.kernel.accessAllowed ? 'block' : 'none';\n",
              "\n",
              "      async function convertToInteractive(key) {\n",
              "        const element = document.querySelector('#df-3e1aee55-e5ab-4e17-aae1-3f3f9a1f99eb');\n",
              "        const dataTable =\n",
              "          await google.colab.kernel.invokeFunction('convertToInteractive',\n",
              "                                                    [key], {});\n",
              "        if (!dataTable) return;\n",
              "\n",
              "        const docLinkHtml = 'Like what you see? Visit the ' +\n",
              "          '<a target=\"_blank\" href=https://colab.research.google.com/notebooks/data_table.ipynb>data table notebook</a>'\n",
              "          + ' to learn more about interactive tables.';\n",
              "        element.innerHTML = '';\n",
              "        dataTable['output_type'] = 'display_data';\n",
              "        await google.colab.output.renderOutput(dataTable, element);\n",
              "        const docLink = document.createElement('div');\n",
              "        docLink.innerHTML = docLinkHtml;\n",
              "        element.appendChild(docLink);\n",
              "      }\n",
              "    </script>\n",
              "  </div>\n",
              "\n",
              "\n",
              "<div id=\"df-b5ff2159-0af4-4bfc-9c9d-ba85166342c0\">\n",
              "  <button class=\"colab-df-quickchart\" onclick=\"quickchart('df-b5ff2159-0af4-4bfc-9c9d-ba85166342c0')\"\n",
              "            title=\"Suggest charts\"\n",
              "            style=\"display:none;\">\n",
              "\n",
              "<svg xmlns=\"http://www.w3.org/2000/svg\" height=\"24px\"viewBox=\"0 0 24 24\"\n",
              "     width=\"24px\">\n",
              "    <g>\n",
              "        <path d=\"M19 3H5c-1.1 0-2 .9-2 2v14c0 1.1.9 2 2 2h14c1.1 0 2-.9 2-2V5c0-1.1-.9-2-2-2zM9 17H7v-7h2v7zm4 0h-2V7h2v10zm4 0h-2v-4h2v4z\"/>\n",
              "    </g>\n",
              "</svg>\n",
              "  </button>\n",
              "\n",
              "<style>\n",
              "  .colab-df-quickchart {\n",
              "      --bg-color: #E8F0FE;\n",
              "      --fill-color: #1967D2;\n",
              "      --hover-bg-color: #E2EBFA;\n",
              "      --hover-fill-color: #174EA6;\n",
              "      --disabled-fill-color: #AAA;\n",
              "      --disabled-bg-color: #DDD;\n",
              "  }\n",
              "\n",
              "  [theme=dark] .colab-df-quickchart {\n",
              "      --bg-color: #3B4455;\n",
              "      --fill-color: #D2E3FC;\n",
              "      --hover-bg-color: #434B5C;\n",
              "      --hover-fill-color: #FFFFFF;\n",
              "      --disabled-bg-color: #3B4455;\n",
              "      --disabled-fill-color: #666;\n",
              "  }\n",
              "\n",
              "  .colab-df-quickchart {\n",
              "    background-color: var(--bg-color);\n",
              "    border: none;\n",
              "    border-radius: 50%;\n",
              "    cursor: pointer;\n",
              "    display: none;\n",
              "    fill: var(--fill-color);\n",
              "    height: 32px;\n",
              "    padding: 0;\n",
              "    width: 32px;\n",
              "  }\n",
              "\n",
              "  .colab-df-quickchart:hover {\n",
              "    background-color: var(--hover-bg-color);\n",
              "    box-shadow: 0 1px 2px rgba(60, 64, 67, 0.3), 0 1px 3px 1px rgba(60, 64, 67, 0.15);\n",
              "    fill: var(--button-hover-fill-color);\n",
              "  }\n",
              "\n",
              "  .colab-df-quickchart-complete:disabled,\n",
              "  .colab-df-quickchart-complete:disabled:hover {\n",
              "    background-color: var(--disabled-bg-color);\n",
              "    fill: var(--disabled-fill-color);\n",
              "    box-shadow: none;\n",
              "  }\n",
              "\n",
              "  .colab-df-spinner {\n",
              "    border: 2px solid var(--fill-color);\n",
              "    border-color: transparent;\n",
              "    border-bottom-color: var(--fill-color);\n",
              "    animation:\n",
              "      spin 1s steps(1) infinite;\n",
              "  }\n",
              "\n",
              "  @keyframes spin {\n",
              "    0% {\n",
              "      border-color: transparent;\n",
              "      border-bottom-color: var(--fill-color);\n",
              "      border-left-color: var(--fill-color);\n",
              "    }\n",
              "    20% {\n",
              "      border-color: transparent;\n",
              "      border-left-color: var(--fill-color);\n",
              "      border-top-color: var(--fill-color);\n",
              "    }\n",
              "    30% {\n",
              "      border-color: transparent;\n",
              "      border-left-color: var(--fill-color);\n",
              "      border-top-color: var(--fill-color);\n",
              "      border-right-color: var(--fill-color);\n",
              "    }\n",
              "    40% {\n",
              "      border-color: transparent;\n",
              "      border-right-color: var(--fill-color);\n",
              "      border-top-color: var(--fill-color);\n",
              "    }\n",
              "    60% {\n",
              "      border-color: transparent;\n",
              "      border-right-color: var(--fill-color);\n",
              "    }\n",
              "    80% {\n",
              "      border-color: transparent;\n",
              "      border-right-color: var(--fill-color);\n",
              "      border-bottom-color: var(--fill-color);\n",
              "    }\n",
              "    90% {\n",
              "      border-color: transparent;\n",
              "      border-bottom-color: var(--fill-color);\n",
              "    }\n",
              "  }\n",
              "</style>\n",
              "\n",
              "  <script>\n",
              "    async function quickchart(key) {\n",
              "      const quickchartButtonEl =\n",
              "        document.querySelector('#' + key + ' button');\n",
              "      quickchartButtonEl.disabled = true;  // To prevent multiple clicks.\n",
              "      quickchartButtonEl.classList.add('colab-df-spinner');\n",
              "      try {\n",
              "        const charts = await google.colab.kernel.invokeFunction(\n",
              "            'suggestCharts', [key], {});\n",
              "      } catch (error) {\n",
              "        console.error('Error during call to suggestCharts:', error);\n",
              "      }\n",
              "      quickchartButtonEl.classList.remove('colab-df-spinner');\n",
              "      quickchartButtonEl.classList.add('colab-df-quickchart-complete');\n",
              "    }\n",
              "    (() => {\n",
              "      let quickchartButtonEl =\n",
              "        document.querySelector('#df-b5ff2159-0af4-4bfc-9c9d-ba85166342c0 button');\n",
              "      quickchartButtonEl.style.display =\n",
              "        google.colab.kernel.accessAllowed ? 'block' : 'none';\n",
              "    })();\n",
              "  </script>\n",
              "</div>\n",
              "    </div>\n",
              "  </div>\n"
            ]
          },
          "metadata": {},
          "execution_count": 9
        }
      ]
    },
    {
      "cell_type": "code",
      "source": [
        "data.iloc[0,1].strip()\n"
      ],
      "metadata": {
        "id": "yPlVVQkhV_nO",
        "outputId": "a45837f7-16dc-42a3-9dfa-55446f45e241",
        "colab": {
          "base_uri": "https://localhost:8080/",
          "height": 35
        }
      },
      "execution_count": null,
      "outputs": [
        {
          "output_type": "execute_result",
          "data": {
            "text/plain": [
              "'33 56 23 64 92 86 94  7 59 13'"
            ],
            "application/vnd.google.colaboratory.intrinsic+json": {
              "type": "string"
            }
          },
          "metadata": {},
          "execution_count": 14
        }
      ]
    },
    {
      "cell_type": "code",
      "source": [
        "digits = ['1','2','3','4','5','6','7','8','9','0']\n",
        "\n",
        "def convertToList(string):\n",
        "  string = string.strip()\n",
        "  i = 0\n",
        "  nums = []\n",
        "  while i<len(string):\n",
        "    num = ''\n",
        "    while i<len(string) and string[i] in digits:\n",
        "      num += string[i]\n",
        "      i+=1\n",
        "    if num != '':\n",
        "      nums.append(int(num))\n",
        "    i+=1\n",
        "  return nums\n",
        "\n",
        "\n",
        "\n",
        "\n"
      ],
      "metadata": {
        "id": "RGQxfSOjWrT1"
      },
      "execution_count": null,
      "outputs": []
    },
    {
      "cell_type": "code",
      "source": [
        "convertToList(data.iloc[0,1])"
      ],
      "metadata": {
        "id": "RaCg2heRXo2m",
        "outputId": "25284470-a2f2-4d9b-ca65-552e27f10894",
        "colab": {
          "base_uri": "https://localhost:8080/"
        }
      },
      "execution_count": null,
      "outputs": [
        {
          "output_type": "execute_result",
          "data": {
            "text/plain": [
              "[33, 56, 23, 64, 92, 86, 94, 7, 59, 13]"
            ]
          },
          "metadata": {},
          "execution_count": 27
        }
      ]
    },
    {
      "cell_type": "code",
      "source": [
        "sum = 0\n",
        "\n",
        "for i in range(206):\n",
        "  card = convertToList(data.iloc[i,1])\n",
        "  winners = convertToList(data.iloc[i,2])\n",
        "  n = 0\n",
        "  for c in card:\n",
        "    if c in winners:\n",
        "      if n==0:\n",
        "        n=1\n",
        "      else:\n",
        "        n*=2\n",
        "  sum+=n\n"
      ],
      "metadata": {
        "id": "6oRakf9aYaXv"
      },
      "execution_count": null,
      "outputs": []
    },
    {
      "cell_type": "code",
      "source": [
        "sum"
      ],
      "metadata": {
        "id": "OdnpC_bXbGnt",
        "outputId": "68ca9c64-7ce8-45b2-db6d-d98d40d6f706",
        "colab": {
          "base_uri": "https://localhost:8080/"
        }
      },
      "execution_count": null,
      "outputs": [
        {
          "output_type": "execute_result",
          "data": {
            "text/plain": [
              "23441"
            ]
          },
          "metadata": {},
          "execution_count": 43
        }
      ]
    },
    {
      "cell_type": "code",
      "source": [
        "start = {i:1 for i in range(206)}"
      ],
      "metadata": {
        "id": "81OIEQytbHC7"
      },
      "execution_count": null,
      "outputs": []
    },
    {
      "cell_type": "code",
      "source": [
        "for i in range(10):\n",
        "  card = convertToList(data.iloc[i,1])\n",
        "  winners = convertToList(data.iloc[i,2])\n",
        "  nwinners = 0\n",
        "  ncards = start[i]\n",
        "  for c in card:\n",
        "    if c in winners:\n",
        "      nwinners+=1\n",
        "  for j in range(i+1,nwinners):\n",
        "    start[j]+= ncards"
      ],
      "metadata": {
        "id": "FDTFXrN1b1ed"
      },
      "execution_count": null,
      "outputs": []
    },
    {
      "cell_type": "code",
      "source": [
        "start"
      ],
      "metadata": {
        "id": "6A1iAe9ZcpOM",
        "outputId": "c2d9a77b-25be-4506-8251-d7aab2110f65",
        "colab": {
          "base_uri": "https://localhost:8080/"
        }
      },
      "execution_count": null,
      "outputs": [
        {
          "output_type": "execute_result",
          "data": {
            "text/plain": [
              "{0: 1,\n",
              " 1: 2,\n",
              " 2: 2,\n",
              " 3: 2,\n",
              " 4: 4,\n",
              " 5: 8,\n",
              " 6: 16,\n",
              " 7: 16,\n",
              " 8: 24,\n",
              " 9: 43,\n",
              " 10: 1,\n",
              " 11: 1,\n",
              " 12: 1,\n",
              " 13: 1,\n",
              " 14: 1,\n",
              " 15: 1,\n",
              " 16: 1,\n",
              " 17: 1,\n",
              " 18: 1,\n",
              " 19: 1,\n",
              " 20: 1,\n",
              " 21: 1,\n",
              " 22: 1,\n",
              " 23: 1,\n",
              " 24: 1,\n",
              " 25: 1,\n",
              " 26: 1,\n",
              " 27: 1,\n",
              " 28: 1,\n",
              " 29: 1,\n",
              " 30: 1,\n",
              " 31: 1,\n",
              " 32: 1,\n",
              " 33: 1,\n",
              " 34: 1,\n",
              " 35: 1,\n",
              " 36: 1,\n",
              " 37: 1,\n",
              " 38: 1,\n",
              " 39: 1,\n",
              " 40: 1,\n",
              " 41: 1,\n",
              " 42: 1,\n",
              " 43: 1,\n",
              " 44: 1,\n",
              " 45: 1,\n",
              " 46: 1,\n",
              " 47: 1,\n",
              " 48: 1,\n",
              " 49: 1,\n",
              " 50: 1,\n",
              " 51: 1,\n",
              " 52: 1,\n",
              " 53: 1,\n",
              " 54: 1,\n",
              " 55: 1,\n",
              " 56: 1,\n",
              " 57: 1,\n",
              " 58: 1,\n",
              " 59: 1,\n",
              " 60: 1,\n",
              " 61: 1,\n",
              " 62: 1,\n",
              " 63: 1,\n",
              " 64: 1,\n",
              " 65: 1,\n",
              " 66: 1,\n",
              " 67: 1,\n",
              " 68: 1,\n",
              " 69: 1,\n",
              " 70: 1,\n",
              " 71: 1,\n",
              " 72: 1,\n",
              " 73: 1,\n",
              " 74: 1,\n",
              " 75: 1,\n",
              " 76: 1,\n",
              " 77: 1,\n",
              " 78: 1,\n",
              " 79: 1,\n",
              " 80: 1,\n",
              " 81: 1,\n",
              " 82: 1,\n",
              " 83: 1,\n",
              " 84: 1,\n",
              " 85: 1,\n",
              " 86: 1,\n",
              " 87: 1,\n",
              " 88: 1,\n",
              " 89: 1,\n",
              " 90: 1,\n",
              " 91: 1,\n",
              " 92: 1,\n",
              " 93: 1,\n",
              " 94: 1,\n",
              " 95: 1,\n",
              " 96: 1,\n",
              " 97: 1,\n",
              " 98: 1,\n",
              " 99: 1,\n",
              " 100: 1,\n",
              " 101: 1,\n",
              " 102: 1,\n",
              " 103: 1,\n",
              " 104: 1,\n",
              " 105: 1,\n",
              " 106: 1,\n",
              " 107: 1,\n",
              " 108: 1,\n",
              " 109: 1,\n",
              " 110: 1,\n",
              " 111: 1,\n",
              " 112: 1,\n",
              " 113: 1,\n",
              " 114: 1,\n",
              " 115: 1,\n",
              " 116: 1,\n",
              " 117: 1,\n",
              " 118: 1,\n",
              " 119: 1,\n",
              " 120: 1,\n",
              " 121: 1,\n",
              " 122: 1,\n",
              " 123: 1,\n",
              " 124: 1,\n",
              " 125: 1,\n",
              " 126: 1,\n",
              " 127: 1,\n",
              " 128: 1,\n",
              " 129: 1,\n",
              " 130: 1,\n",
              " 131: 1,\n",
              " 132: 1,\n",
              " 133: 1,\n",
              " 134: 1,\n",
              " 135: 1,\n",
              " 136: 1,\n",
              " 137: 1,\n",
              " 138: 1,\n",
              " 139: 1,\n",
              " 140: 1,\n",
              " 141: 1,\n",
              " 142: 1,\n",
              " 143: 1,\n",
              " 144: 1,\n",
              " 145: 1,\n",
              " 146: 1,\n",
              " 147: 1,\n",
              " 148: 1,\n",
              " 149: 1,\n",
              " 150: 1,\n",
              " 151: 1,\n",
              " 152: 1,\n",
              " 153: 1,\n",
              " 154: 1,\n",
              " 155: 1,\n",
              " 156: 1,\n",
              " 157: 1,\n",
              " 158: 1,\n",
              " 159: 1,\n",
              " 160: 1,\n",
              " 161: 1,\n",
              " 162: 1,\n",
              " 163: 1,\n",
              " 164: 1,\n",
              " 165: 1,\n",
              " 166: 1,\n",
              " 167: 1,\n",
              " 168: 1,\n",
              " 169: 1,\n",
              " 170: 1,\n",
              " 171: 1,\n",
              " 172: 1,\n",
              " 173: 1,\n",
              " 174: 1,\n",
              " 175: 1,\n",
              " 176: 1,\n",
              " 177: 1,\n",
              " 178: 1,\n",
              " 179: 1,\n",
              " 180: 1,\n",
              " 181: 1,\n",
              " 182: 1,\n",
              " 183: 1,\n",
              " 184: 1,\n",
              " 185: 1,\n",
              " 186: 1,\n",
              " 187: 1,\n",
              " 188: 1,\n",
              " 189: 1,\n",
              " 190: 1,\n",
              " 191: 1,\n",
              " 192: 1,\n",
              " 193: 1,\n",
              " 194: 1,\n",
              " 195: 1,\n",
              " 196: 1,\n",
              " 197: 1,\n",
              " 198: 1,\n",
              " 199: 1,\n",
              " 200: 1,\n",
              " 201: 1,\n",
              " 202: 1,\n",
              " 203: 1,\n",
              " 204: 1,\n",
              " 205: 1}"
            ]
          },
          "metadata": {},
          "execution_count": 47
        }
      ]
    },
    {
      "cell_type": "code",
      "source": [],
      "metadata": {
        "id": "v7qzvv3lcqNU"
      },
      "execution_count": null,
      "outputs": []
    },
    {
      "cell_type": "markdown",
      "source": [
        "## Day 5:  Planting the Seed"
      ],
      "metadata": {
        "id": "RKzTSd1hepwY"
      }
    },
    {
      "cell_type": "code",
      "source": [
        "data = pa.read_csv('https://raw.githubusercontent.com/nurfnick/AdventOfCode2023/main/input5',header = None,sep=':| ', engine='python')"
      ],
      "metadata": {
        "id": "5b_EVNyzetAQ"
      },
      "execution_count": null,
      "outputs": []
    },
    {
      "cell_type": "code",
      "source": [
        "data"
      ],
      "metadata": {
        "colab": {
          "base_uri": "https://localhost:8080/",
          "height": 444
        },
        "id": "PRWhr1vIeuqP",
        "outputId": "72b09550-ccf7-463b-c1d7-4c3afca166df"
      },
      "execution_count": null,
      "outputs": [
        {
          "output_type": "execute_result",
          "data": {
            "text/plain": [
              "               0           1            2            3             4   \\\n",
              "0           seeds         NaN   28965817.0  302170009.0  1.752849e+09   \n",
              "1    seed-to-soil         map          NaN          NaN           NaN   \n",
              "2      3680121696  1920754815  614845600.0          NaN           NaN   \n",
              "3      1920754815  3846369604  448597692.0          NaN           NaN   \n",
              "4       193356576   570761634  505124585.0          NaN           NaN   \n",
              "..            ...         ...          ...          ...           ...   \n",
              "238      79004094  2194801987    5553698.0          NaN           NaN   \n",
              "239    1149193536  1342265550   29480816.0          NaN           NaN   \n",
              "240    2997158500  3191476309  220034442.0          NaN           NaN   \n",
              "241    2715114305  3573409942  126485175.0          NaN           NaN   \n",
              "242    2446452559  2629702985  182296534.0          NaN           NaN   \n",
              "\n",
              "             5            6            7             8            9   ...  \\\n",
              "0    48290258.0  804904201.0  243492043.0  2.150340e+09  385349830.0  ...   \n",
              "1           NaN          NaN          NaN           NaN          NaN  ...   \n",
              "2           NaN          NaN          NaN           NaN          NaN  ...   \n",
              "3           NaN          NaN          NaN           NaN          NaN  ...   \n",
              "4           NaN          NaN          NaN           NaN          NaN  ...   \n",
              "..          ...          ...          ...           ...          ...  ...   \n",
              "238         NaN          NaN          NaN           NaN          NaN  ...   \n",
              "239         NaN          NaN          NaN           NaN          NaN  ...   \n",
              "240         NaN          NaN          NaN           NaN          NaN  ...   \n",
              "241         NaN          NaN          NaN           NaN          NaN  ...   \n",
              "242         NaN          NaN          NaN           NaN          NaN  ...   \n",
              "\n",
              "               12          13            14           15           16  \\\n",
              "0    2.566297e+09  17565716.0  3.543572e+09  291402104.0  447111316.0   \n",
              "1             NaN         NaN           NaN          NaN          NaN   \n",
              "2             NaN         NaN           NaN          NaN          NaN   \n",
              "3             NaN         NaN           NaN          NaN          NaN   \n",
              "4             NaN         NaN           NaN          NaN          NaN   \n",
              "..            ...         ...           ...          ...          ...   \n",
              "238           NaN         NaN           NaN          NaN          NaN   \n",
              "239           NaN         NaN           NaN          NaN          NaN   \n",
              "240           NaN         NaN           NaN          NaN          NaN   \n",
              "241           NaN         NaN           NaN          NaN          NaN   \n",
              "242           NaN         NaN           NaN          NaN          NaN   \n",
              "\n",
              "              17            18          19            20         21  \n",
              "0    279196488.0  3.227221e+09  47952959.0  1.828836e+09  9607836.0  \n",
              "1            NaN           NaN         NaN           NaN        NaN  \n",
              "2            NaN           NaN         NaN           NaN        NaN  \n",
              "3            NaN           NaN         NaN           NaN        NaN  \n",
              "4            NaN           NaN         NaN           NaN        NaN  \n",
              "..           ...           ...         ...           ...        ...  \n",
              "238          NaN           NaN         NaN           NaN        NaN  \n",
              "239          NaN           NaN         NaN           NaN        NaN  \n",
              "240          NaN           NaN         NaN           NaN        NaN  \n",
              "241          NaN           NaN         NaN           NaN        NaN  \n",
              "242          NaN           NaN         NaN           NaN        NaN  \n",
              "\n",
              "[243 rows x 22 columns]"
            ],
            "text/html": [
              "\n",
              "  <div id=\"df-7e1b3391-384f-4902-a0ec-7c0678261f97\" class=\"colab-df-container\">\n",
              "    <div>\n",
              "<style scoped>\n",
              "    .dataframe tbody tr th:only-of-type {\n",
              "        vertical-align: middle;\n",
              "    }\n",
              "\n",
              "    .dataframe tbody tr th {\n",
              "        vertical-align: top;\n",
              "    }\n",
              "\n",
              "    .dataframe thead th {\n",
              "        text-align: right;\n",
              "    }\n",
              "</style>\n",
              "<table border=\"1\" class=\"dataframe\">\n",
              "  <thead>\n",
              "    <tr style=\"text-align: right;\">\n",
              "      <th></th>\n",
              "      <th>0</th>\n",
              "      <th>1</th>\n",
              "      <th>2</th>\n",
              "      <th>3</th>\n",
              "      <th>4</th>\n",
              "      <th>5</th>\n",
              "      <th>6</th>\n",
              "      <th>7</th>\n",
              "      <th>8</th>\n",
              "      <th>9</th>\n",
              "      <th>...</th>\n",
              "      <th>12</th>\n",
              "      <th>13</th>\n",
              "      <th>14</th>\n",
              "      <th>15</th>\n",
              "      <th>16</th>\n",
              "      <th>17</th>\n",
              "      <th>18</th>\n",
              "      <th>19</th>\n",
              "      <th>20</th>\n",
              "      <th>21</th>\n",
              "    </tr>\n",
              "  </thead>\n",
              "  <tbody>\n",
              "    <tr>\n",
              "      <th>0</th>\n",
              "      <td>seeds</td>\n",
              "      <td>NaN</td>\n",
              "      <td>28965817.0</td>\n",
              "      <td>302170009.0</td>\n",
              "      <td>1.752849e+09</td>\n",
              "      <td>48290258.0</td>\n",
              "      <td>804904201.0</td>\n",
              "      <td>243492043.0</td>\n",
              "      <td>2.150340e+09</td>\n",
              "      <td>385349830.0</td>\n",
              "      <td>...</td>\n",
              "      <td>2.566297e+09</td>\n",
              "      <td>17565716.0</td>\n",
              "      <td>3.543572e+09</td>\n",
              "      <td>291402104.0</td>\n",
              "      <td>447111316.0</td>\n",
              "      <td>279196488.0</td>\n",
              "      <td>3.227221e+09</td>\n",
              "      <td>47952959.0</td>\n",
              "      <td>1.828836e+09</td>\n",
              "      <td>9607836.0</td>\n",
              "    </tr>\n",
              "    <tr>\n",
              "      <th>1</th>\n",
              "      <td>seed-to-soil</td>\n",
              "      <td>map</td>\n",
              "      <td>NaN</td>\n",
              "      <td>NaN</td>\n",
              "      <td>NaN</td>\n",
              "      <td>NaN</td>\n",
              "      <td>NaN</td>\n",
              "      <td>NaN</td>\n",
              "      <td>NaN</td>\n",
              "      <td>NaN</td>\n",
              "      <td>...</td>\n",
              "      <td>NaN</td>\n",
              "      <td>NaN</td>\n",
              "      <td>NaN</td>\n",
              "      <td>NaN</td>\n",
              "      <td>NaN</td>\n",
              "      <td>NaN</td>\n",
              "      <td>NaN</td>\n",
              "      <td>NaN</td>\n",
              "      <td>NaN</td>\n",
              "      <td>NaN</td>\n",
              "    </tr>\n",
              "    <tr>\n",
              "      <th>2</th>\n",
              "      <td>3680121696</td>\n",
              "      <td>1920754815</td>\n",
              "      <td>614845600.0</td>\n",
              "      <td>NaN</td>\n",
              "      <td>NaN</td>\n",
              "      <td>NaN</td>\n",
              "      <td>NaN</td>\n",
              "      <td>NaN</td>\n",
              "      <td>NaN</td>\n",
              "      <td>NaN</td>\n",
              "      <td>...</td>\n",
              "      <td>NaN</td>\n",
              "      <td>NaN</td>\n",
              "      <td>NaN</td>\n",
              "      <td>NaN</td>\n",
              "      <td>NaN</td>\n",
              "      <td>NaN</td>\n",
              "      <td>NaN</td>\n",
              "      <td>NaN</td>\n",
              "      <td>NaN</td>\n",
              "      <td>NaN</td>\n",
              "    </tr>\n",
              "    <tr>\n",
              "      <th>3</th>\n",
              "      <td>1920754815</td>\n",
              "      <td>3846369604</td>\n",
              "      <td>448597692.0</td>\n",
              "      <td>NaN</td>\n",
              "      <td>NaN</td>\n",
              "      <td>NaN</td>\n",
              "      <td>NaN</td>\n",
              "      <td>NaN</td>\n",
              "      <td>NaN</td>\n",
              "      <td>NaN</td>\n",
              "      <td>...</td>\n",
              "      <td>NaN</td>\n",
              "      <td>NaN</td>\n",
              "      <td>NaN</td>\n",
              "      <td>NaN</td>\n",
              "      <td>NaN</td>\n",
              "      <td>NaN</td>\n",
              "      <td>NaN</td>\n",
              "      <td>NaN</td>\n",
              "      <td>NaN</td>\n",
              "      <td>NaN</td>\n",
              "    </tr>\n",
              "    <tr>\n",
              "      <th>4</th>\n",
              "      <td>193356576</td>\n",
              "      <td>570761634</td>\n",
              "      <td>505124585.0</td>\n",
              "      <td>NaN</td>\n",
              "      <td>NaN</td>\n",
              "      <td>NaN</td>\n",
              "      <td>NaN</td>\n",
              "      <td>NaN</td>\n",
              "      <td>NaN</td>\n",
              "      <td>NaN</td>\n",
              "      <td>...</td>\n",
              "      <td>NaN</td>\n",
              "      <td>NaN</td>\n",
              "      <td>NaN</td>\n",
              "      <td>NaN</td>\n",
              "      <td>NaN</td>\n",
              "      <td>NaN</td>\n",
              "      <td>NaN</td>\n",
              "      <td>NaN</td>\n",
              "      <td>NaN</td>\n",
              "      <td>NaN</td>\n",
              "    </tr>\n",
              "    <tr>\n",
              "      <th>...</th>\n",
              "      <td>...</td>\n",
              "      <td>...</td>\n",
              "      <td>...</td>\n",
              "      <td>...</td>\n",
              "      <td>...</td>\n",
              "      <td>...</td>\n",
              "      <td>...</td>\n",
              "      <td>...</td>\n",
              "      <td>...</td>\n",
              "      <td>...</td>\n",
              "      <td>...</td>\n",
              "      <td>...</td>\n",
              "      <td>...</td>\n",
              "      <td>...</td>\n",
              "      <td>...</td>\n",
              "      <td>...</td>\n",
              "      <td>...</td>\n",
              "      <td>...</td>\n",
              "      <td>...</td>\n",
              "      <td>...</td>\n",
              "      <td>...</td>\n",
              "    </tr>\n",
              "    <tr>\n",
              "      <th>238</th>\n",
              "      <td>79004094</td>\n",
              "      <td>2194801987</td>\n",
              "      <td>5553698.0</td>\n",
              "      <td>NaN</td>\n",
              "      <td>NaN</td>\n",
              "      <td>NaN</td>\n",
              "      <td>NaN</td>\n",
              "      <td>NaN</td>\n",
              "      <td>NaN</td>\n",
              "      <td>NaN</td>\n",
              "      <td>...</td>\n",
              "      <td>NaN</td>\n",
              "      <td>NaN</td>\n",
              "      <td>NaN</td>\n",
              "      <td>NaN</td>\n",
              "      <td>NaN</td>\n",
              "      <td>NaN</td>\n",
              "      <td>NaN</td>\n",
              "      <td>NaN</td>\n",
              "      <td>NaN</td>\n",
              "      <td>NaN</td>\n",
              "    </tr>\n",
              "    <tr>\n",
              "      <th>239</th>\n",
              "      <td>1149193536</td>\n",
              "      <td>1342265550</td>\n",
              "      <td>29480816.0</td>\n",
              "      <td>NaN</td>\n",
              "      <td>NaN</td>\n",
              "      <td>NaN</td>\n",
              "      <td>NaN</td>\n",
              "      <td>NaN</td>\n",
              "      <td>NaN</td>\n",
              "      <td>NaN</td>\n",
              "      <td>...</td>\n",
              "      <td>NaN</td>\n",
              "      <td>NaN</td>\n",
              "      <td>NaN</td>\n",
              "      <td>NaN</td>\n",
              "      <td>NaN</td>\n",
              "      <td>NaN</td>\n",
              "      <td>NaN</td>\n",
              "      <td>NaN</td>\n",
              "      <td>NaN</td>\n",
              "      <td>NaN</td>\n",
              "    </tr>\n",
              "    <tr>\n",
              "      <th>240</th>\n",
              "      <td>2997158500</td>\n",
              "      <td>3191476309</td>\n",
              "      <td>220034442.0</td>\n",
              "      <td>NaN</td>\n",
              "      <td>NaN</td>\n",
              "      <td>NaN</td>\n",
              "      <td>NaN</td>\n",
              "      <td>NaN</td>\n",
              "      <td>NaN</td>\n",
              "      <td>NaN</td>\n",
              "      <td>...</td>\n",
              "      <td>NaN</td>\n",
              "      <td>NaN</td>\n",
              "      <td>NaN</td>\n",
              "      <td>NaN</td>\n",
              "      <td>NaN</td>\n",
              "      <td>NaN</td>\n",
              "      <td>NaN</td>\n",
              "      <td>NaN</td>\n",
              "      <td>NaN</td>\n",
              "      <td>NaN</td>\n",
              "    </tr>\n",
              "    <tr>\n",
              "      <th>241</th>\n",
              "      <td>2715114305</td>\n",
              "      <td>3573409942</td>\n",
              "      <td>126485175.0</td>\n",
              "      <td>NaN</td>\n",
              "      <td>NaN</td>\n",
              "      <td>NaN</td>\n",
              "      <td>NaN</td>\n",
              "      <td>NaN</td>\n",
              "      <td>NaN</td>\n",
              "      <td>NaN</td>\n",
              "      <td>...</td>\n",
              "      <td>NaN</td>\n",
              "      <td>NaN</td>\n",
              "      <td>NaN</td>\n",
              "      <td>NaN</td>\n",
              "      <td>NaN</td>\n",
              "      <td>NaN</td>\n",
              "      <td>NaN</td>\n",
              "      <td>NaN</td>\n",
              "      <td>NaN</td>\n",
              "      <td>NaN</td>\n",
              "    </tr>\n",
              "    <tr>\n",
              "      <th>242</th>\n",
              "      <td>2446452559</td>\n",
              "      <td>2629702985</td>\n",
              "      <td>182296534.0</td>\n",
              "      <td>NaN</td>\n",
              "      <td>NaN</td>\n",
              "      <td>NaN</td>\n",
              "      <td>NaN</td>\n",
              "      <td>NaN</td>\n",
              "      <td>NaN</td>\n",
              "      <td>NaN</td>\n",
              "      <td>...</td>\n",
              "      <td>NaN</td>\n",
              "      <td>NaN</td>\n",
              "      <td>NaN</td>\n",
              "      <td>NaN</td>\n",
              "      <td>NaN</td>\n",
              "      <td>NaN</td>\n",
              "      <td>NaN</td>\n",
              "      <td>NaN</td>\n",
              "      <td>NaN</td>\n",
              "      <td>NaN</td>\n",
              "    </tr>\n",
              "  </tbody>\n",
              "</table>\n",
              "<p>243 rows × 22 columns</p>\n",
              "</div>\n",
              "    <div class=\"colab-df-buttons\">\n",
              "\n",
              "  <div class=\"colab-df-container\">\n",
              "    <button class=\"colab-df-convert\" onclick=\"convertToInteractive('df-7e1b3391-384f-4902-a0ec-7c0678261f97')\"\n",
              "            title=\"Convert this dataframe to an interactive table.\"\n",
              "            style=\"display:none;\">\n",
              "\n",
              "  <svg xmlns=\"http://www.w3.org/2000/svg\" height=\"24px\" viewBox=\"0 -960 960 960\">\n",
              "    <path d=\"M120-120v-720h720v720H120Zm60-500h600v-160H180v160Zm220 220h160v-160H400v160Zm0 220h160v-160H400v160ZM180-400h160v-160H180v160Zm440 0h160v-160H620v160ZM180-180h160v-160H180v160Zm440 0h160v-160H620v160Z\"/>\n",
              "  </svg>\n",
              "    </button>\n",
              "\n",
              "  <style>\n",
              "    .colab-df-container {\n",
              "      display:flex;\n",
              "      gap: 12px;\n",
              "    }\n",
              "\n",
              "    .colab-df-convert {\n",
              "      background-color: #E8F0FE;\n",
              "      border: none;\n",
              "      border-radius: 50%;\n",
              "      cursor: pointer;\n",
              "      display: none;\n",
              "      fill: #1967D2;\n",
              "      height: 32px;\n",
              "      padding: 0 0 0 0;\n",
              "      width: 32px;\n",
              "    }\n",
              "\n",
              "    .colab-df-convert:hover {\n",
              "      background-color: #E2EBFA;\n",
              "      box-shadow: 0px 1px 2px rgba(60, 64, 67, 0.3), 0px 1px 3px 1px rgba(60, 64, 67, 0.15);\n",
              "      fill: #174EA6;\n",
              "    }\n",
              "\n",
              "    .colab-df-buttons div {\n",
              "      margin-bottom: 4px;\n",
              "    }\n",
              "\n",
              "    [theme=dark] .colab-df-convert {\n",
              "      background-color: #3B4455;\n",
              "      fill: #D2E3FC;\n",
              "    }\n",
              "\n",
              "    [theme=dark] .colab-df-convert:hover {\n",
              "      background-color: #434B5C;\n",
              "      box-shadow: 0px 1px 3px 1px rgba(0, 0, 0, 0.15);\n",
              "      filter: drop-shadow(0px 1px 2px rgba(0, 0, 0, 0.3));\n",
              "      fill: #FFFFFF;\n",
              "    }\n",
              "  </style>\n",
              "\n",
              "    <script>\n",
              "      const buttonEl =\n",
              "        document.querySelector('#df-7e1b3391-384f-4902-a0ec-7c0678261f97 button.colab-df-convert');\n",
              "      buttonEl.style.display =\n",
              "        google.colab.kernel.accessAllowed ? 'block' : 'none';\n",
              "\n",
              "      async function convertToInteractive(key) {\n",
              "        const element = document.querySelector('#df-7e1b3391-384f-4902-a0ec-7c0678261f97');\n",
              "        const dataTable =\n",
              "          await google.colab.kernel.invokeFunction('convertToInteractive',\n",
              "                                                    [key], {});\n",
              "        if (!dataTable) return;\n",
              "\n",
              "        const docLinkHtml = 'Like what you see? Visit the ' +\n",
              "          '<a target=\"_blank\" href=https://colab.research.google.com/notebooks/data_table.ipynb>data table notebook</a>'\n",
              "          + ' to learn more about interactive tables.';\n",
              "        element.innerHTML = '';\n",
              "        dataTable['output_type'] = 'display_data';\n",
              "        await google.colab.output.renderOutput(dataTable, element);\n",
              "        const docLink = document.createElement('div');\n",
              "        docLink.innerHTML = docLinkHtml;\n",
              "        element.appendChild(docLink);\n",
              "      }\n",
              "    </script>\n",
              "  </div>\n",
              "\n",
              "\n",
              "<div id=\"df-190c705c-bd94-4795-a0f5-fbaf708e2af6\">\n",
              "  <button class=\"colab-df-quickchart\" onclick=\"quickchart('df-190c705c-bd94-4795-a0f5-fbaf708e2af6')\"\n",
              "            title=\"Suggest charts\"\n",
              "            style=\"display:none;\">\n",
              "\n",
              "<svg xmlns=\"http://www.w3.org/2000/svg\" height=\"24px\"viewBox=\"0 0 24 24\"\n",
              "     width=\"24px\">\n",
              "    <g>\n",
              "        <path d=\"M19 3H5c-1.1 0-2 .9-2 2v14c0 1.1.9 2 2 2h14c1.1 0 2-.9 2-2V5c0-1.1-.9-2-2-2zM9 17H7v-7h2v7zm4 0h-2V7h2v10zm4 0h-2v-4h2v4z\"/>\n",
              "    </g>\n",
              "</svg>\n",
              "  </button>\n",
              "\n",
              "<style>\n",
              "  .colab-df-quickchart {\n",
              "      --bg-color: #E8F0FE;\n",
              "      --fill-color: #1967D2;\n",
              "      --hover-bg-color: #E2EBFA;\n",
              "      --hover-fill-color: #174EA6;\n",
              "      --disabled-fill-color: #AAA;\n",
              "      --disabled-bg-color: #DDD;\n",
              "  }\n",
              "\n",
              "  [theme=dark] .colab-df-quickchart {\n",
              "      --bg-color: #3B4455;\n",
              "      --fill-color: #D2E3FC;\n",
              "      --hover-bg-color: #434B5C;\n",
              "      --hover-fill-color: #FFFFFF;\n",
              "      --disabled-bg-color: #3B4455;\n",
              "      --disabled-fill-color: #666;\n",
              "  }\n",
              "\n",
              "  .colab-df-quickchart {\n",
              "    background-color: var(--bg-color);\n",
              "    border: none;\n",
              "    border-radius: 50%;\n",
              "    cursor: pointer;\n",
              "    display: none;\n",
              "    fill: var(--fill-color);\n",
              "    height: 32px;\n",
              "    padding: 0;\n",
              "    width: 32px;\n",
              "  }\n",
              "\n",
              "  .colab-df-quickchart:hover {\n",
              "    background-color: var(--hover-bg-color);\n",
              "    box-shadow: 0 1px 2px rgba(60, 64, 67, 0.3), 0 1px 3px 1px rgba(60, 64, 67, 0.15);\n",
              "    fill: var(--button-hover-fill-color);\n",
              "  }\n",
              "\n",
              "  .colab-df-quickchart-complete:disabled,\n",
              "  .colab-df-quickchart-complete:disabled:hover {\n",
              "    background-color: var(--disabled-bg-color);\n",
              "    fill: var(--disabled-fill-color);\n",
              "    box-shadow: none;\n",
              "  }\n",
              "\n",
              "  .colab-df-spinner {\n",
              "    border: 2px solid var(--fill-color);\n",
              "    border-color: transparent;\n",
              "    border-bottom-color: var(--fill-color);\n",
              "    animation:\n",
              "      spin 1s steps(1) infinite;\n",
              "  }\n",
              "\n",
              "  @keyframes spin {\n",
              "    0% {\n",
              "      border-color: transparent;\n",
              "      border-bottom-color: var(--fill-color);\n",
              "      border-left-color: var(--fill-color);\n",
              "    }\n",
              "    20% {\n",
              "      border-color: transparent;\n",
              "      border-left-color: var(--fill-color);\n",
              "      border-top-color: var(--fill-color);\n",
              "    }\n",
              "    30% {\n",
              "      border-color: transparent;\n",
              "      border-left-color: var(--fill-color);\n",
              "      border-top-color: var(--fill-color);\n",
              "      border-right-color: var(--fill-color);\n",
              "    }\n",
              "    40% {\n",
              "      border-color: transparent;\n",
              "      border-right-color: var(--fill-color);\n",
              "      border-top-color: var(--fill-color);\n",
              "    }\n",
              "    60% {\n",
              "      border-color: transparent;\n",
              "      border-right-color: var(--fill-color);\n",
              "    }\n",
              "    80% {\n",
              "      border-color: transparent;\n",
              "      border-right-color: var(--fill-color);\n",
              "      border-bottom-color: var(--fill-color);\n",
              "    }\n",
              "    90% {\n",
              "      border-color: transparent;\n",
              "      border-bottom-color: var(--fill-color);\n",
              "    }\n",
              "  }\n",
              "</style>\n",
              "\n",
              "  <script>\n",
              "    async function quickchart(key) {\n",
              "      const quickchartButtonEl =\n",
              "        document.querySelector('#' + key + ' button');\n",
              "      quickchartButtonEl.disabled = true;  // To prevent multiple clicks.\n",
              "      quickchartButtonEl.classList.add('colab-df-spinner');\n",
              "      try {\n",
              "        const charts = await google.colab.kernel.invokeFunction(\n",
              "            'suggestCharts', [key], {});\n",
              "      } catch (error) {\n",
              "        console.error('Error during call to suggestCharts:', error);\n",
              "      }\n",
              "      quickchartButtonEl.classList.remove('colab-df-spinner');\n",
              "      quickchartButtonEl.classList.add('colab-df-quickchart-complete');\n",
              "    }\n",
              "    (() => {\n",
              "      let quickchartButtonEl =\n",
              "        document.querySelector('#df-190c705c-bd94-4795-a0f5-fbaf708e2af6 button');\n",
              "      quickchartButtonEl.style.display =\n",
              "        google.colab.kernel.accessAllowed ? 'block' : 'none';\n",
              "    })();\n",
              "  </script>\n",
              "</div>\n",
              "    </div>\n",
              "  </div>\n"
            ]
          },
          "metadata": {},
          "execution_count": 3
        }
      ]
    },
    {
      "cell_type": "code",
      "source": [
        "seeds = [int(data.iloc[0,i]) for i in range(2,22)]"
      ],
      "metadata": {
        "id": "9Lq5foGievVo"
      },
      "execution_count": null,
      "outputs": []
    },
    {
      "cell_type": "code",
      "source": [
        "s = data.iloc[:,0]\n",
        "t = s.str.contains('-')\n",
        "conversions = s[t]\n",
        "positions = t[t]"
      ],
      "metadata": {
        "id": "Kto7ahpefd4H"
      },
      "execution_count": null,
      "outputs": []
    },
    {
      "cell_type": "code",
      "source": [
        "conversions"
      ],
      "metadata": {
        "colab": {
          "base_uri": "https://localhost:8080/"
        },
        "id": "BRcm0SBCiu3K",
        "outputId": "db16ca7b-b38c-45f0-f467-9bbc1427a632"
      },
      "execution_count": null,
      "outputs": [
        {
          "output_type": "execute_result",
          "data": {
            "text/plain": [
              "1                 seed-to-soil\n",
              "11          soil-to-fertilizer\n",
              "55         fertilizer-to-water\n",
              "102             water-to-light\n",
              "143       light-to-temperature\n",
              "181    temperature-to-humidity\n",
              "200       humidity-to-location\n",
              "Name: 0, dtype: object"
            ]
          },
          "metadata": {},
          "execution_count": 6
        }
      ]
    },
    {
      "cell_type": "code",
      "source": [
        "positions.index.values"
      ],
      "metadata": {
        "colab": {
          "base_uri": "https://localhost:8080/"
        },
        "id": "VbWFDwT4fr8m",
        "outputId": "1b2773be-d9bb-48a4-b11b-032bc96d7c8a"
      },
      "execution_count": null,
      "outputs": [
        {
          "output_type": "execute_result",
          "data": {
            "text/plain": [
              "array([  1,  11,  55, 102, 143, 181, 200])"
            ]
          },
          "metadata": {},
          "execution_count": 7
        }
      ]
    },
    {
      "cell_type": "code",
      "source": [
        "converter = {conversions[i]:i for i in positions.index.values }"
      ],
      "metadata": {
        "id": "SdhjDKYNnsEn"
      },
      "execution_count": null,
      "outputs": []
    },
    {
      "cell_type": "code",
      "source": [
        "conversions = [conversions[i] for i in positions.index.values]"
      ],
      "metadata": {
        "id": "z3cvyCtlpR7i"
      },
      "execution_count": null,
      "outputs": []
    },
    {
      "cell_type": "code",
      "source": [
        "conversions"
      ],
      "metadata": {
        "colab": {
          "base_uri": "https://localhost:8080/"
        },
        "id": "fmviB7E4pc7f",
        "outputId": "14897174-3ee6-420e-ac0a-950cad70b71f"
      },
      "execution_count": null,
      "outputs": [
        {
          "output_type": "execute_result",
          "data": {
            "text/plain": [
              "['seed-to-soil',\n",
              " 'soil-to-fertilizer',\n",
              " 'fertilizer-to-water',\n",
              " 'water-to-light',\n",
              " 'light-to-temperature',\n",
              " 'temperature-to-humidity',\n",
              " 'humidity-to-location']"
            ]
          },
          "metadata": {},
          "execution_count": 10
        }
      ]
    },
    {
      "cell_type": "code",
      "source": [
        "def fallInRange(num,row):\n",
        "  if num >= int(data.iloc[row,1]) and num < int(data.iloc[row,2]) + int(data.iloc[row,1]):\n",
        "    return int(data.iloc[row,0]) + num - int(data.iloc[row,1]),True\n",
        "  else:\n",
        "    return num, False"
      ],
      "metadata": {
        "id": "ERETOPNepqAY"
      },
      "execution_count": null,
      "outputs": []
    },
    {
      "cell_type": "code",
      "source": [
        "fallInRange(123,7)"
      ],
      "metadata": {
        "colab": {
          "base_uri": "https://localhost:8080/"
        },
        "id": "qdaVT61XrNb6",
        "outputId": "2822fc26-c9c6-41fc-f969-cf7de5188940"
      },
      "execution_count": null,
      "outputs": [
        {
          "output_type": "execute_result",
          "data": {
            "text/plain": [
              "(459278518, True)"
            ]
          },
          "metadata": {},
          "execution_count": 68
        }
      ]
    },
    {
      "cell_type": "code",
      "source": [
        "def convert(type, num):\n",
        "  col = converter[type] + 1\n",
        "  exit = False\n",
        "  while not exit:\n",
        "    try:\n",
        "      num,exit = fallInRange(num,col)\n",
        "      col+=1\n",
        "    except:\n",
        "      exit = True\n",
        "  return num\n",
        "\n",
        "\n",
        "\n",
        "\n",
        "\n",
        "\n"
      ],
      "metadata": {
        "id": "Ke1pIL3aiHQl"
      },
      "execution_count": null,
      "outputs": []
    },
    {
      "cell_type": "code",
      "source": [
        "col = 2\n",
        "num = 123\n",
        "exit = False\n",
        "while not exit:\n",
        "  try:\n",
        "    num,exit = fallInRange(num,col)\n",
        "    col+=1\n",
        "  except:\n",
        "    exit = True"
      ],
      "metadata": {
        "id": "2bjZlWc6jTAa"
      },
      "execution_count": null,
      "outputs": []
    },
    {
      "cell_type": "code",
      "source": [
        "num"
      ],
      "metadata": {
        "colab": {
          "base_uri": "https://localhost:8080/"
        },
        "id": "E4zbPD41sSzX",
        "outputId": "fc19ce97-bf47-4542-bacb-074c1dda8369"
      },
      "execution_count": null,
      "outputs": [
        {
          "output_type": "execute_result",
          "data": {
            "text/plain": [
              "459278518"
            ]
          },
          "metadata": {},
          "execution_count": 72
        }
      ]
    },
    {
      "cell_type": "code",
      "source": [
        "convert(conversions[0],123)"
      ],
      "metadata": {
        "colab": {
          "base_uri": "https://localhost:8080/"
        },
        "id": "YuOav1ffseVY",
        "outputId": "9f68407f-24ec-4840-fbec-3b92167a77de"
      },
      "execution_count": null,
      "outputs": [
        {
          "output_type": "execute_result",
          "data": {
            "text/plain": [
              "459278518"
            ]
          },
          "metadata": {},
          "execution_count": 75
        }
      ]
    },
    {
      "cell_type": "code",
      "source": [
        "num = 123\n",
        "for con in conversions:\n",
        "  num = convert(con,num)"
      ],
      "metadata": {
        "id": "l3PzuoW7thKc"
      },
      "execution_count": null,
      "outputs": []
    },
    {
      "cell_type": "code",
      "source": [
        "num"
      ],
      "metadata": {
        "colab": {
          "base_uri": "https://localhost:8080/"
        },
        "id": "EgBEzwu1uQlx",
        "outputId": "28241a92-e551-48bd-be4d-1af18995eda8"
      },
      "execution_count": null,
      "outputs": [
        {
          "output_type": "execute_result",
          "data": {
            "text/plain": [
              "1534822728"
            ]
          },
          "metadata": {},
          "execution_count": 79
        }
      ]
    },
    {
      "cell_type": "code",
      "source": [
        "newSeed = []\n",
        "for seed in seeds:\n",
        "  num = seed\n",
        "  for con in conversions:\n",
        "    num = convert(con,num)\n",
        "    #print(num,con)\n",
        "  newSeed.append(num)"
      ],
      "metadata": {
        "id": "UAFKm_mQuUBB"
      },
      "execution_count": null,
      "outputs": []
    },
    {
      "cell_type": "code",
      "source": [
        "min(newSeed)"
      ],
      "metadata": {
        "colab": {
          "base_uri": "https://localhost:8080/"
        },
        "id": "m0PCroQSutKw",
        "outputId": "14e42beb-67d9-4b67-9eeb-b1e214d4e3ac"
      },
      "execution_count": null,
      "outputs": [
        {
          "output_type": "execute_result",
          "data": {
            "text/plain": [
              "525792406"
            ]
          },
          "metadata": {},
          "execution_count": 87
        }
      ]
    },
    {
      "cell_type": "code",
      "source": [
        "seeds\n",
        "\n",
        "moreSeeds = []\n",
        "\n",
        "startSeeds = seeds[::2]\n",
        "stepsize = seeds[1::2]\n",
        "\n",
        "for i in range(len(startSeeds)):\n",
        "  moreSeeds.append([[startSeeds[i],stepsize[i]]])\n",
        "\n",
        "moreSeeds[0]"
      ],
      "metadata": {
        "colab": {
          "base_uri": "https://localhost:8080/"
        },
        "id": "FxJbPndRut6N",
        "outputId": "1551f41a-2613-44cb-9dc8-620bd76e8b37"
      },
      "execution_count": null,
      "outputs": [
        {
          "output_type": "execute_result",
          "data": {
            "text/plain": [
              "[[28965817, 302170009]]"
            ]
          },
          "metadata": {},
          "execution_count": 32
        }
      ]
    },
    {
      "cell_type": "code",
      "source": [
        "def convertAndReturnCol(type, num):\n",
        "  col = converter[type] + 1\n",
        "  exit = False\n",
        "  while not exit:\n",
        "    try:\n",
        "      num,exit = fallInRange(num,col)\n",
        "      col+=1\n",
        "    except:\n",
        "      exit = True\n",
        "  return num,col-1"
      ],
      "metadata": {
        "id": "Z62l0BYO2DI0"
      },
      "execution_count": null,
      "outputs": []
    },
    {
      "cell_type": "code",
      "source": [
        "convertAndReturnCol(conversions[0],moreSeeds[0][0][0])"
      ],
      "metadata": {
        "id": "iOkGo26mE__W",
        "outputId": "92fde8f8-0ded-42f4-efbd-1fc80edfea58",
        "colab": {
          "base_uri": "https://localhost:8080/"
        }
      },
      "execution_count": null,
      "outputs": [
        {
          "output_type": "execute_result",
          "data": {
            "text/plain": [
              "(124454188, 10)"
            ]
          },
          "metadata": {},
          "execution_count": 112
        }
      ]
    },
    {
      "cell_type": "code",
      "source": [
        "fallInRange(moreSeeds[0][0][1]+moreSeeds[0][0][1],10)"
      ],
      "metadata": {
        "id": "OysQ3ihj2b3_",
        "outputId": "f6b34b60-6e03-49a6-9445-e4ec712e4aca",
        "colab": {
          "base_uri": "https://localhost:8080/"
        }
      },
      "execution_count": null,
      "outputs": [
        {
          "output_type": "execute_result",
          "data": {
            "text/plain": [
              "(604340018, False)"
            ]
          },
          "metadata": {},
          "execution_count": 114
        }
      ]
    },
    {
      "cell_type": "code",
      "source": [
        "def fallInRangeAddNewRange(num,row,oldRange):\n",
        "  if num >= int(data.iloc[row,1]) and num < int(data.iloc[row,2]) + int(data.iloc[row,1]):\n",
        "    if oldRange <= int(data.iloc[row,2])-(num - int(data.iloc[row,1])+1):\n",
        "      adjustRange = False\n",
        "    else:\n",
        "      adjustRange = True\n",
        "      oldRange = oldRange - (int(data.iloc[row,2])-(num - int(data.iloc[row,1])+1))\n",
        "    return int(data.iloc[row,0]) + num - int(data.iloc[row,1]),True,oldRange,adjustRange\n",
        "  else:\n",
        "    return num, False, oldRange, False"
      ],
      "metadata": {
        "id": "p2TSF43U3SDa"
      },
      "execution_count": null,
      "outputs": []
    },
    {
      "cell_type": "code",
      "source": [
        "fallInRangeAddNewRange(moreSeeds[0][0][0],10,moreSeeds[0][0][1])"
      ],
      "metadata": {
        "id": "16u0YZc0GGv-",
        "outputId": "a91c2211-310c-4740-a58d-96ca6320fe56",
        "colab": {
          "base_uri": "https://localhost:8080/"
        }
      },
      "execution_count": null,
      "outputs": [
        {
          "output_type": "execute_result",
          "data": {
            "text/plain": [
              "(124454188, True, 233267622, True)"
            ]
          },
          "metadata": {},
          "execution_count": 119
        }
      ]
    },
    {
      "cell_type": "code",
      "source": [
        "moreSeeds[0][0][1]"
      ],
      "metadata": {
        "id": "R2OFA9eVcpdx",
        "outputId": "3d69384d-6760-430a-a18b-6cd6e69daf87",
        "colab": {
          "base_uri": "https://localhost:8080/"
        }
      },
      "execution_count": null,
      "outputs": [
        {
          "output_type": "execute_result",
          "data": {
            "text/plain": [
              "302170009"
            ]
          },
          "metadata": {},
          "execution_count": 120
        }
      ]
    },
    {
      "cell_type": "code",
      "source": [
        "moreSeeds[0].insert(0,[0,0])"
      ],
      "metadata": {
        "id": "9VCiAl_pczao"
      },
      "execution_count": null,
      "outputs": []
    },
    {
      "cell_type": "code",
      "source": [
        "moreSeeds"
      ],
      "metadata": {
        "id": "4NzHQzSbc9Jz",
        "outputId": "62a8cfcb-9f4d-48b0-e286-4886e1831ff9",
        "colab": {
          "base_uri": "https://localhost:8080/"
        }
      },
      "execution_count": null,
      "outputs": [
        {
          "output_type": "execute_result",
          "data": {
            "text/plain": [
              "[[[28965817, 302170009]],\n",
              " [[1752849261, 48290258]],\n",
              " [[804904201, 243492043]],\n",
              " [[2150339939, 385349830]],\n",
              " [[1267802202, 350474859]],\n",
              " [[2566296746, 17565716]],\n",
              " [[3543571814, 291402104]],\n",
              " [[447111316, 279196488]],\n",
              " [[3227221259, 47952959]],\n",
              " [[1828835733, 9607836]]]"
            ]
          },
          "metadata": {},
          "execution_count": 145
        }
      ]
    },
    {
      "cell_type": "code",
      "source": [
        "while not exit:\n",
        "  try:\n",
        "    num,exit,newRange,needRangeAdjustment = fallInRangeAddNewRange(num,col,oldRange)\n",
        "    col+=1\n",
        "  except:\n",
        "    exit = True"
      ],
      "metadata": {
        "id": "nBHvINxcdwaY"
      },
      "execution_count": null,
      "outputs": []
    },
    {
      "cell_type": "code",
      "source": [
        "def updateMoreSeeds(seedNum,entry,row):\n",
        "  while not exit:\n",
        "    try:\n",
        "      num,exit,newRange,needRangeAdjustment = fallInRangeAddNewRange(num,row,oldRange)\n",
        "      col+=1\n",
        "    except:\n",
        "      exit = True\n",
        "  if needRangeAdjustment:\n",
        "    moreSeeds.insert(entry+1,[convert(type,),newRange])"
      ],
      "metadata": {
        "id": "hdL6lhZzdNkB"
      },
      "execution_count": null,
      "outputs": []
    },
    {
      "cell_type": "markdown",
      "source": [
        "I am getting too complicated.  Don't have a handle on what I am doing here.  Will try to refactor.  Frist I'll just fix the ranges to cover itself."
      ],
      "metadata": {
        "id": "m3ImyIKcf5Jg"
      }
    },
    {
      "cell_type": "code",
      "source": [
        "def fallInRangeAddNewRange(num,row,oldRange):\n",
        "  if num >= int(data.iloc[row,1]) and num < int(data.iloc[row,2]) + int(data.iloc[row,1]):\n",
        "    if num + oldRange <= int(data.iloc[row,2]) + int(data.iloc[row,1]):\n",
        "      adjustRange = False\n",
        "    else:\n",
        "      adjustRange = True\n",
        "      oldRange = num + oldRange - (int(data.iloc[row,2]) + int(data.iloc[row,1]))\n",
        "    return num,True,oldRange,adjustRange\n",
        "  else:\n",
        "    return num, False, oldRange, False"
      ],
      "metadata": {
        "id": "5xpa4SApgj0P"
      },
      "execution_count": null,
      "outputs": []
    },
    {
      "cell_type": "code",
      "source": [
        "def rangeTransform(type,startNum,range,posInArray,seedNum):\n",
        "  row = converter[type] + 1\n",
        "  exit = False\n",
        "  while not exit:\n",
        "    try:\n",
        "      num,exit,extras,adjustRange = fallInRangeAddNewRange(startNum,row, range)\n",
        "      row+=1\n",
        "    except:\n",
        "      exit = True\n",
        "  if adjustRange:\n",
        "    moreSeeds[seedNum][posInArray] = [num,range - extras]\n",
        "    moreSeeds[seedNum].insert(posInArray+1,[num+(range-extras),extras])\n"
      ],
      "metadata": {
        "id": "94TRDBtsf4U6"
      },
      "execution_count": null,
      "outputs": []
    },
    {
      "cell_type": "code",
      "source": [
        "moreSeeds[0]"
      ],
      "metadata": {
        "id": "VRIQA_0iiAIS",
        "outputId": "c97f700c-aea6-4591-95dd-13d0e90f9109",
        "colab": {
          "base_uri": "https://localhost:8080/"
        }
      },
      "execution_count": null,
      "outputs": [
        {
          "output_type": "execute_result",
          "data": {
            "text/plain": [
              "[[28965817, 302170009]]"
            ]
          },
          "metadata": {},
          "execution_count": 33
        }
      ]
    },
    {
      "cell_type": "code",
      "source": [
        "int(data.iloc[10,1])<=moreSeeds[0][0][0] and int(data.iloc[10,1])+int(data.iloc[10,2])>moreSeeds[0][0][0]"
      ],
      "metadata": {
        "id": "JHPdr0zHiBiT",
        "outputId": "b183bf3f-01f5-4939-fbc8-09ce7f17f09a",
        "colab": {
          "base_uri": "https://localhost:8080/"
        }
      },
      "execution_count": null,
      "outputs": [
        {
          "output_type": "execute_result",
          "data": {
            "text/plain": [
              "True"
            ]
          },
          "metadata": {},
          "execution_count": 39
        }
      ]
    },
    {
      "cell_type": "code",
      "source": [
        "moreSeeds[0][0][0]+moreSeeds[0][0][1] >int(data.iloc[10,1])+int(data.iloc[10,2])"
      ],
      "metadata": {
        "id": "GQKjB8jQ-nXC",
        "outputId": "328176ff-afad-4ad6-cd8c-6b0f8f624d92",
        "colab": {
          "base_uri": "https://localhost:8080/"
        }
      },
      "execution_count": null,
      "outputs": [
        {
          "output_type": "execute_result",
          "data": {
            "text/plain": [
              "True"
            ]
          },
          "metadata": {},
          "execution_count": 42
        }
      ]
    },
    {
      "cell_type": "code",
      "source": [
        "moreSeeds[0][0][0]+moreSeeds[0][0][1] -(int(data.iloc[10,1])+int(data.iloc[10,2]))"
      ],
      "metadata": {
        "id": "mbjy2Gp6AALg",
        "outputId": "2ac2b0a3-305f-4320-a205-ffc69796fd63",
        "colab": {
          "base_uri": "https://localhost:8080/"
        }
      },
      "execution_count": null,
      "outputs": [
        {
          "output_type": "execute_result",
          "data": {
            "text/plain": [
              "233267621"
            ]
          },
          "metadata": {},
          "execution_count": 43
        }
      ]
    },
    {
      "cell_type": "code",
      "source": [],
      "metadata": {
        "id": "jWUOcTNdCPz2"
      },
      "execution_count": null,
      "outputs": []
    },
    {
      "cell_type": "code",
      "source": [
        "\n",
        "for num, seed in enumerate(moreSeeds[0]):\n",
        "  rangeTransform('seed-to-soil',seed[0],seed[1],num,0)"
      ],
      "metadata": {
        "id": "qj4kytdOijmC"
      },
      "execution_count": null,
      "outputs": []
    },
    {
      "cell_type": "code",
      "source": [
        "moreSeeds[0]"
      ],
      "metadata": {
        "id": "VB0BSEkcjG6c",
        "outputId": "278da997-1301-473f-a98e-c0aedf3649d2",
        "colab": {
          "base_uri": "https://localhost:8080/"
        }
      },
      "execution_count": null,
      "outputs": [
        {
          "output_type": "execute_result",
          "data": {
            "text/plain": [
              "[[28965817, 68902388], [97868205, 233267621]]"
            ]
          },
          "metadata": {},
          "execution_count": 46
        }
      ]
    },
    {
      "cell_type": "code",
      "source": [
        "\n",
        "\n",
        "for num, seed in enumerate(moreSeeds[0]):\n",
        "  rangeTransform('seed-to-soil',seed[0],seed[1],num,0)\n",
        "moreSeeds[0]"
      ],
      "metadata": {
        "id": "Y5e5AdnYjMeZ",
        "outputId": "49bbc87c-35a4-4133-c71a-e77153bcafaf",
        "colab": {
          "base_uri": "https://localhost:8080/"
        }
      },
      "execution_count": null,
      "outputs": [
        {
          "output_type": "execute_result",
          "data": {
            "text/plain": [
              "[[28965817, 68902387], [262233439, 197044955], [298456106, 36222667]]"
            ]
          },
          "metadata": {},
          "execution_count": 183
        }
      ]
    },
    {
      "cell_type": "code",
      "source": [
        "def rangeAdjustOnSeed(type,seedNum):\n",
        "  for num, seed in enumerate(moreSeeds[seedNum]):\n",
        "    rangeTransform(type,seed[0],seed[1],num,seedNum)\n"
      ],
      "metadata": {
        "id": "vx9GkjVGkkzq"
      },
      "execution_count": null,
      "outputs": []
    },
    {
      "cell_type": "code",
      "source": [
        "\n",
        "moreSeeds[1]"
      ],
      "metadata": {
        "id": "KwXXEFLcnfj7",
        "outputId": "dee181f0-9852-44d5-c2a0-26381591ddbd",
        "colab": {
          "base_uri": "https://localhost:8080/"
        }
      },
      "execution_count": null,
      "outputs": [
        {
          "output_type": "execute_result",
          "data": {
            "text/plain": [
              "[[1752849261, 48290258]]"
            ]
          },
          "metadata": {},
          "execution_count": 200
        }
      ]
    },
    {
      "cell_type": "code",
      "source": [
        "rangeAdjustOnSeed('seed-to-soil',2)\n",
        "\n",
        "moreSeeds[2]"
      ],
      "metadata": {
        "id": "cl6rXg4lnV3K",
        "outputId": "666754df-6f69-44be-f78d-9f200a064388",
        "colab": {
          "base_uri": "https://localhost:8080/"
        }
      },
      "execution_count": null,
      "outputs": [
        {
          "output_type": "execute_result",
          "data": {
            "text/plain": [
              "[[804904201, 243492043]]"
            ]
          },
          "metadata": {},
          "execution_count": 202
        }
      ]
    },
    {
      "cell_type": "code",
      "source": [
        "def transformAfterRangeAdjust(type,seedNum):\n",
        "  for num, seed in enumerate(moreSeeds[seedNum]):\n",
        "    moreSeeds[seedNum][num][0] = convert(type,seed[0])\n"
      ],
      "metadata": {
        "id": "YSD-02CTndm0"
      },
      "execution_count": null,
      "outputs": []
    },
    {
      "cell_type": "code",
      "source": [
        "moreSeeds[0]"
      ],
      "metadata": {
        "id": "_1mcrEeYohWa",
        "outputId": "4aa457fb-e167-4e49-db68-a63084d7fb6a",
        "colab": {
          "base_uri": "https://localhost:8080/"
        }
      },
      "execution_count": null,
      "outputs": [
        {
          "output_type": "execute_result",
          "data": {
            "text/plain": [
              "[[28965817, 68902388], [262233438, 197044957], [298456102, 36222664]]"
            ]
          },
          "metadata": {},
          "execution_count": 204
        }
      ]
    },
    {
      "cell_type": "code",
      "source": [
        "transformAfterRangeAdjust('seed-to-soil',0)\n",
        "\n",
        "moreSeeds"
      ],
      "metadata": {
        "id": "yq7FA1J2oj2E",
        "outputId": "78e6d6e4-016f-48dd-80d7-4099826d2e9b",
        "colab": {
          "base_uri": "https://localhost:8080/"
        }
      },
      "execution_count": null,
      "outputs": [
        {
          "output_type": "execute_result",
          "data": {
            "text/plain": [
              "[[[124454188, 68902388], [862846394, 197044957], [899069058, 36222664]],\n",
              " [[1752849261, 48290258]],\n",
              " [[804904201, 243492043]],\n",
              " [[2150339939, 385349830]],\n",
              " [[1267802202, 350474859]],\n",
              " [[2566296746, 17565716]],\n",
              " [[3543571814, 291402104]],\n",
              " [[447111316, 279196488]],\n",
              " [[3227221259, 47952959]],\n",
              " [[1828835733, 9607836]]]"
            ]
          },
          "metadata": {},
          "execution_count": 205
        }
      ]
    },
    {
      "cell_type": "markdown",
      "source": [
        "I don't think this is correct but I am going to run it and see if I get the answer..."
      ],
      "metadata": {
        "id": "XT43wunIrYcl"
      }
    },
    {
      "cell_type": "code",
      "source": [
        "moreSeeds = []\n",
        "\n",
        "startSeeds = seeds[::2]\n",
        "stepsize = seeds[1::2]\n",
        "\n",
        "for i in range(len(startSeeds)):\n",
        "  moreSeeds.append([[startSeeds[i],stepsize[i]]])\n",
        "\n",
        "\n",
        "for type in conversions:\n",
        "  for seed in range(10):\n",
        "    rangeAdjustOnSeed(type,seed)\n",
        "    transformAfterRangeAdjust(type,seed)"
      ],
      "metadata": {
        "id": "Sy-Z2iTcoqt1"
      },
      "execution_count": null,
      "outputs": []
    },
    {
      "cell_type": "code",
      "source": [
        "minimum = 1000000000000000000000000\n",
        "\n",
        "for seed in moreSeeds:\n",
        "  for val in seed:\n",
        "    #print(val[0])\n",
        "    minimum = min(minimum,val[0])"
      ],
      "metadata": {
        "id": "E_nj9rner-W8"
      },
      "execution_count": null,
      "outputs": []
    },
    {
      "cell_type": "code",
      "source": [
        "moreSeeds[0][0]"
      ],
      "metadata": {
        "id": "SQIR2jLVr_dC",
        "outputId": "0a60d9a4-be75-4dd5-de9a-5b8ca960b2f8",
        "colab": {
          "base_uri": "https://localhost:8080/"
        }
      },
      "execution_count": null,
      "outputs": [
        {
          "output_type": "execute_result",
          "data": {
            "text/plain": [
              "[721918543, 45856488]"
            ]
          },
          "metadata": {},
          "execution_count": 216
        }
      ]
    },
    {
      "cell_type": "code",
      "source": [
        "minimum"
      ],
      "metadata": {
        "id": "68eX0cMnsa6b",
        "outputId": "d61da7aa-15c0-4600-bf7c-22e27cb3df27",
        "colab": {
          "base_uri": "https://localhost:8080/"
        }
      },
      "execution_count": null,
      "outputs": [
        {
          "output_type": "execute_result",
          "data": {
            "text/plain": [
              "79004094"
            ]
          },
          "metadata": {},
          "execution_count": 49
        }
      ]
    },
    {
      "cell_type": "code",
      "source": [],
      "metadata": {
        "id": "Sf_pMxacs4-h"
      },
      "execution_count": null,
      "outputs": []
    },
    {
      "cell_type": "markdown",
      "source": [
        "## Day 6:  Off to the Races"
      ],
      "metadata": {
        "id": "iGXXxTwobb3q"
      }
    },
    {
      "cell_type": "code",
      "source": [
        "time = [45,98,83,73]\n",
        "distance = [295, 1734, 1278, 1210]\n",
        "\n",
        "def distanceBasedOnChargeTime(time,charge):\n",
        "  if charge >= time:\n",
        "    return 0\n",
        "  else:\n",
        "    return charge*(time-charge)\n",
        "\n",
        "total = 1\n",
        "for num,t in enumerate(time):\n",
        "  howMany = 0\n",
        "  for j in range(t):\n",
        "    if distanceBasedOnChargeTime(t,j)>= distance[num]:\n",
        "      howMany +=1\n",
        "  total*=howMany"
      ],
      "metadata": {
        "id": "uHrkb-LMbfAx"
      },
      "execution_count": null,
      "outputs": []
    },
    {
      "cell_type": "code",
      "source": [
        "total"
      ],
      "metadata": {
        "colab": {
          "base_uri": "https://localhost:8080/"
        },
        "id": "2Q7yMUbscmVh",
        "outputId": "32cc8c68-e890-412b-948b-be0aad06dbdd"
      },
      "execution_count": null,
      "outputs": [
        {
          "output_type": "execute_result",
          "data": {
            "text/plain": [
              "1413720"
            ]
          },
          "metadata": {},
          "execution_count": 9
        }
      ]
    },
    {
      "cell_type": "code",
      "source": [
        "time = 45988373\n",
        "distance = 295173412781210\n",
        "\n",
        "import sympy\n",
        "\n",
        "x = sympy.Symbol('x')\n",
        "\n",
        "f = x*(time-x)"
      ],
      "metadata": {
        "id": "xBbNBbyycneo"
      },
      "execution_count": null,
      "outputs": []
    },
    {
      "cell_type": "code",
      "source": [
        "sol = sympy.solve(f-distance,x)"
      ],
      "metadata": {
        "id": "jRgg_TmJcrTK"
      },
      "execution_count": null,
      "outputs": []
    },
    {
      "cell_type": "code",
      "source": [
        "import math\n",
        "a = math.ceil(sol[0])"
      ],
      "metadata": {
        "id": "cLGyvLUjeJSJ"
      },
      "execution_count": null,
      "outputs": []
    },
    {
      "cell_type": "code",
      "source": [
        "b = math.floor(sol[1])"
      ],
      "metadata": {
        "id": "yVdp3s4QeKfG"
      },
      "execution_count": null,
      "outputs": []
    },
    {
      "cell_type": "code",
      "source": [
        "b-a+1"
      ],
      "metadata": {
        "id": "80s2CFEjehZW",
        "outputId": "a7a9bfa3-47b4-4245-afb7-b3b7aaf12806",
        "colab": {
          "base_uri": "https://localhost:8080/"
        }
      },
      "execution_count": null,
      "outputs": [
        {
          "output_type": "execute_result",
          "data": {
            "text/plain": [
              "30565288"
            ]
          },
          "metadata": {},
          "execution_count": 25
        }
      ]
    },
    {
      "cell_type": "code",
      "source": [],
      "metadata": {
        "id": "fJcYpFwAelwD"
      },
      "execution_count": null,
      "outputs": []
    },
    {
      "cell_type": "markdown",
      "source": [
        "## Day 7 Counting Cards"
      ],
      "metadata": {
        "id": "kfDvLMjhkXpQ"
      }
    },
    {
      "cell_type": "code",
      "source": [
        "data = pa.read_csv('https://raw.githubusercontent.com/nurfnick/AdventOfCode2023/main/input7', header = None,\n",
        "                     sep=' ', engine='python')"
      ],
      "metadata": {
        "id": "ZKKFo_IfkaeT"
      },
      "execution_count": 152,
      "outputs": []
    },
    {
      "cell_type": "code",
      "source": [
        "data"
      ],
      "metadata": {
        "id": "lzI95nFSkr5j",
        "outputId": "fce5f958-8370-4d2c-807a-0841aef25604",
        "colab": {
          "base_uri": "https://localhost:8080/",
          "height": 424
        }
      },
      "execution_count": 153,
      "outputs": [
        {
          "output_type": "execute_result",
          "data": {
            "text/plain": [
              "         0    1\n",
              "0    55AAA  534\n",
              "1    QKK3Q  408\n",
              "2    Q4Q4Q  607\n",
              "3    5J5K5  793\n",
              "4    J6396  841\n",
              "..     ...  ...\n",
              "995  55Q55  918\n",
              "996  64545  167\n",
              "997  82288   63\n",
              "998  3993J  761\n",
              "999  622J8  955\n",
              "\n",
              "[1000 rows x 2 columns]"
            ],
            "text/html": [
              "\n",
              "  <div id=\"df-12c9513c-32dd-4165-a436-0f67c54f2a8b\" class=\"colab-df-container\">\n",
              "    <div>\n",
              "<style scoped>\n",
              "    .dataframe tbody tr th:only-of-type {\n",
              "        vertical-align: middle;\n",
              "    }\n",
              "\n",
              "    .dataframe tbody tr th {\n",
              "        vertical-align: top;\n",
              "    }\n",
              "\n",
              "    .dataframe thead th {\n",
              "        text-align: right;\n",
              "    }\n",
              "</style>\n",
              "<table border=\"1\" class=\"dataframe\">\n",
              "  <thead>\n",
              "    <tr style=\"text-align: right;\">\n",
              "      <th></th>\n",
              "      <th>0</th>\n",
              "      <th>1</th>\n",
              "    </tr>\n",
              "  </thead>\n",
              "  <tbody>\n",
              "    <tr>\n",
              "      <th>0</th>\n",
              "      <td>55AAA</td>\n",
              "      <td>534</td>\n",
              "    </tr>\n",
              "    <tr>\n",
              "      <th>1</th>\n",
              "      <td>QKK3Q</td>\n",
              "      <td>408</td>\n",
              "    </tr>\n",
              "    <tr>\n",
              "      <th>2</th>\n",
              "      <td>Q4Q4Q</td>\n",
              "      <td>607</td>\n",
              "    </tr>\n",
              "    <tr>\n",
              "      <th>3</th>\n",
              "      <td>5J5K5</td>\n",
              "      <td>793</td>\n",
              "    </tr>\n",
              "    <tr>\n",
              "      <th>4</th>\n",
              "      <td>J6396</td>\n",
              "      <td>841</td>\n",
              "    </tr>\n",
              "    <tr>\n",
              "      <th>...</th>\n",
              "      <td>...</td>\n",
              "      <td>...</td>\n",
              "    </tr>\n",
              "    <tr>\n",
              "      <th>995</th>\n",
              "      <td>55Q55</td>\n",
              "      <td>918</td>\n",
              "    </tr>\n",
              "    <tr>\n",
              "      <th>996</th>\n",
              "      <td>64545</td>\n",
              "      <td>167</td>\n",
              "    </tr>\n",
              "    <tr>\n",
              "      <th>997</th>\n",
              "      <td>82288</td>\n",
              "      <td>63</td>\n",
              "    </tr>\n",
              "    <tr>\n",
              "      <th>998</th>\n",
              "      <td>3993J</td>\n",
              "      <td>761</td>\n",
              "    </tr>\n",
              "    <tr>\n",
              "      <th>999</th>\n",
              "      <td>622J8</td>\n",
              "      <td>955</td>\n",
              "    </tr>\n",
              "  </tbody>\n",
              "</table>\n",
              "<p>1000 rows × 2 columns</p>\n",
              "</div>\n",
              "    <div class=\"colab-df-buttons\">\n",
              "\n",
              "  <div class=\"colab-df-container\">\n",
              "    <button class=\"colab-df-convert\" onclick=\"convertToInteractive('df-12c9513c-32dd-4165-a436-0f67c54f2a8b')\"\n",
              "            title=\"Convert this dataframe to an interactive table.\"\n",
              "            style=\"display:none;\">\n",
              "\n",
              "  <svg xmlns=\"http://www.w3.org/2000/svg\" height=\"24px\" viewBox=\"0 -960 960 960\">\n",
              "    <path d=\"M120-120v-720h720v720H120Zm60-500h600v-160H180v160Zm220 220h160v-160H400v160Zm0 220h160v-160H400v160ZM180-400h160v-160H180v160Zm440 0h160v-160H620v160ZM180-180h160v-160H180v160Zm440 0h160v-160H620v160Z\"/>\n",
              "  </svg>\n",
              "    </button>\n",
              "\n",
              "  <style>\n",
              "    .colab-df-container {\n",
              "      display:flex;\n",
              "      gap: 12px;\n",
              "    }\n",
              "\n",
              "    .colab-df-convert {\n",
              "      background-color: #E8F0FE;\n",
              "      border: none;\n",
              "      border-radius: 50%;\n",
              "      cursor: pointer;\n",
              "      display: none;\n",
              "      fill: #1967D2;\n",
              "      height: 32px;\n",
              "      padding: 0 0 0 0;\n",
              "      width: 32px;\n",
              "    }\n",
              "\n",
              "    .colab-df-convert:hover {\n",
              "      background-color: #E2EBFA;\n",
              "      box-shadow: 0px 1px 2px rgba(60, 64, 67, 0.3), 0px 1px 3px 1px rgba(60, 64, 67, 0.15);\n",
              "      fill: #174EA6;\n",
              "    }\n",
              "\n",
              "    .colab-df-buttons div {\n",
              "      margin-bottom: 4px;\n",
              "    }\n",
              "\n",
              "    [theme=dark] .colab-df-convert {\n",
              "      background-color: #3B4455;\n",
              "      fill: #D2E3FC;\n",
              "    }\n",
              "\n",
              "    [theme=dark] .colab-df-convert:hover {\n",
              "      background-color: #434B5C;\n",
              "      box-shadow: 0px 1px 3px 1px rgba(0, 0, 0, 0.15);\n",
              "      filter: drop-shadow(0px 1px 2px rgba(0, 0, 0, 0.3));\n",
              "      fill: #FFFFFF;\n",
              "    }\n",
              "  </style>\n",
              "\n",
              "    <script>\n",
              "      const buttonEl =\n",
              "        document.querySelector('#df-12c9513c-32dd-4165-a436-0f67c54f2a8b button.colab-df-convert');\n",
              "      buttonEl.style.display =\n",
              "        google.colab.kernel.accessAllowed ? 'block' : 'none';\n",
              "\n",
              "      async function convertToInteractive(key) {\n",
              "        const element = document.querySelector('#df-12c9513c-32dd-4165-a436-0f67c54f2a8b');\n",
              "        const dataTable =\n",
              "          await google.colab.kernel.invokeFunction('convertToInteractive',\n",
              "                                                    [key], {});\n",
              "        if (!dataTable) return;\n",
              "\n",
              "        const docLinkHtml = 'Like what you see? Visit the ' +\n",
              "          '<a target=\"_blank\" href=https://colab.research.google.com/notebooks/data_table.ipynb>data table notebook</a>'\n",
              "          + ' to learn more about interactive tables.';\n",
              "        element.innerHTML = '';\n",
              "        dataTable['output_type'] = 'display_data';\n",
              "        await google.colab.output.renderOutput(dataTable, element);\n",
              "        const docLink = document.createElement('div');\n",
              "        docLink.innerHTML = docLinkHtml;\n",
              "        element.appendChild(docLink);\n",
              "      }\n",
              "    </script>\n",
              "  </div>\n",
              "\n",
              "\n",
              "<div id=\"df-fa3240cd-b982-4dba-81e2-120de757496b\">\n",
              "  <button class=\"colab-df-quickchart\" onclick=\"quickchart('df-fa3240cd-b982-4dba-81e2-120de757496b')\"\n",
              "            title=\"Suggest charts\"\n",
              "            style=\"display:none;\">\n",
              "\n",
              "<svg xmlns=\"http://www.w3.org/2000/svg\" height=\"24px\"viewBox=\"0 0 24 24\"\n",
              "     width=\"24px\">\n",
              "    <g>\n",
              "        <path d=\"M19 3H5c-1.1 0-2 .9-2 2v14c0 1.1.9 2 2 2h14c1.1 0 2-.9 2-2V5c0-1.1-.9-2-2-2zM9 17H7v-7h2v7zm4 0h-2V7h2v10zm4 0h-2v-4h2v4z\"/>\n",
              "    </g>\n",
              "</svg>\n",
              "  </button>\n",
              "\n",
              "<style>\n",
              "  .colab-df-quickchart {\n",
              "      --bg-color: #E8F0FE;\n",
              "      --fill-color: #1967D2;\n",
              "      --hover-bg-color: #E2EBFA;\n",
              "      --hover-fill-color: #174EA6;\n",
              "      --disabled-fill-color: #AAA;\n",
              "      --disabled-bg-color: #DDD;\n",
              "  }\n",
              "\n",
              "  [theme=dark] .colab-df-quickchart {\n",
              "      --bg-color: #3B4455;\n",
              "      --fill-color: #D2E3FC;\n",
              "      --hover-bg-color: #434B5C;\n",
              "      --hover-fill-color: #FFFFFF;\n",
              "      --disabled-bg-color: #3B4455;\n",
              "      --disabled-fill-color: #666;\n",
              "  }\n",
              "\n",
              "  .colab-df-quickchart {\n",
              "    background-color: var(--bg-color);\n",
              "    border: none;\n",
              "    border-radius: 50%;\n",
              "    cursor: pointer;\n",
              "    display: none;\n",
              "    fill: var(--fill-color);\n",
              "    height: 32px;\n",
              "    padding: 0;\n",
              "    width: 32px;\n",
              "  }\n",
              "\n",
              "  .colab-df-quickchart:hover {\n",
              "    background-color: var(--hover-bg-color);\n",
              "    box-shadow: 0 1px 2px rgba(60, 64, 67, 0.3), 0 1px 3px 1px rgba(60, 64, 67, 0.15);\n",
              "    fill: var(--button-hover-fill-color);\n",
              "  }\n",
              "\n",
              "  .colab-df-quickchart-complete:disabled,\n",
              "  .colab-df-quickchart-complete:disabled:hover {\n",
              "    background-color: var(--disabled-bg-color);\n",
              "    fill: var(--disabled-fill-color);\n",
              "    box-shadow: none;\n",
              "  }\n",
              "\n",
              "  .colab-df-spinner {\n",
              "    border: 2px solid var(--fill-color);\n",
              "    border-color: transparent;\n",
              "    border-bottom-color: var(--fill-color);\n",
              "    animation:\n",
              "      spin 1s steps(1) infinite;\n",
              "  }\n",
              "\n",
              "  @keyframes spin {\n",
              "    0% {\n",
              "      border-color: transparent;\n",
              "      border-bottom-color: var(--fill-color);\n",
              "      border-left-color: var(--fill-color);\n",
              "    }\n",
              "    20% {\n",
              "      border-color: transparent;\n",
              "      border-left-color: var(--fill-color);\n",
              "      border-top-color: var(--fill-color);\n",
              "    }\n",
              "    30% {\n",
              "      border-color: transparent;\n",
              "      border-left-color: var(--fill-color);\n",
              "      border-top-color: var(--fill-color);\n",
              "      border-right-color: var(--fill-color);\n",
              "    }\n",
              "    40% {\n",
              "      border-color: transparent;\n",
              "      border-right-color: var(--fill-color);\n",
              "      border-top-color: var(--fill-color);\n",
              "    }\n",
              "    60% {\n",
              "      border-color: transparent;\n",
              "      border-right-color: var(--fill-color);\n",
              "    }\n",
              "    80% {\n",
              "      border-color: transparent;\n",
              "      border-right-color: var(--fill-color);\n",
              "      border-bottom-color: var(--fill-color);\n",
              "    }\n",
              "    90% {\n",
              "      border-color: transparent;\n",
              "      border-bottom-color: var(--fill-color);\n",
              "    }\n",
              "  }\n",
              "</style>\n",
              "\n",
              "  <script>\n",
              "    async function quickchart(key) {\n",
              "      const quickchartButtonEl =\n",
              "        document.querySelector('#' + key + ' button');\n",
              "      quickchartButtonEl.disabled = true;  // To prevent multiple clicks.\n",
              "      quickchartButtonEl.classList.add('colab-df-spinner');\n",
              "      try {\n",
              "        const charts = await google.colab.kernel.invokeFunction(\n",
              "            'suggestCharts', [key], {});\n",
              "      } catch (error) {\n",
              "        console.error('Error during call to suggestCharts:', error);\n",
              "      }\n",
              "      quickchartButtonEl.classList.remove('colab-df-spinner');\n",
              "      quickchartButtonEl.classList.add('colab-df-quickchart-complete');\n",
              "    }\n",
              "    (() => {\n",
              "      let quickchartButtonEl =\n",
              "        document.querySelector('#df-fa3240cd-b982-4dba-81e2-120de757496b button');\n",
              "      quickchartButtonEl.style.display =\n",
              "        google.colab.kernel.accessAllowed ? 'block' : 'none';\n",
              "    })();\n",
              "  </script>\n",
              "</div>\n",
              "    </div>\n",
              "  </div>\n"
            ]
          },
          "metadata": {},
          "execution_count": 153
        }
      ]
    },
    {
      "cell_type": "code",
      "source": [
        "fiveOfKind = []\n",
        "fourOfKind = []\n",
        "fullHouse = []\n",
        "threeOfKind = []\n",
        "twoPair = []\n",
        "onePair = []\n",
        "\n",
        "\n",
        "allHands = []\n",
        "\n",
        "for i in range(1000):\n",
        "  allHands.append([data.iloc[i,0],data.iloc[i,1]])"
      ],
      "metadata": {
        "id": "CvKaE_MpksYT"
      },
      "execution_count": 357,
      "outputs": []
    },
    {
      "cell_type": "code",
      "source": [
        "for hand in allHands:\n",
        "  testCard = hand[0][0]\n",
        "  kind = 0\n",
        "  for card in hand[0]:\n",
        "    if card == testCard:\n",
        "      kind+=1\n",
        "  if kind == 5:\n",
        "    fiveOfKind.append(hand)\n",
        "    allHands.remove(hand)\n",
        "\n"
      ],
      "metadata": {
        "id": "dtd2kvD1lU3o"
      },
      "execution_count": 358,
      "outputs": []
    },
    {
      "cell_type": "code",
      "source": [
        "fiveOfKind"
      ],
      "metadata": {
        "id": "TACbaodhmUV1",
        "outputId": "c356350f-bd29-4ee8-abd6-7770cbc1d312",
        "colab": {
          "base_uri": "https://localhost:8080/"
        }
      },
      "execution_count": 359,
      "outputs": [
        {
          "output_type": "execute_result",
          "data": {
            "text/plain": [
              "[['JJJJJ', 155]]"
            ]
          },
          "metadata": {},
          "execution_count": 359
        }
      ]
    },
    {
      "cell_type": "code",
      "source": [
        "for hand in allHands:\n",
        "  testCard1 = hand[0][0]\n",
        "  kind = 0\n",
        "  for card in hand[0]:\n",
        "    if card == testCard1:\n",
        "      kind += 1\n",
        "    else:\n",
        "      testCard2 = card\n",
        "      kind2 = 0\n",
        "  for card in hand[0]:\n",
        "    if card == testCard2:\n",
        "      kind2+=1\n",
        "  if kind == 4 or kind2 == 4:\n",
        "    fourOfKind.append(hand)\n",
        "    allHands.remove(hand)"
      ],
      "metadata": {
        "id": "inJfVrImmV2Q"
      },
      "execution_count": 363,
      "outputs": []
    },
    {
      "cell_type": "code",
      "source": [
        "len(fourOfKind)"
      ],
      "metadata": {
        "id": "lK8dax3YmYTQ",
        "outputId": "0d49604d-5f2c-40da-98d8-3e5ec4518167",
        "colab": {
          "base_uri": "https://localhost:8080/"
        }
      },
      "execution_count": 364,
      "outputs": [
        {
          "output_type": "execute_result",
          "data": {
            "text/plain": [
              "99"
            ]
          },
          "metadata": {},
          "execution_count": 364
        }
      ]
    },
    {
      "cell_type": "code",
      "source": [
        "for hand in allHands:\n",
        "  card1 = hand[0][0]\n",
        "  card2 = ''\n",
        "  kind1 = 0\n",
        "  kind2 = 0\n",
        "  for card in hand[0]:\n",
        "    if card == card1:\n",
        "      kind1+=1\n",
        "    elif card2 == '':\n",
        "      card2 = card\n",
        "      kind2+=1\n",
        "    elif card2 == card:\n",
        "      kind2+=1\n",
        "  #print(kind1,kind2,hand)\n",
        "  if (kind1 == 3 and kind2 == 2) or (kind1 == 2 and kind2 == 3):\n",
        "    fullHouse.append(hand)\n",
        "    allHands.remove(hand)"
      ],
      "metadata": {
        "id": "b-I3PbwUnmg-"
      },
      "execution_count": 368,
      "outputs": []
    },
    {
      "cell_type": "code",
      "source": [
        "len(fullHouse)"
      ],
      "metadata": {
        "id": "MeAlNXcSo-YK",
        "outputId": "5e6f21b2-bcf0-4023-c581-88e21d166034",
        "colab": {
          "base_uri": "https://localhost:8080/"
        }
      },
      "execution_count": 369,
      "outputs": [
        {
          "output_type": "execute_result",
          "data": {
            "text/plain": [
              "102"
            ]
          },
          "metadata": {},
          "execution_count": 369
        }
      ]
    },
    {
      "cell_type": "code",
      "source": [
        "len(allHands)"
      ],
      "metadata": {
        "id": "8HaUsP7z_WzW",
        "outputId": "d2f4a1d3-34fc-4425-fcb3-348db353987c",
        "colab": {
          "base_uri": "https://localhost:8080/"
        }
      },
      "execution_count": 371,
      "outputs": [
        {
          "output_type": "execute_result",
          "data": {
            "text/plain": [
              "798"
            ]
          },
          "metadata": {},
          "execution_count": 371
        }
      ]
    },
    {
      "cell_type": "code",
      "source": [
        "for hand in allHands:\n",
        "  card1 = hand[0][0]\n",
        "  kind1 = 0\n",
        "  card2 = ''\n",
        "  kind2 = 0\n",
        "  card3 = ''\n",
        "  kind3 = 0\n",
        "  for card in hand[0]:\n",
        "    if card == card1:\n",
        "      kind1+=1\n",
        "    elif card2 == '':\n",
        "      card2 = card\n",
        "      kind2+=1\n",
        "    elif card2 == card:\n",
        "      kind2+=1\n",
        "    elif card3 == '':\n",
        "      card3 = card\n",
        "      kind3+= 1\n",
        "    elif card3 == card:\n",
        "      kind3+=1\n",
        "  if kind1 == 3 or kind2 == 3 or kind3 == 3:\n",
        "    threeOfKind.append(hand)\n",
        "    allHands.remove(hand)\n",
        "\n"
      ],
      "metadata": {
        "id": "SM8-ZKjW7bau"
      },
      "execution_count": 376,
      "outputs": []
    },
    {
      "cell_type": "code",
      "source": [
        "len(threeOfKind)"
      ],
      "metadata": {
        "id": "mzjA5wWW8gny",
        "outputId": "3aeb5d92-839e-42be-e8c2-55eb1843ec10",
        "colab": {
          "base_uri": "https://localhost:8080/"
        }
      },
      "execution_count": 377,
      "outputs": [
        {
          "output_type": "execute_result",
          "data": {
            "text/plain": [
              "191"
            ]
          },
          "metadata": {},
          "execution_count": 377
        }
      ]
    },
    {
      "cell_type": "code",
      "source": [
        "len(allHands) +len(fiveOfKind) + len(fourOfKind) + len(fullHouse) + len(threeOfKind)"
      ],
      "metadata": {
        "id": "Z3cyua_o8tPQ",
        "outputId": "e68519d8-2175-4442-9ee2-1bbaf2d6bd60",
        "colab": {
          "base_uri": "https://localhost:8080/"
        }
      },
      "execution_count": 379,
      "outputs": [
        {
          "output_type": "execute_result",
          "data": {
            "text/plain": [
              "1000"
            ]
          },
          "metadata": {},
          "execution_count": 379
        }
      ]
    },
    {
      "cell_type": "code",
      "source": [
        "for hand in allHands:\n",
        "  card1 = hand[0][0]\n",
        "  kind1 = 0\n",
        "  card2 = ''\n",
        "  kind2 = 0\n",
        "  card3 = ''\n",
        "  kind3 = 0\n",
        "  for card in hand[0]:\n",
        "    if card == card1:\n",
        "      kind1+=1\n",
        "    elif card2 == '':\n",
        "      card2 = card\n",
        "      kind2+=1\n",
        "    elif card2 == card:\n",
        "      kind2+=1\n",
        "    elif card3 == '':\n",
        "      card3 = card\n",
        "      kind3+=1\n",
        "    elif card3 == card:\n",
        "      kind3+=1\n",
        "  if (kind1 == 2 & kind2 == 2) | (kind1 == 2 & kind3 == 2) | (kind2 == 2 & kind3 == 2):\n",
        "    twoPair.append(hand)\n",
        "    allHands.remove(hand)\n"
      ],
      "metadata": {
        "id": "c0Q0_2Rho_6H"
      },
      "execution_count": 386,
      "outputs": []
    },
    {
      "cell_type": "code",
      "source": [
        "len(twoPair)"
      ],
      "metadata": {
        "id": "I2BbO1wIpKru",
        "outputId": "4e46dd90-9905-41f5-e7f0-318adc25c72f",
        "colab": {
          "base_uri": "https://localhost:8080/"
        }
      },
      "execution_count": 387,
      "outputs": [
        {
          "output_type": "execute_result",
          "data": {
            "text/plain": [
              "159"
            ]
          },
          "metadata": {},
          "execution_count": 387
        }
      ]
    },
    {
      "cell_type": "code",
      "source": [
        "len(allHands) +len(fiveOfKind) + len(fourOfKind) + len(fullHouse) + len(threeOfKind)+ len(twoPair)"
      ],
      "metadata": {
        "id": "FoV2Bc6vMne2",
        "outputId": "ce7c1f49-589c-4b42-a117-ce92595f79cc",
        "colab": {
          "base_uri": "https://localhost:8080/"
        }
      },
      "execution_count": 388,
      "outputs": [
        {
          "output_type": "execute_result",
          "data": {
            "text/plain": [
              "1000"
            ]
          },
          "metadata": {},
          "execution_count": 388
        }
      ]
    },
    {
      "cell_type": "code",
      "source": [
        "for hand in allHands:\n",
        "  card1 = hand[0][0]\n",
        "  kind1 = 0\n",
        "  card2 = ''\n",
        "  kind2 = 0\n",
        "  card3 = ''\n",
        "  kind3 = 0\n",
        "  card4 = ''\n",
        "  kind4 = 0\n",
        "  for card in hand[0]:\n",
        "    if card == card1:\n",
        "      kind1+=1\n",
        "    elif card2 == '':\n",
        "      card2 = card\n",
        "      kind2+=1\n",
        "    elif card2 == card:\n",
        "      kind2+=1\n",
        "    elif card3 == '':\n",
        "      card3 = card\n",
        "      kind3+= 1\n",
        "    elif card3 == card:\n",
        "      kind3+=1\n",
        "    elif card4 == '':\n",
        "      card4 = card\n",
        "      kind4+= 1\n",
        "    elif card4 == card:\n",
        "      kind4+=1\n",
        "  if kind1 == 2 or  kind2 == 2 or kind3 == 2 or kind4 == 2:\n",
        "    onePair.append(hand)\n",
        "    allHands.remove(hand)\n"
      ],
      "metadata": {
        "id": "JuAweAYxqqsh"
      },
      "execution_count": 398,
      "outputs": []
    },
    {
      "cell_type": "code",
      "source": [
        "len(onePair)"
      ],
      "metadata": {
        "id": "Iodrc_GS5f0n",
        "outputId": "0a51c728-98a0-46be-94ff-72db9c70b74a",
        "colab": {
          "base_uri": "https://localhost:8080/"
        }
      },
      "execution_count": 399,
      "outputs": [
        {
          "output_type": "execute_result",
          "data": {
            "text/plain": [
              "253"
            ]
          },
          "metadata": {},
          "execution_count": 399
        }
      ]
    },
    {
      "cell_type": "code",
      "source": [
        "len(allHands) +len(fiveOfKind) + len(fourOfKind) + len(fullHouse) + len(threeOfKind)+ len(twoPair) + len(onePair)"
      ],
      "metadata": {
        "id": "cNgV0iMx6v-_",
        "outputId": "89fa25da-ffa8-444b-99cd-c5426c00cfde",
        "colab": {
          "base_uri": "https://localhost:8080/"
        }
      },
      "execution_count": 401,
      "outputs": [
        {
          "output_type": "execute_result",
          "data": {
            "text/plain": [
              "1000"
            ]
          },
          "metadata": {},
          "execution_count": 401
        }
      ]
    },
    {
      "cell_type": "code",
      "source": [
        "stringForComparison = 'AKQJT98765432'\n",
        "\n",
        "string.index('T')"
      ],
      "metadata": {
        "id": "nUMMgxjM6y0-",
        "outputId": "8f7d9834-21c8-48ce-ac2a-5eccef1582b4",
        "colab": {
          "base_uri": "https://localhost:8080/"
        }
      },
      "execution_count": 402,
      "outputs": [
        {
          "output_type": "execute_result",
          "data": {
            "text/plain": [
              "4"
            ]
          },
          "metadata": {},
          "execution_count": 402
        }
      ]
    },
    {
      "cell_type": "code",
      "source": [
        "def compareTwoSameHands(hand1,hand2):\n",
        "  i = 0\n",
        "  while hand1[i] == hand2[i]:\n",
        "    i+=1\n",
        "  if stringForComparison.index(hand1[i]) > stringForComparison.index(hand2[i]):\n",
        "    return False\n",
        "  return True"
      ],
      "metadata": {
        "id": "dZ1pJBeAEUAU"
      },
      "execution_count": 403,
      "outputs": []
    },
    {
      "cell_type": "code",
      "source": [
        "compareTwoSameHands('A2345','AK345')"
      ],
      "metadata": {
        "id": "BlvgjAhFFlNX",
        "outputId": "7653e919-eb2b-43f6-985a-52c2484fda26",
        "colab": {
          "base_uri": "https://localhost:8080/"
        }
      },
      "execution_count": 404,
      "outputs": [
        {
          "output_type": "execute_result",
          "data": {
            "text/plain": [
              "False"
            ]
          },
          "metadata": {},
          "execution_count": 404
        }
      ]
    },
    {
      "cell_type": "code",
      "source": [
        "def reorderArrays(arrayOfHands):\n",
        "  for i in range(len(arrayOfHands)):\n",
        "    for num in range(len(arrayOfHands)-1):\n",
        "      #print(arrayOfHands[num][0])\n",
        "      if compareTwoSameHands(arrayOfHands[num][0],arrayOfHands[num+1][0]):\n",
        "        arrayOfHands.insert(num,arrayOfHands.pop(num+1))\n"
      ],
      "metadata": {
        "id": "VPcz9IdrFqnH"
      },
      "execution_count": 405,
      "outputs": []
    },
    {
      "cell_type": "code",
      "source": [
        "len(allHands)"
      ],
      "metadata": {
        "id": "1pb8sxrfHXv7",
        "outputId": "44c60335-c431-412b-f4a4-9520fa4ef1ba",
        "colab": {
          "base_uri": "https://localhost:8080/"
        }
      },
      "execution_count": 406,
      "outputs": [
        {
          "output_type": "execute_result",
          "data": {
            "text/plain": [
              "195"
            ]
          },
          "metadata": {},
          "execution_count": 406
        }
      ]
    },
    {
      "cell_type": "code",
      "source": [
        "reorderArrays(allHands)"
      ],
      "metadata": {
        "id": "hPf4DEYnHav_"
      },
      "execution_count": 408,
      "outputs": []
    },
    {
      "cell_type": "code",
      "source": [
        "reorderArrays(onePair)"
      ],
      "metadata": {
        "id": "OEaeqdRCIAp2"
      },
      "execution_count": 410,
      "outputs": []
    },
    {
      "cell_type": "code",
      "source": [
        "reorderArrays(twoPair)"
      ],
      "metadata": {
        "id": "lcyQVsZ8I4_s"
      },
      "execution_count": 412,
      "outputs": []
    },
    {
      "cell_type": "code",
      "source": [
        "reorderArrays(threeOfKind)"
      ],
      "metadata": {
        "id": "meRHo3TXJFMj"
      },
      "execution_count": 414,
      "outputs": []
    },
    {
      "cell_type": "code",
      "source": [
        "reorderArrays(fullHouse)"
      ],
      "metadata": {
        "id": "OInt51DIJKQU"
      },
      "execution_count": 416,
      "outputs": []
    },
    {
      "cell_type": "code",
      "source": [
        "reorderArrays(fourOfKind)"
      ],
      "metadata": {
        "id": "kESNFbjPJNzU"
      },
      "execution_count": 418,
      "outputs": []
    },
    {
      "cell_type": "code",
      "source": [
        "allHands.extend(onePair)\n",
        "allHands.extend(twoPair)\n",
        "allHands.extend(threeOfKind)\n",
        "allHands.extend(fullHouse)\n",
        "allHands.extend(fourOfKind)\n",
        "allHands.extend(fiveOfKind)"
      ],
      "metadata": {
        "id": "dyNiz7xWJ1UR"
      },
      "execution_count": 419,
      "outputs": []
    },
    {
      "cell_type": "code",
      "source": [
        "len(allHands)"
      ],
      "metadata": {
        "id": "S4ERlynNKI5E",
        "outputId": "20b7997b-2492-43b0-e03e-b9f4ea4f06cc",
        "colab": {
          "base_uri": "https://localhost:8080/"
        }
      },
      "execution_count": 420,
      "outputs": [
        {
          "output_type": "execute_result",
          "data": {
            "text/plain": [
              "1000"
            ]
          },
          "metadata": {},
          "execution_count": 420
        }
      ]
    },
    {
      "cell_type": "code",
      "source": [
        "sum = 0\n",
        "\n",
        "for i in range(len(allHands)):\n",
        "  sum += allHands[i][1]*(i+1)"
      ],
      "metadata": {
        "id": "TTk3z9QEKKVK"
      },
      "execution_count": 421,
      "outputs": []
    },
    {
      "cell_type": "code",
      "source": [
        "sum"
      ],
      "metadata": {
        "id": "UpdsKyu4KYgz",
        "outputId": "df6437fd-b447-4098-88a4-eef5181e3d29",
        "colab": {
          "base_uri": "https://localhost:8080/"
        }
      },
      "execution_count": 422,
      "outputs": [
        {
          "output_type": "execute_result",
          "data": {
            "text/plain": [
              "247823654"
            ]
          },
          "metadata": {},
          "execution_count": 422
        }
      ]
    },
    {
      "cell_type": "code",
      "source": [
        "allHands"
      ],
      "metadata": {
        "id": "qMr0c84nKZHS",
        "outputId": "a9e0a9dc-8d21-4ee3-a2e2-6c835b758f4f",
        "colab": {
          "base_uri": "https://localhost:8080/"
        }
      },
      "execution_count": 423,
      "outputs": [
        {
          "output_type": "execute_result",
          "data": {
            "text/plain": [
              "[['23J7Q', 556],\n",
              " ['246A7', 141],\n",
              " ['247QA', 678],\n",
              " ['25794', 200],\n",
              " ['27453', 415],\n",
              " ['27A89', 781],\n",
              " ['2876K', 822],\n",
              " ['28QAJ', 22],\n",
              " ['2T453', 161],\n",
              " ['2T735', 435],\n",
              " ['2T873', 292],\n",
              " ['2Q978', 596],\n",
              " ['2K634', 154],\n",
              " ['2K67J', 146],\n",
              " ['2AJ54', 672],\n",
              " ['32465', 659],\n",
              " ['32584', 809],\n",
              " ['329K6', 444],\n",
              " ['3548T', 316],\n",
              " ['357A2', 747],\n",
              " ['35976', 608],\n",
              " ['35QKJ', 69],\n",
              " ['36J9Q', 498],\n",
              " ['37T2A', 201],\n",
              " ['37KQ4', 772],\n",
              " ['387QK', 461],\n",
              " ['394JT', 847],\n",
              " ['3985A', 548],\n",
              " ['3TKJ7', 985],\n",
              " ['3J784', 698],\n",
              " ['3JT4K', 376],\n",
              " ['3K6TQ', 373],\n",
              " ['3K752', 35],\n",
              " ['3K827', 421],\n",
              " ['3K8T5', 253],\n",
              " ['3A4TQ', 795],\n",
              " ['428JQ', 973],\n",
              " ['42Q67', 577],\n",
              " ['43956', 823],\n",
              " ['453AQ', 786],\n",
              " ['463TQ', 263],\n",
              " ['46T27', 829],\n",
              " ['4T39K', 942],\n",
              " ['4J792', 220],\n",
              " ['4JQ53', 97],\n",
              " ['4Q26K', 796],\n",
              " ['4KQT6', 491],\n",
              " ['4A7J5', 633],\n",
              " ['53TQ7', 362],\n",
              " ['57JK4', 948],\n",
              " ['5873T', 914],\n",
              " ['58T39', 107],\n",
              " ['58J36', 244],\n",
              " ['59Q28', 482],\n",
              " ['59QA7', 401],\n",
              " ['5TQA8', 418],\n",
              " ['5Q76K', 571],\n",
              " ['5K8J4', 132],\n",
              " ['5A94Q', 636],\n",
              " ['5AQT4', 31],\n",
              " ['634K8', 352],\n",
              " ['63782', 970],\n",
              " ['647A3', 968],\n",
              " ['64875', 404],\n",
              " ['649J8', 434],\n",
              " ['64Q73', 688],\n",
              " ['64A75', 658],\n",
              " ['65A3Q', 39],\n",
              " ['692K7', 709],\n",
              " ['694T7', 940],\n",
              " ['6983J', 351],\n",
              " ['6T2A5', 99],\n",
              " ['6T734', 707],\n",
              " ['6J972', 738],\n",
              " ['6Q594', 535],\n",
              " ['6Q7KJ', 519],\n",
              " ['6Q84J', 980],\n",
              " ['6K372', 676],\n",
              " ['6KA98', 187],\n",
              " ['74K2J', 815],\n",
              " ['75JAT', 895],\n",
              " ['763AQ', 981],\n",
              " ['76T59', 92],\n",
              " ['76KA5', 5],\n",
              " ['782TA', 883],\n",
              " ['796QA', 497],\n",
              " ['79A26', 604],\n",
              " ['7T284', 268],\n",
              " ['7J36K', 875],\n",
              " ['7J49Q', 426],\n",
              " ['7JT42', 856],\n",
              " ['7K246', 767],\n",
              " ['7AT56', 594],\n",
              " ['82JK5', 900],\n",
              " ['8369Q', 912],\n",
              " ['83J5K', 465],\n",
              " ['8473A', 810],\n",
              " ['857Q3', 997],\n",
              " ['86T3J', 820],\n",
              " ['86A34', 653],\n",
              " ['87QTJ', 370],\n",
              " ['8942A', 33],\n",
              " ['8975A', 353],\n",
              " ['89AK4', 637],\n",
              " ['8T6KJ', 456],\n",
              " ['8QJT6', 483],\n",
              " ['8KA9J', 961],\n",
              " ['8A452', 991],\n",
              " ['8AJ75', 863],\n",
              " ['937JA', 728],\n",
              " ['938J5', 511],\n",
              " ['947JT', 9],\n",
              " ['94853', 475],\n",
              " ['9524K', 589],\n",
              " ['958K2', 485],\n",
              " ['95T8J', 990],\n",
              " ['963A2', 517],\n",
              " ['96A7K', 255],\n",
              " ['98J25', 852],\n",
              " ['9J347', 270],\n",
              " ['9JT68', 164],\n",
              " ['9Q743', 540],\n",
              " ['9K2JQ', 76],\n",
              " ['9K62A', 536],\n",
              " ['9KQ45', 181],\n",
              " ['T2JQ8', 133],\n",
              " ['T4J38', 383],\n",
              " ['T538J', 590],\n",
              " ['T57J9', 813],\n",
              " ['T5936', 463],\n",
              " ['T76Q9', 999],\n",
              " ['T7Q4K', 55],\n",
              " ['T9524', 261],\n",
              " ['TQ746', 650],\n",
              " ['TK783', 399],\n",
              " ['TKQ4J', 205],\n",
              " ['TKAQ5', 928],\n",
              " ['TA76Q', 598],\n",
              " ['J347A', 280],\n",
              " ['J3596', 157],\n",
              " ['J3T2Q', 654],\n",
              " ['J48K3', 216],\n",
              " ['J4T56', 339],\n",
              " ['J76T3', 787],\n",
              " ['J938K', 562],\n",
              " ['JTQK8', 884],\n",
              " ['Q274T', 962],\n",
              " ['Q3594', 392],\n",
              " ['Q36AT', 195],\n",
              " ['Q3A85', 488],\n",
              " ['Q453T', 194],\n",
              " ['Q4852', 575],\n",
              " ['Q49J2', 127],\n",
              " ['Q63J5', 791],\n",
              " ['Q6J73', 384],\n",
              " ['Q72T8', 734],\n",
              " ['Q76A4', 818],\n",
              " ['Q8K49', 369],\n",
              " ['Q8K57', 832],\n",
              " ['Q8A4J', 68],\n",
              " ['Q945T', 478],\n",
              " ['Q9567', 174],\n",
              " ['Q9J78', 407],\n",
              " ['K28A6', 574],\n",
              " ['K3Q46', 740],\n",
              " ['K4A3J', 7],\n",
              " ['K574Q', 934],\n",
              " ['K5932', 819],\n",
              " ['K5A82', 720],\n",
              " ['K842J', 920],\n",
              " ['K8469', 198],\n",
              " ['K85T9', 812],\n",
              " ['K8637', 547],\n",
              " ['K9A2Q', 602],\n",
              " ['KT6A4', 116],\n",
              " ['KT986', 552],\n",
              " ['KJ495', 790],\n",
              " ['KJT5Q', 480],\n",
              " ['KQ97T', 496],\n",
              " ['KAT6J', 563],\n",
              " ['A468K', 647],\n",
              " ['A4KJ6', 870],\n",
              " ['A5K83', 723],\n",
              " ['A67J3', 125],\n",
              " ['A7359', 447],\n",
              " ['A749J', 760],\n",
              " ['A8265', 313],\n",
              " ['A8T69', 926],\n",
              " ['AQ27K', 481],\n",
              " ['AQ475', 169],\n",
              " ['AK265', 673],\n",
              " ['AK359', 693],\n",
              " ['AK653', 758],\n",
              " ['AK7Q4', 45],\n",
              " ['AKT75', 412],\n",
              " ['22673', 899],\n",
              " ['22863', 343],\n",
              " ['22T9J', 452],\n",
              " ['22JT5', 307],\n",
              " ['23J77', 752],\n",
              " ['2445K', 984],\n",
              " ['24668', 274],\n",
              " ['24766', 419],\n",
              " ['258K8', 857],\n",
              " ['25KKJ', 379],\n",
              " ['2699J', 54],\n",
              " ['27K78', 62],\n",
              " ['28468', 506],\n",
              " ['28J5J', 993],\n",
              " ['2T998', 361],\n",
              " ['2TT5J', 553],\n",
              " ['2QJJ4', 996],\n",
              " ['2QAJ2', 389],\n",
              " ['2KA9A', 739],\n",
              " ['32K39', 983],\n",
              " ['33267', 367],\n",
              " ['33A26', 941],\n",
              " ['35873', 128],\n",
              " ['373Q8', 729],\n",
              " ['37QTQ', 88],\n",
              " ['39545', 423],\n",
              " ['3TA4A', 742],\n",
              " ['3J448', 310],\n",
              " ['3J522', 80],\n",
              " ['3JJ82', 212],\n",
              " ['3K3J5', 396],\n",
              " ['3A994', 665],\n",
              " ['42JA4', 137],\n",
              " ['43966', 844],\n",
              " ['4558K', 526],\n",
              " ['46AJ4', 130],\n",
              " ['4724Q', 504],\n",
              " ['477JK', 138],\n",
              " ['487AA', 736],\n",
              " ['492A9', 219],\n",
              " ['49854', 445],\n",
              " ['4J476', 838],\n",
              " ['4J8K4', 65],\n",
              " ['4Q3KK', 711],\n",
              " ['4QQ5K', 597],\n",
              " ['4KQ9K', 635],\n",
              " ['4KQQ9', 327],\n",
              " ['4A2AJ', 638],\n",
              " ['4A6A2', 453],\n",
              " ['52QJ2', 380],\n",
              " ['53Q73', 748],\n",
              " ['58474', 765],\n",
              " ['5898Q', 543],\n",
              " ['5954J', 762],\n",
              " ['5992J', 660],\n",
              " ['5T9K5', 848],\n",
              " ['5TT8K', 410],\n",
              " ['5J325', 902],\n",
              " ['5J5K9', 741],\n",
              " ['5JK88', 846],\n",
              " ['5Q425', 211],\n",
              " ['5QT35', 202],\n",
              " ['5A539', 908],\n",
              " ['5AQAT', 756],\n",
              " ['5AA73', 188],\n",
              " ['622J8', 955],\n",
              " ['64A43', 420],\n",
              " ['66423', 72],\n",
              " ['677J4', 581],\n",
              " ['67JJ2', 499],\n",
              " ['67KK8', 583],\n",
              " ['68J33', 722],\n",
              " ['6T7T9', 735],\n",
              " ['6T98T', 927],\n",
              " ['6TT73', 788],\n",
              " ['6J7QQ', 889],\n",
              " ['6J922', 686],\n",
              " ['6JQ4Q', 140],\n",
              " ['6JAA2', 333],\n",
              " ['6Q396', 617],\n",
              " ['6Q42Q', 966],\n",
              " ['6QT96', 355],\n",
              " ['6K768', 304],\n",
              " ['6K8J6', 264],\n",
              " ['6A79A', 26],\n",
              " ['728KK', 84],\n",
              " ['737JA', 614],\n",
              " ['7427K', 185],\n",
              " ['75A65', 745],\n",
              " ['76QQA', 4],\n",
              " ['774J9', 184],\n",
              " ['77T48', 868],\n",
              " ['78485', 566],\n",
              " ['787Q5', 172],\n",
              " ['79J7Q', 3],\n",
              " ['7J2JT', 400],\n",
              " ['7J332', 344],\n",
              " ['7Q87J', 297],\n",
              " ['7K7A4', 523],\n",
              " ['7A8JJ', 248],\n",
              " ['7A992', 777],\n",
              " ['829K9', 464],\n",
              " ['833Q4', 697],\n",
              " ['838Q9', 893],\n",
              " ['848J6', 160],\n",
              " ['84929', 932],\n",
              " ['84K24', 336],\n",
              " ['855K3', 744],\n",
              " ['85Q45', 436],\n",
              " ['85Q78', 477],\n",
              " ['85QQ4', 104],\n",
              " ['86Q22', 239],\n",
              " ['87598', 67],\n",
              " ['8768J', 120],\n",
              " ['8852Q', 580],\n",
              " ['8J68A', 325],\n",
              " ['8Q696', 111],\n",
              " ['8Q799', 876],\n",
              " ['8Q85K', 805],\n",
              " ['8A485', 429],\n",
              " ['9459T', 631],\n",
              " ['94T64', 377],\n",
              " ['95K5Q', 882],\n",
              " ['96924', 394],\n",
              " ['9697T', 977],\n",
              " ['98596', 529],\n",
              " ['98852', 558],\n",
              " ['99JQ4', 603],\n",
              " ['9J59K', 513],\n",
              " ['9J697', 954],\n",
              " ['9JT44', 323],\n",
              " ['9JKK7', 749],\n",
              " ['9Q2T2', 716],\n",
              " ['9K58K', 732],\n",
              " ['9A7A5', 700],\n",
              " ['9A7AJ', 570],\n",
              " ['9A833', 538],\n",
              " ['9AK97', 492],\n",
              " ['T226K', 780],\n",
              " ['T2JQQ', 215],\n",
              " ['T498T', 472],\n",
              " ['T5J53', 768],\n",
              " ['T737A', 881],\n",
              " ['T7T8K', 689],\n",
              " ['T8Q5Q', 363],\n",
              " ['T9KJT', 175],\n",
              " ['TT3A4', 381],\n",
              " ['TTJ6K', 234],\n",
              " ['TJ6KK', 549],\n",
              " ['TJ7KJ', 241],\n",
              " ['TJA66', 199],\n",
              " ['TQ96Q', 947],\n",
              " ['TAT2Q', 94],\n",
              " ['TAT52', 695],\n",
              " ['J2362', 578],\n",
              " ['J2767', 106],\n",
              " ['J2TJ4', 901],\n",
              " ['J424T', 705],\n",
              " ['J44K7', 53],\n",
              " ['J5856', 586],\n",
              " ['J6396', 841],\n",
              " ['J64AA', 251],\n",
              " ['J6643', 305],\n",
              " ['J7K7A', 798],\n",
              " ['J8K2K', 455],\n",
              " ['J99T2', 64],\n",
              " ['J99A4', 663],\n",
              " ['JTQT2', 271],\n",
              " ['JTAT8', 61],\n",
              " ['JJ6K4', 386],\n",
              " ['JQ663', 839],\n",
              " ['JQQ75', 502],\n",
              " ['JK2T2', 559],\n",
              " ['JA37A', 746],\n",
              " ['JAQJ8', 764],\n",
              " ['Q33KT', 173],\n",
              " ['Q33A5', 298],\n",
              " ['Q33A6', 866],\n",
              " ['Q373T', 311],\n",
              " ['Q3932', 102],\n",
              " ['Q3J93', 203],\n",
              " ['Q4QKJ', 493],\n",
              " ['Q5J5K', 551],\n",
              " ['Q66J7', 726],\n",
              " ['Q6QK7', 425],\n",
              " ['Q86T8', 708],\n",
              " ['Q9KQ2', 417],\n",
              " ['QT383', 350],\n",
              " ['QT7AT', 409],\n",
              " ['QJ399', 557],\n",
              " ['QJ6J8', 331],\n",
              " ['QJTAA', 375],\n",
              " ['QJK3J', 670],\n",
              " ['QQ3J2', 398],\n",
              " ['QQ5T7', 176],\n",
              " ['QQ794', 792],\n",
              " ['QQK3J', 15],\n",
              " ['QQAJ4', 131],\n",
              " ['QK6K9', 229],\n",
              " ['QKK3J', 906],\n",
              " ['QA3T3', 265],\n",
              " ['QA44T', 666],\n",
              " ['QA8A7', 100],\n",
              " ['K249K', 537],\n",
              " ['K2988', 903],\n",
              " ['K2JTT', 135],\n",
              " ['K2K4J', 6],\n",
              " ['K3237', 43],\n",
              " ['K3477', 545],\n",
              " ['K3K7J', 887],\n",
              " ['K4654', 177],\n",
              " ['K566T', 467],\n",
              " ['K68QK', 40],\n",
              " ['K78K5', 628],\n",
              " ['K8466', 119],\n",
              " ['K9AQQ', 833],\n",
              " ['K9AAJ', 850],\n",
              " ['KTJAK', 872],\n",
              " ['KJ525', 115],\n",
              " ['KJK54', 269],\n",
              " ['KJK76', 11],\n",
              " ['KQT7T', 976],\n",
              " ['KK4T2', 397],\n",
              " ['KK4J9', 136],\n",
              " ['KK69J', 814],\n",
              " ['KK9A2', 439],\n",
              " ['KA39A', 611],\n",
              " ['KA9KQ', 236],\n",
              " ['KA9AT', 124],\n",
              " ['A33J8', 440],\n",
              " ['A5453', 51],\n",
              " ['A6632', 967],\n",
              " ['A7974', 913],\n",
              " ['A82AQ', 885],\n",
              " ['A8AT7', 601],\n",
              " ['A9Q29', 855],\n",
              " ['AT3AJ', 959],\n",
              " ['AT7AQ', 47],\n",
              " ['ATTK4', 719],\n",
              " ['AJJ89', 279],\n",
              " ['AJQ6A', 259],\n",
              " ['AJKAQ', 687],\n",
              " ['AQ4A3', 804],\n",
              " ['AQ966', 192],\n",
              " ['AQA54', 806],\n",
              " ['AK545', 32],\n",
              " ['AK5AJ', 291],\n",
              " ['AK8TA', 546],\n",
              " ['AKK97', 541],\n",
              " ['AKA4J', 448],\n",
              " ['AKA58', 142],\n",
              " ['AKAJT', 50],\n",
              " ['AA2JT', 890],\n",
              " ['227K7', 753],\n",
              " ['22JJA', 952],\n",
              " ['233TT', 250],\n",
              " ['25625', 315],\n",
              " ['27A2A', 1000],\n",
              " ['2QQ24', 661],\n",
              " ['2QKQK', 302],\n",
              " ['2K62K', 228],\n",
              " ['2KJ2K', 564],\n",
              " ['2ATAT', 679],\n",
              " ['335KK', 93],\n",
              " ['33TKT', 347],\n",
              " ['33AAJ', 609],\n",
              " ['3434J', 843],\n",
              " ['3636T', 675],\n",
              " ['38832', 48],\n",
              " ['39369', 503],\n",
              " ['3993J', 761],\n",
              " ['3TJT3', 349],\n",
              " ['3K636', 36],\n",
              " ['3KK77', 655],\n",
              " ['43345', 939],\n",
              " ['43348', 101],\n",
              " ['44J9J', 509],\n",
              " ['45854', 960],\n",
              " ['46767', 704],\n",
              " ['4747Q', 894],\n",
              " ['49495', 717],\n",
              " ['4T2T2', 360],\n",
              " ['4T7T7', 915],\n",
              " ['4J2J2', 262],\n",
              " ['4QJQ4', 37],\n",
              " ['4K55K', 630],\n",
              " ['4K664', 433],\n",
              " ['4A94A', 897],\n",
              " ['52TT2', 306],\n",
              " ['53563', 346],\n",
              " ['53735', 706],\n",
              " ['55994', 910],\n",
              " ['55JKK', 254],\n",
              " ['55A88', 669],\n",
              " ['575J7', 58],\n",
              " ['57JJ7', 454],\n",
              " ['59988', 208],\n",
              " ['5T5T9', 629],\n",
              " ['5T88T', 691],\n",
              " ['5J7J5', 500],\n",
              " ['5QAAQ', 179],\n",
              " ['5K56K', 778],\n",
              " ['62Q2Q', 469],\n",
              " ['63655', 387],\n",
              " ['64545', 167],\n",
              " ['66233', 874],\n",
              " ['6688T', 816],\n",
              " ['668K8', 378],\n",
              " ['6699J', 123],\n",
              " ['66AAQ', 641],\n",
              " ['67267', 122],\n",
              " ['68586', 318],\n",
              " ['69956', 933],\n",
              " ['6JJTT', 766],\n",
              " ['6Q5Q5', 683],\n",
              " ['6Q6Q4', 567],\n",
              " ['6Q86Q', 919],\n",
              " ['747J4', 702],\n",
              " ['77233', 831],\n",
              " ['7733A', 964],\n",
              " ['77454', 727],\n",
              " ['7766K', 512],\n",
              " ['78585', 414],\n",
              " ['787TT', 276],\n",
              " ['78J87', 427],\n",
              " ['78AA7', 134],\n",
              " ['7J766', 290],\n",
              " ['7K878', 591],\n",
              " ['7AT7A', 312],\n",
              " ['7AA7K', 626],\n",
              " ['828KK', 41],\n",
              " ['82928', 28],\n",
              " ['83348', 664],\n",
              " ['8338J', 77],\n",
              " ['8338A', 911],\n",
              " ['84648', 42],\n",
              " ['84843', 182],\n",
              " ['84847', 152],\n",
              " ['87447', 714],\n",
              " ['8822K', 466],\n",
              " ['88J66', 836],\n",
              " ['8JQ8Q', 528],\n",
              " ['8A228', 524],\n",
              " ['92T9T', 405],\n",
              " ['93322', 159],\n",
              " ['9559Q', 221],\n",
              " ['95922', 606],\n",
              " ['9595J', 300],\n",
              " ['96226', 168],\n",
              " ['96649', 210],\n",
              " ['9889Q', 620],\n",
              " ['98928', 998],\n",
              " ['98984', 393],\n",
              " ['99733', 222],\n",
              " ['9QJ9J', 1],\n",
              " ['9QQ9K', 430],\n",
              " ['T2332', 326],\n",
              " ['T2T66', 690],\n",
              " ['T44TJ', 252],\n",
              " ['TTA5A', 163],\n",
              " ['TJ99T', 505],\n",
              " ['TKT3K', 737],\n",
              " ['TAA6T', 587],\n",
              " ['TAAKK', 191],\n",
              " ['J2288', 684],\n",
              " ['J22AA', 554],\n",
              " ['J2772', 699],\n",
              " ['J2AAJ', 849],\n",
              " ['J3232', 416],\n",
              " ['J3J44', 233],\n",
              " ['J59J5', 382],\n",
              " ['J5AA5', 802],\n",
              " ['J622J', 247],\n",
              " ['J7QQ7', 865],\n",
              " ['J8QJ8', 474],\n",
              " ['JQ2Q2', 18],\n",
              " ['JKK66', 59],\n",
              " ['JKKQQ', 479],\n",
              " ['JA7A7', 712],\n",
              " ['Q454Q', 105],\n",
              " ['Q77KK', 643],\n",
              " ['Q7Q57', 769],\n",
              " ['QT9T9', 79],\n",
              " ['QQ828', 356],\n",
              " ['QQTTJ', 91],\n",
              " ['QQJ55', 139],\n",
              " ['QQJAA', 364],\n",
              " ['QKK3Q', 408],\n",
              " ['K3535', 86],\n",
              " ['K3K32', 95],\n",
              " ['K4994', 634],\n",
              " ['K55KT', 281],\n",
              " ['K66TT', 950],\n",
              " ['K7997', 207],\n",
              " ['K868K', 514],\n",
              " ['K885K', 982],\n",
              " ['K887K', 283],\n",
              " ['K922K', 936],\n",
              " ['KT5KT', 639],\n",
              " ['A22AT', 27],\n",
              " ['A28A2', 925],\n",
              " ['A2AK2', 288],\n",
              " ['A337A', 965],\n",
              " ['A4664', 230],\n",
              " ['A5Q5A', 413],\n",
              " ['A6T6T', 272],\n",
              " ['A6A33', 867],\n",
              " ['A88AT', 994],\n",
              " ['A93A3', 162],\n",
              " ['AJJ8A', 341],\n",
              " ['AQA4Q', 338],\n",
              " ['AA6KK', 931],\n",
              " ['22472', 8],\n",
              " ['2252J', 645],\n",
              " ['22T72', 238],\n",
              " ['22TQ2', 165],\n",
              " ['22JA2', 337],\n",
              " ['23733', 470],\n",
              " ['262A2', 89],\n",
              " ['27228', 837],\n",
              " ['272J2', 114],\n",
              " ['27774', 246],\n",
              " ['282A2', 916],\n",
              " ['2J555', 190],\n",
              " ['2Q722', 789],\n",
              " ['2A6AA', 214],\n",
              " ['2AA3A', 648],\n",
              " ['2AAAQ', 226],\n",
              " ['3332J', 935],\n",
              " ['34484', 770],\n",
              " ['34999', 592],\n",
              " ['34A33', 231],\n",
              " ['37K77', 853],\n",
              " ['383J3', 879],\n",
              " ['3TJTT', 956],\n",
              " ['3JT33', 275],\n",
              " ['3QQ9Q', 721],\n",
              " ['3K999', 782],\n",
              " ['43332', 30],\n",
              " ['44423', 605],\n",
              " ['4443A', 825],\n",
              " ['4464T', 743],\n",
              " ['44724', 724],\n",
              " ['44743', 943],\n",
              " ['44847', 949],\n",
              " ['44J4K', 622],\n",
              " ['44K24', 797],\n",
              " ['4555A', 880],\n",
              " ['494J4', 357],\n",
              " ['49544', 945],\n",
              " ['4T454', 859],\n",
              " ['4J424', 390],\n",
              " ['4QQJQ', 49],\n",
              " ['4KQQQ', 12],\n",
              " ['4A4T4', 206],\n",
              " ['53552', 877],\n",
              " ['54585', 680],\n",
              " ['54644', 242],\n",
              " ['55598', 576],\n",
              " ['555Q4', 522],\n",
              " ['555K6', 224],\n",
              " ['55T53', 520],\n",
              " ['55J53', 335],\n",
              " ['55J59', 507],\n",
              " ['55QJ5', 431],\n",
              " ['55K45', 20],\n",
              " ['56Q55', 821],\n",
              " ['57655', 109],\n",
              " ['58553', 715],\n",
              " ['58J88', 828],\n",
              " ['59575', 682],\n",
              " ['59A55', 368],\n",
              " ['5T55K', 649],\n",
              " ['5J5K5', 793],\n",
              " ['5QQQJ', 223],\n",
              " ['5AATA', 476],\n",
              " ['6222J', 78],\n",
              " ['62922', 442],\n",
              " ['63266', 731],\n",
              " ['63J33', 860],\n",
              " ['656Q6', 240],\n",
              " ['66642', 953],\n",
              " ['66692', 584],\n",
              " ['666T5', 71],\n",
              " ['666J2', 213],\n",
              " ['666J3', 301],\n",
              " ['6686K', 568],\n",
              " ['66J56', 144],\n",
              " ['66JQ6', 623],\n",
              " ['67636', 489],\n",
              " ['67662', 971],\n",
              " ['68266', 656],\n",
              " ['6QQ4Q', 358],\n",
              " ['6K3KK', 98],\n",
              " ['6AK66', 484],\n",
              " ['72778', 365],\n",
              " ['7377J', 70],\n",
              " ['774K7', 19],\n",
              " ['7772J', 544],\n",
              " ['777J9', 25],\n",
              " ['777A8', 615],\n",
              " ['77K72', 388],\n",
              " ['77K78', 296],\n",
              " ['7TTT4', 249],\n",
              " ['7JT77', 986],\n",
              " ['7QQQT', 56],\n",
              " ['7QQQA', 459],\n",
              " ['88382', 34],\n",
              " ['8848T', 969],\n",
              " ['88J83', 938],\n",
              " ['8J898', 424],\n",
              " ['8JK88', 896],\n",
              " ['8QTTT', 891],\n",
              " ['8QKQQ', 644],\n",
              " ['8A688', 979],\n",
              " ['92993', 674],\n",
              " ['93997', 779],\n",
              " ['95777', 972],\n",
              " ['95939', 171],\n",
              " ['96997', 533],\n",
              " ['97899', 46],\n",
              " ['97959', 218],\n",
              " ['979J9', 775],\n",
              " ['98788', 108],\n",
              " ['98868', 907],\n",
              " ['9939J', 625],\n",
              " ['994Q9', 73],\n",
              " ['9992J', 542],\n",
              " ['9993Q', 751],\n",
              " ['99Q95', 845],\n",
              " ['9JAAA', 149],\n",
              " ['9KJ99', 550],\n",
              " ['9AAAK', 237],\n",
              " ['T2777', 988],\n",
              " ['T2KTT', 703],\n",
              " ['T5888', 314],\n",
              " ['T5TJT', 342],\n",
              " ['T64TT', 193],\n",
              " ['T6663', 992],\n",
              " ['T7999', 826],\n",
              " ['T83TT', 621],\n",
              " ['T8JTT', 245],\n",
              " ['T9KKK', 82],\n",
              " ['TT4JT', 75],\n",
              " ['TT8T2', 402],\n",
              " ['TT9TJ', 14],\n",
              " ['TTT4Q', 303],\n",
              " ['TTJ6T', 324],\n",
              " ['TJKTT', 595],\n",
              " ['TQTT3', 854],\n",
              " ['TQTJT', 411],\n",
              " ['TA888', 794],\n",
              " ['TAT5T', 340],\n",
              " ['TAT6T', 235],\n",
              " ['J2922', 148],\n",
              " ['J3533', 710],\n",
              " ['J5444', 372],\n",
              " ['J5557', 277],\n",
              " ['J5558', 830],\n",
              " ['J77A7', 774],\n",
              " ['J8Q88', 468],\n",
              " ['J8KKK', 284],\n",
              " ['JJJ6Q', 217],\n",
              " ['JKK3K', 334],\n",
              " ['JKKTK', 573],\n",
              " ['Q3QQ7', 328],\n",
              " ['Q999J', 96],\n",
              " ['QTTTA', 293],\n",
              " ['QQ76Q', 730],\n",
              " ['QQT4Q', 267],\n",
              " ['QQQ45', 74],\n",
              " ['QQQ6J', 755],\n",
              " ['QKKAK', 103],\n",
              " ['K5KKT', 892],\n",
              " ['K79KK', 501],\n",
              " ['K7J77', 840],\n",
              " ['K8889', 909],\n",
              " ['K8A88', 441],\n",
              " ['K9KAK', 87],\n",
              " ['KJ6KK', 85],\n",
              " ['KJKQK', 582],\n",
              " ['KQTKK', 186],\n",
              " ['KK4KJ', 17],\n",
              " ['KKQ2K', 243],\n",
              " ['KKK74', 616],\n",
              " ['KAJAA', 422],\n",
              " ['KAK3K', 610],\n",
              " ['A2232', 922],\n",
              " ['A2888', 156],\n",
              " ['A3383', 24],\n",
              " ['A46AA', 60],\n",
              " ['A53AA', 348],\n",
              " ['A77K7', 295],\n",
              " ['A7999', 873],\n",
              " ['A7AAK', 371],\n",
              " ['A8AJA', 227],\n",
              " ['AT2TT', 803],\n",
              " ['AT3TT', 827],\n",
              " ['AKK6K', 917],\n",
              " ['AA5JA', 878],\n",
              " ['AA72A', 923],\n",
              " ['AAQJA', 432],\n",
              " ['AAA52', 527],\n",
              " ['222TT', 667],\n",
              " ['22662', 166],\n",
              " ['22992', 320],\n",
              " ['22J2J', 579],\n",
              " ['25522', 531],\n",
              " ['27722', 81],\n",
              " ['2QQQ2', 151],\n",
              " ['2A2AA', 354],\n",
              " ['33399', 754],\n",
              " ['33535', 759],\n",
              " ['33999', 256],\n",
              " ['33JJ3', 515],\n",
              " ['34334', 657],\n",
              " ['34434', 180],\n",
              " ['36663', 153],\n",
              " ['37737', 757],\n",
              " ['3KK33', 322],\n",
              " ['42442', 944],\n",
              " ['444QQ', 642],\n",
              " ['444AA', 294],\n",
              " ['44884', 937],\n",
              " ['45554', 525],\n",
              " ['46664', 178],\n",
              " ['47474', 438],\n",
              " ['4KKK4', 773],\n",
              " ['55252', 66],\n",
              " ['55444', 21],\n",
              " ['55666', 10],\n",
              " ['55858', 258],\n",
              " ['55888', 974],\n",
              " ['55995', 516],\n",
              " ['55Q5Q', 808],\n",
              " ['55A5A', 851],\n",
              " ['55AAA', 534],\n",
              " ['57577', 963],\n",
              " ['5K55K', 652],\n",
              " ['66262', 321],\n",
              " ['66444', 817],\n",
              " ['66555', 800],\n",
              " ['666JJ', 924],\n",
              " ['66969', 685],\n",
              " ['66QQQ', 44],\n",
              " ['67667', 694],\n",
              " ['72277', 309],\n",
              " ['74747', 733],\n",
              " ['76776', 842],\n",
              " ['77333', 52],\n",
              " ['777QQ', 951],\n",
              " ['77888', 671],\n",
              " ['79977', 126],\n",
              " ['7TTT7', 763],\n",
              " ['7J77J', 406],\n",
              " ['7AA77', 13],\n",
              " ['82282', 287],\n",
              " ['82288', 63],\n",
              " ['83338', 858],\n",
              " ['83388', 565],\n",
              " ['88666', 864],\n",
              " ['89988', 978],\n",
              " ['8QQ88', 718],\n",
              " ['8A8AA', 437],\n",
              " ['97979', 651],\n",
              " ['99595', 593],\n",
              " ['99669', 921],\n",
              " ['99922', 692],\n",
              " ['99988', 225],\n",
              " ['99QQQ', 776],\n",
              " ['99A9A', 771],\n",
              " ['9T9T9', 871],\n",
              " ['9JJ99', 904],\n",
              " ['T44TT', 451],\n",
              " ['T55TT', 862],\n",
              " ['T5T55', 861],\n",
              " ['T9TT9', 129],\n",
              " ['TT444', 16],\n",
              " ['TT777', 145],\n",
              " ['J3JJ3', 510],\n",
              " ['J44J4', 681],\n",
              " ['J5JJ5', 112],\n",
              " ['J8J88', 811],\n",
              " ['JQJQQ', 539],\n",
              " ['Q2Q22', 196],\n",
              " ['Q3Q33', 600],\n",
              " ['Q4Q4Q', 607],\n",
              " ['QTQQT', 23],\n",
              " ['QQAQA', 189],\n",
              " ['QQAAA', 987],\n",
              " ['QKKKQ', 785],\n",
              " ['K4K44', 117],\n",
              " ['K77K7', 834],\n",
              " ['K7KK7', 183],\n",
              " ['K99K9', 286],\n",
              " ['K99KK', 946],\n",
              " ['KK666', 490],\n",
              " ['KK6K6', 385],\n",
              " ['KKTKT', 158],\n",
              " ['KKJKJ', 486],\n",
              " ['KKK88', 701],\n",
              " ['A22A2', 29],\n",
              " ['A6A6A', 460],\n",
              " ['AAJAJ', 532],\n",
              " ['AAKAK', 121],\n",
              " ['22228', 995],\n",
              " ['2222A', 110],\n",
              " ['22262', 278],\n",
              " ['22272', 359],\n",
              " ['222J2', 374],\n",
              " ['222K2', 799],\n",
              " ['22322', 599],\n",
              " ['23333', 38],\n",
              " ['25222', 366],\n",
              " ['3333K', 930],\n",
              " ['33363', 585],\n",
              " ['33T33', 495],\n",
              " ['33J33', 113],\n",
              " ['36666', 618],\n",
              " ['37777', 627],\n",
              " ['44442', 450],\n",
              " ['4444Q', 905],\n",
              " ['44544', 725],\n",
              " ['44644', 118],\n",
              " ['44744', 197],\n",
              " ['44J44', 257],\n",
              " ['46666', 308],\n",
              " ['55554', 677],\n",
              " ['5555T', 613],\n",
              " ['55855', 332],\n",
              " ['55955', 807],\n",
              " ['55J55', 572],\n",
              " ['55Q55', 918],\n",
              " ['57555', 560],\n",
              " ['57777', 345],\n",
              " ['5QQQQ', 446],\n",
              " ['5K555', 204],\n",
              " ['5A555', 403],\n",
              " ['65555', 975],\n",
              " ['66665', 632],\n",
              " ['666T6', 282],\n",
              " ['66766', 869],\n",
              " ['66J66', 957],\n",
              " ['66A66', 588],\n",
              " ['77477', 2],\n",
              " ['77767', 888],\n",
              " ['7777J', 561],\n",
              " ['77A77', 612],\n",
              " ['78777', 462],\n",
              " ['79777', 273],\n",
              " ['7KKKK', 530],\n",
              " ['82888', 801],\n",
              " ['83333', 784],\n",
              " ['87888', 750],\n",
              " ['88488', 449],\n",
              " ['88858', 428],\n",
              " ['8888A', 898],\n",
              " ['88K88', 443],\n",
              " ['89888', 662],\n",
              " ['8KKKK', 473],\n",
              " ['98999', 150],\n",
              " ['99499', 209],\n",
              " ['99939', 668],\n",
              " ['99995', 143],\n",
              " ['999Q9', 824],\n",
              " ['999K9', 555],\n",
              " ['99J99', 57],\n",
              " ['9T999', 90],\n",
              " ['T7777', 83],\n",
              " ['TT3TT', 624],\n",
              " ['TT8TT', 471],\n",
              " ['TTT5T', 147],\n",
              " ['TTT6T', 285],\n",
              " ['TTTT7', 330],\n",
              " ['TTTTK', 989],\n",
              " ['J8888', 783],\n",
              " ['J8JJJ', 835],\n",
              " ['JTTTT', 260],\n",
              " ['Q3333', 521],\n",
              " ['QTTTT', 696],\n",
              " ['QTQQQ', 232],\n",
              " ['QJQQQ', 886],\n",
              " ['QQ3QQ', 458],\n",
              " ['QQ8QQ', 329],\n",
              " ['QQQ7Q', 317],\n",
              " ['QQQQ2', 929],\n",
              " ['QQQQ9', 487],\n",
              " ['QQQAQ', 299],\n",
              " ['QQKQQ', 713],\n",
              " ['K4KKK', 494],\n",
              " ['K5KKK', 518],\n",
              " ['K9KKK', 640],\n",
              " ['KJKKK', 319],\n",
              " ['KKK6K', 569],\n",
              " ['KKKTK', 619],\n",
              " ['KAKKK', 170],\n",
              " ['A4444', 395],\n",
              " ['AJAAA', 457],\n",
              " ['AA9AA', 289],\n",
              " ['AAAQA', 646],\n",
              " ['AAAA3', 266],\n",
              " ['AAAA5', 958],\n",
              " ['AAAAT', 391],\n",
              " ['AAAAK', 508],\n",
              " ['JJJJJ', 155]]"
            ]
          },
          "metadata": {},
          "execution_count": 423
        }
      ]
    },
    {
      "cell_type": "code",
      "source": [],
      "metadata": {
        "id": "dQb6OOQeKha5"
      },
      "execution_count": null,
      "outputs": []
    }
  ]
}